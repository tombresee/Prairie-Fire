{
  "nbformat": 4,
  "nbformat_minor": 0,
  "metadata": {
    "colab": {
      "name": "ApacheSpark_on_Colab_quickandfast",
      "provenance": [],
      "collapsed_sections": [
        "9LWXexpeL0Xp",
        "IKKGOp1bPGsP",
        "In-cepkvjUr4",
        "1TWBIElMBW6O",
        "CkwPUohiDScK",
        "pxfqjMORMsvB",
        "cxmBXyT8EJnL",
        "1JIzmMZily4Y",
        "Hq_2w3IMl6I7",
        "3iKNOYysEe-Q",
        "GL1SK-BdpC2a",
        "7I0GT7cB0n5S",
        "RizxW1z--_4V",
        "XvPG2gymGQrU",
        "T9OXKHFeE_2a",
        "XEuq27pGGOef",
        "de4nlPFcHIZO",
        "KlG6Dj4CI68o",
        "Mrk-wy6HJwwd",
        "kJTd2Zt4UV5E",
        "OA098YQcRZSc",
        "t6qqsJHNZeae",
        "Qm3SC_64a2SZ",
        "BdcfzXpbbX7U",
        "6ZaUWVUmcTzA",
        "qjQYfU3Zfgaw",
        "IB132PL33h6g",
        "jEQYgokY7m_1",
        "1nAXly2uI52F",
        "sRfhsJyRRCwL",
        "TZ49vM7C0RsB",
        "SzEX7YLAUVxA",
        "j_Mi39_sUrof",
        "BBlmq19VtoYx",
        "R4f_2sYq2B7a",
        "JR8xBCoO_-Md",
        "uupsl5w8lQ0t",
        "x_VIrOGT34mD",
        "QDG9KERmLFEQ"
      ],
      "authorship_tag": "ABX9TyN+dITeZD+Q19XIBtPt/3Zo",
      "include_colab_link": true
    },
    "kernelspec": {
      "name": "python3",
      "display_name": "Python 3"
    }
  },
  "cells": [
    {
      "cell_type": "markdown",
      "metadata": {
        "id": "view-in-github",
        "colab_type": "text"
      },
      "source": [
        "<a href=\"https://colab.research.google.com/github/tombresee/Prairie-Fire/blob/master/ApacheSpark_on_Colab_quickandfast.ipynb\" target=\"_parent\"><img src=\"https://colab.research.google.com/assets/colab-badge.svg\" alt=\"Open In Colab\"/></a>"
      ]
    },
    {
      "cell_type": "markdown",
      "metadata": {
        "id": "IKKGOp1bPGsP",
        "colab_type": "text"
      },
      "source": [
        "# Spark Environment on Colab:  "
      ]
    },
    {
      "cell_type": "markdown",
      "metadata": {
        "id": "K2WwdHt2_JcJ",
        "colab_type": "text"
      },
      "source": [
        "### Author:  Tom Bresee"
      ]
    },
    {
      "cell_type": "markdown",
      "metadata": {
        "id": "NoxQ_oAh_PFX",
        "colab_type": "text"
      },
      "source": [
        "<br>"
      ]
    },
    {
      "cell_type": "code",
      "metadata": {
        "id": "Y4xmY1KqXy_T",
        "colab_type": "code",
        "colab": {}
      },
      "source": [
        "#  Step 1:           !apt-get install openjdk-8-jdk-headless -qq > /dev/null\n",
        "!apt-get install openjdk-8-jdk-headless -qq > /dev/null"
      ],
      "execution_count": 0,
      "outputs": []
    },
    {
      "cell_type": "code",
      "metadata": {
        "id": "yAjzKylbCDH7",
        "colab_type": "code",
        "outputId": "8c11d04a-0163-4d95-dc3a-a4a5ab433660",
        "colab": {
          "base_uri": "https://localhost:8080/",
          "height": 254
        }
      },
      "source": [
        "!ls -l\n",
        "# at this point you should only see sample_data main folder..."
      ],
      "execution_count": 369,
      "outputs": [
        {
          "output_type": "stream",
          "text": [
            "total 459616\n",
            "-rw-r--r--  1 root root   2772143 Mar  7 21:35 diamonds.csv\n",
            "-rw-r--r--  1 root root   2772143 Mar  7 21:50 diamonds.csv.1\n",
            "drwx------  4 root root      4096 Mar  7 21:34 gdrive\n",
            "drwxr-xr-x  2 root root      4096 Mar  7 21:39 namesAndFavColors.parquet\n",
            "-rw-r--r--  1 root root        73 Mar  7 21:36 people.json\n",
            "-rw-r--r--  1 root root        73 Mar  7 21:50 people.json.1\n",
            "drwxr-xr-x  2 root root      4096 Mar  7 21:36 people.parquet\n",
            "drwxr-xr-x  1 root root      4096 Mar  3 18:11 sample_data\n",
            "drwxr-xr-x 13 1000 1000      4096 Feb  2 19:47 spark-2.4.5-bin-hadoop2.7\n",
            "-rw-r--r--  1 root root 232530699 Feb  2 20:27 spark-2.4.5-bin-hadoop2.7.tgz\n",
            "-rw-r--r--  1 root root 232530699 Feb  2 20:27 spark-2.4.5-bin-hadoop2.7.tgz.1\n",
            "drwxr-xr-x  2 root root      4096 Mar  7 21:36 spark-warehouse\n"
          ],
          "name": "stdout"
        }
      ]
    },
    {
      "cell_type": "code",
      "metadata": {
        "id": "1ShhkRaJCaLQ",
        "colab_type": "code",
        "colab": {}
      },
      "source": [
        "#  !rm spark-2.4.5-bin-hadoop2.7.tgz.1\n",
        "#  IF you need to remove anything, use this level of command..."
      ],
      "execution_count": 0,
      "outputs": []
    },
    {
      "cell_type": "code",
      "metadata": {
        "id": "1boxqiRSYVvZ",
        "colab_type": "code",
        "colab": {}
      },
      "source": [
        "#   Step 2:    !wget -q  https://www-us.apache.org/dist/spark/spark-2.4.5/spark-2.4.5-bin-hadoop2.7.tgz\n",
        "!wget -q  https://www-us.apache.org/dist/spark/spark-2.4.5/spark-2.4.5-bin-hadoop2.7.tgz"
      ],
      "execution_count": 0,
      "outputs": []
    },
    {
      "cell_type": "code",
      "metadata": {
        "colab_type": "code",
        "id": "OouxroUkYnR_",
        "colab": {}
      },
      "source": [
        "#   Step 3:    !tar xf spark-2.4.5-bin-hadoop2.7.tgz\n",
        "!tar xf spark-2.4.5-bin-hadoop2.7.tgz"
      ],
      "execution_count": 0,
      "outputs": []
    },
    {
      "cell_type": "code",
      "metadata": {
        "id": "ZJb9oxvVYnU6",
        "colab_type": "code",
        "colab": {}
      },
      "source": [
        "#   Step 4:    !pip install -q findspark\n",
        "!pip install -q findspark"
      ],
      "execution_count": 0,
      "outputs": []
    },
    {
      "cell_type": "code",
      "metadata": {
        "id": "8d3hITePYsJC",
        "colab_type": "code",
        "outputId": "8147fc1f-6d65-4dd4-cbaa-c26ad158a5ae",
        "colab": {
          "base_uri": "https://localhost:8080/",
          "height": 272
        }
      },
      "source": [
        "!ls -l "
      ],
      "execution_count": 374,
      "outputs": [
        {
          "output_type": "stream",
          "text": [
            "total 686700\n",
            "-rw-r--r--  1 root root   2772143 Mar  7 21:35 diamonds.csv\n",
            "-rw-r--r--  1 root root   2772143 Mar  7 21:50 diamonds.csv.1\n",
            "drwx------  4 root root      4096 Mar  7 21:34 gdrive\n",
            "drwxr-xr-x  2 root root      4096 Mar  7 21:39 namesAndFavColors.parquet\n",
            "-rw-r--r--  1 root root        73 Mar  7 21:36 people.json\n",
            "-rw-r--r--  1 root root        73 Mar  7 21:50 people.json.1\n",
            "drwxr-xr-x  2 root root      4096 Mar  7 21:36 people.parquet\n",
            "drwxr-xr-x  1 root root      4096 Mar  3 18:11 sample_data\n",
            "drwxr-xr-x 13 1000 1000      4096 Feb  2 19:47 spark-2.4.5-bin-hadoop2.7\n",
            "-rw-r--r--  1 root root 232530699 Feb  2 20:27 spark-2.4.5-bin-hadoop2.7.tgz\n",
            "-rw-r--r--  1 root root 232530699 Feb  2 20:27 spark-2.4.5-bin-hadoop2.7.tgz.1\n",
            "-rw-r--r--  1 root root 232530699 Feb  2 20:27 spark-2.4.5-bin-hadoop2.7.tgz.2\n",
            "drwxr-xr-x  2 root root      4096 Mar  7 21:36 spark-warehouse\n"
          ],
          "name": "stdout"
        }
      ]
    },
    {
      "cell_type": "code",
      "metadata": {
        "id": "CbntUic-fWsJ",
        "colab_type": "code",
        "outputId": "9c4b830c-3d51-4cfc-d6f0-f208fa52c560",
        "colab": {
          "base_uri": "https://localhost:8080/",
          "height": 54
        }
      },
      "source": [
        "#   Step 5:  !pip install pyspark\n",
        "!pip install pyspark"
      ],
      "execution_count": 375,
      "outputs": [
        {
          "output_type": "stream",
          "text": [
            "Requirement already satisfied: pyspark in /usr/local/lib/python3.6/dist-packages (2.4.5)\n",
            "Requirement already satisfied: py4j==0.10.7 in /usr/local/lib/python3.6/dist-packages (from pyspark) (0.10.7)\n"
          ],
          "name": "stdout"
        }
      ]
    },
    {
      "cell_type": "code",
      "metadata": {
        "id": "egtKLwi0C-kO",
        "colab_type": "code",
        "colab": {}
      },
      "source": [
        "#  HERE IS WHAT IT LOOKED LIKE:\n",
        "\n",
        "# Collecting pyspark\n",
        "#   Downloading https://files.pythonhosted.org/packages/87/21/f05c186f4ddb01d15d0ddc36ef4b7e3cedbeb6412274a41f26b55a650ee5/pyspark-2.4.4.tar.gz (215.7MB)\n",
        "#      |████████████████████████████████| 215.7MB 64kB/s \n",
        "# Collecting py4j==0.10.7\n",
        "#   Downloading https://files.pythonhosted.org/packages/e3/53/c737818eb9a7dc32a7cd4f1396e787bd94200c3997c72c1dbe028587bd76/py4j-0.10.7-py2.py3-none-any.whl (197kB)\n",
        "#      |████████████████████████████████| 204kB 57.1MB/s \n",
        "# Building wheels for collected packages: pyspark\n",
        "#   Building wheel for pyspark (setup.py) ... done\n",
        "#   Created wheel for pyspark: filename=pyspark-2.4.4-py2.py3-none-any.whl size=216130387 sha256=cac013fd0c315531dfcfaede5945772591909a51429227903d1b41ff7fd9f600\n",
        "#   Stored in directory: /root/.cache/pip/wheels/ab/09/4d/0d184230058e654eb1b04467dbc1292f00eaa186544604b471\n",
        "# Successfully built pyspark\n",
        "# Installing collected packages: py4j, pyspark\n",
        "# Successfully installed py4j-0.10.7 pyspark-2.4.4\n"
      ],
      "execution_count": 0,
      "outputs": []
    },
    {
      "cell_type": "code",
      "metadata": {
        "id": "qSvfU3bdLw-_",
        "colab_type": "code",
        "colab": {}
      },
      "source": [
        "#   Step 6:   Create the sparkconnection sc: \n",
        "#  you need to import the right libraries first below...     and then do this...  sc = spark.SparkCon"
      ],
      "execution_count": 0,
      "outputs": []
    },
    {
      "cell_type": "markdown",
      "metadata": {
        "id": "In-cepkvjUr4",
        "colab_type": "text"
      },
      "source": [
        "# Colab Specs:  "
      ]
    },
    {
      "cell_type": "code",
      "metadata": {
        "id": "VN9d4-BMPOPt",
        "colab_type": "code",
        "outputId": "cc44209e-51f8-49bf-9ea9-f2076a8ce0d2",
        "colab": {
          "base_uri": "https://localhost:8080/",
          "height": 217
        }
      },
      "source": [
        "!df -h"
      ],
      "execution_count": 377,
      "outputs": [
        {
          "output_type": "stream",
          "text": [
            "Filesystem      Size  Used Avail Use% Mounted on\n",
            "overlay         108G   31G   73G  30% /\n",
            "tmpfs            64M     0   64M   0% /dev\n",
            "tmpfs           6.4G     0  6.4G   0% /sys/fs/cgroup\n",
            "tmpfs           6.4G  8.0K  6.4G   1% /var/colab\n",
            "/dev/sda1       114G   32G   82G  29% /etc/hosts\n",
            "shm             6.0G  4.0K  6.0G   1% /dev/shm\n",
            "tmpfs           6.4G     0  6.4G   0% /proc/acpi\n",
            "tmpfs           6.4G     0  6.4G   0% /proc/scsi\n",
            "tmpfs           6.4G     0  6.4G   0% /sys/firmware\n",
            "drive            15G  6.1G  9.0G  41% /content/gdrive\n"
          ],
          "name": "stdout"
        }
      ]
    },
    {
      "cell_type": "code",
      "metadata": {
        "id": "NUIfzP26PRAR",
        "colab_type": "code",
        "outputId": "b139a406-7a13-4c99-b8bd-cfbf084cc092",
        "colab": {
          "base_uri": "https://localhost:8080/",
          "height": 1000
        }
      },
      "source": [
        "!cat /proc/cpuinfo"
      ],
      "execution_count": 378,
      "outputs": [
        {
          "output_type": "stream",
          "text": [
            "processor\t: 0\n",
            "vendor_id\t: GenuineIntel\n",
            "cpu family\t: 6\n",
            "model\t\t: 63\n",
            "model name\t: Intel(R) Xeon(R) CPU @ 2.30GHz\n",
            "stepping\t: 0\n",
            "microcode\t: 0x1\n",
            "cpu MHz\t\t: 2300.000\n",
            "cache size\t: 46080 KB\n",
            "physical id\t: 0\n",
            "siblings\t: 2\n",
            "core id\t\t: 0\n",
            "cpu cores\t: 1\n",
            "apicid\t\t: 0\n",
            "initial apicid\t: 0\n",
            "fpu\t\t: yes\n",
            "fpu_exception\t: yes\n",
            "cpuid level\t: 13\n",
            "wp\t\t: yes\n",
            "flags\t\t: fpu vme de pse tsc msr pae mce cx8 apic sep mtrr pge mca cmov pat pse36 clflush mmx fxsr sse sse2 ss ht syscall nx pdpe1gb rdtscp lm constant_tsc rep_good nopl xtopology nonstop_tsc cpuid tsc_known_freq pni pclmulqdq ssse3 fma cx16 pcid sse4_1 sse4_2 x2apic movbe popcnt aes xsave avx f16c rdrand hypervisor lahf_lm abm invpcid_single ssbd ibrs ibpb stibp fsgsbase tsc_adjust bmi1 avx2 smep bmi2 erms invpcid xsaveopt arat md_clear arch_capabilities\n",
            "bugs\t\t: cpu_meltdown spectre_v1 spectre_v2 spec_store_bypass l1tf mds swapgs\n",
            "bogomips\t: 4600.00\n",
            "clflush size\t: 64\n",
            "cache_alignment\t: 64\n",
            "address sizes\t: 46 bits physical, 48 bits virtual\n",
            "power management:\n",
            "\n",
            "processor\t: 1\n",
            "vendor_id\t: GenuineIntel\n",
            "cpu family\t: 6\n",
            "model\t\t: 63\n",
            "model name\t: Intel(R) Xeon(R) CPU @ 2.30GHz\n",
            "stepping\t: 0\n",
            "microcode\t: 0x1\n",
            "cpu MHz\t\t: 2300.000\n",
            "cache size\t: 46080 KB\n",
            "physical id\t: 0\n",
            "siblings\t: 2\n",
            "core id\t\t: 0\n",
            "cpu cores\t: 1\n",
            "apicid\t\t: 1\n",
            "initial apicid\t: 1\n",
            "fpu\t\t: yes\n",
            "fpu_exception\t: yes\n",
            "cpuid level\t: 13\n",
            "wp\t\t: yes\n",
            "flags\t\t: fpu vme de pse tsc msr pae mce cx8 apic sep mtrr pge mca cmov pat pse36 clflush mmx fxsr sse sse2 ss ht syscall nx pdpe1gb rdtscp lm constant_tsc rep_good nopl xtopology nonstop_tsc cpuid tsc_known_freq pni pclmulqdq ssse3 fma cx16 pcid sse4_1 sse4_2 x2apic movbe popcnt aes xsave avx f16c rdrand hypervisor lahf_lm abm invpcid_single ssbd ibrs ibpb stibp fsgsbase tsc_adjust bmi1 avx2 smep bmi2 erms invpcid xsaveopt arat md_clear arch_capabilities\n",
            "bugs\t\t: cpu_meltdown spectre_v1 spectre_v2 spec_store_bypass l1tf mds swapgs\n",
            "bogomips\t: 4600.00\n",
            "clflush size\t: 64\n",
            "cache_alignment\t: 64\n",
            "address sizes\t: 46 bits physical, 48 bits virtual\n",
            "power management:\n",
            "\n"
          ],
          "name": "stdout"
        }
      ]
    },
    {
      "cell_type": "code",
      "metadata": {
        "id": "Ilg_wDmVPRHS",
        "colab_type": "code",
        "outputId": "63dd1d4a-b5a0-422e-9161-9d8b42c1a6d5",
        "colab": {
          "base_uri": "https://localhost:8080/",
          "height": 835
        }
      },
      "source": [
        "!cat /proc/meminfo"
      ],
      "execution_count": 379,
      "outputs": [
        {
          "output_type": "stream",
          "text": [
            "MemTotal:       13335180 kB\n",
            "MemFree:         4516672 kB\n",
            "MemAvailable:   11712044 kB\n",
            "Buffers:           95304 kB\n",
            "Cached:          6986400 kB\n",
            "SwapCached:            0 kB\n",
            "Active:          2074268 kB\n",
            "Inactive:        6332924 kB\n",
            "Active(anon):    1166584 kB\n",
            "Inactive(anon):      320 kB\n",
            "Active(file):     907684 kB\n",
            "Inactive(file):  6332604 kB\n",
            "Unevictable:           0 kB\n",
            "Mlocked:               0 kB\n",
            "SwapTotal:             0 kB\n",
            "SwapFree:              0 kB\n",
            "Dirty:              1424 kB\n",
            "Writeback:            60 kB\n",
            "AnonPages:       1325532 kB\n",
            "Mapped:           294388 kB\n",
            "Shmem:               856 kB\n",
            "Slab:             313832 kB\n",
            "SReclaimable:     279976 kB\n",
            "SUnreclaim:        33856 kB\n",
            "KernelStack:        5328 kB\n",
            "PageTables:         8804 kB\n",
            "NFS_Unstable:          0 kB\n",
            "Bounce:                0 kB\n",
            "WritebackTmp:          0 kB\n",
            "CommitLimit:     6667588 kB\n",
            "Committed_AS:    4352232 kB\n",
            "VmallocTotal:   34359738367 kB\n",
            "VmallocUsed:           0 kB\n",
            "VmallocChunk:          0 kB\n",
            "AnonHugePages:         0 kB\n",
            "ShmemHugePages:        0 kB\n",
            "ShmemPmdMapped:        0 kB\n",
            "HugePages_Total:       0\n",
            "HugePages_Free:        0\n",
            "HugePages_Rsvd:        0\n",
            "HugePages_Surp:        0\n",
            "Hugepagesize:       2048 kB\n",
            "DirectMap4k:       73716 kB\n",
            "DirectMap2M:     5169152 kB\n",
            "DirectMap1G:    10485760 kB\n"
          ],
          "name": "stdout"
        }
      ]
    },
    {
      "cell_type": "code",
      "metadata": {
        "id": "LkP05IwSPRVS",
        "colab_type": "code",
        "colab": {}
      },
      "source": [
        "from psutil import *"
      ],
      "execution_count": 0,
      "outputs": []
    },
    {
      "cell_type": "code",
      "metadata": {
        "id": "2AveFdB3PRTC",
        "colab_type": "code",
        "outputId": "6fc87b24-f3f4-4abf-81a4-29d9fca337c5",
        "colab": {
          "base_uri": "https://localhost:8080/",
          "height": 35
        }
      },
      "source": [
        "cpu_count()"
      ],
      "execution_count": 381,
      "outputs": [
        {
          "output_type": "execute_result",
          "data": {
            "text/plain": [
              "2"
            ]
          },
          "metadata": {
            "tags": []
          },
          "execution_count": 381
        }
      ]
    },
    {
      "cell_type": "code",
      "metadata": {
        "id": "teaZmS_mPRPu",
        "colab_type": "code",
        "outputId": "43dfb4d3-86f5-4bfc-d7ab-b320422a197d",
        "colab": {
          "base_uri": "https://localhost:8080/",
          "height": 35
        }
      },
      "source": [
        "cpu_stats()"
      ],
      "execution_count": 382,
      "outputs": [
        {
          "output_type": "execute_result",
          "data": {
            "text/plain": [
              "scpustats(ctx_switches=2875338, interrupts=1578277, soft_interrupts=1292423, syscalls=0)"
            ]
          },
          "metadata": {
            "tags": []
          },
          "execution_count": 382
        }
      ]
    },
    {
      "cell_type": "code",
      "metadata": {
        "id": "k3Zq7g56PRNW",
        "colab_type": "code",
        "outputId": "cdd722cc-0c85-4e1f-b2a4-48a449b1617a",
        "colab": {
          "base_uri": "https://localhost:8080/",
          "height": 35
        }
      },
      "source": [
        "cpu_count()"
      ],
      "execution_count": 383,
      "outputs": [
        {
          "output_type": "execute_result",
          "data": {
            "text/plain": [
              "2"
            ]
          },
          "metadata": {
            "tags": []
          },
          "execution_count": 383
        }
      ]
    },
    {
      "cell_type": "code",
      "metadata": {
        "id": "rfmaIcGcPqhq",
        "colab_type": "code",
        "outputId": "2074b467-ddd3-49ed-c7e4-e793c00201f4",
        "colab": {
          "base_uri": "https://localhost:8080/",
          "height": 1000
        }
      },
      "source": [
        "!cat /proc/cpuinfo"
      ],
      "execution_count": 384,
      "outputs": [
        {
          "output_type": "stream",
          "text": [
            "processor\t: 0\n",
            "vendor_id\t: GenuineIntel\n",
            "cpu family\t: 6\n",
            "model\t\t: 63\n",
            "model name\t: Intel(R) Xeon(R) CPU @ 2.30GHz\n",
            "stepping\t: 0\n",
            "microcode\t: 0x1\n",
            "cpu MHz\t\t: 2300.000\n",
            "cache size\t: 46080 KB\n",
            "physical id\t: 0\n",
            "siblings\t: 2\n",
            "core id\t\t: 0\n",
            "cpu cores\t: 1\n",
            "apicid\t\t: 0\n",
            "initial apicid\t: 0\n",
            "fpu\t\t: yes\n",
            "fpu_exception\t: yes\n",
            "cpuid level\t: 13\n",
            "wp\t\t: yes\n",
            "flags\t\t: fpu vme de pse tsc msr pae mce cx8 apic sep mtrr pge mca cmov pat pse36 clflush mmx fxsr sse sse2 ss ht syscall nx pdpe1gb rdtscp lm constant_tsc rep_good nopl xtopology nonstop_tsc cpuid tsc_known_freq pni pclmulqdq ssse3 fma cx16 pcid sse4_1 sse4_2 x2apic movbe popcnt aes xsave avx f16c rdrand hypervisor lahf_lm abm invpcid_single ssbd ibrs ibpb stibp fsgsbase tsc_adjust bmi1 avx2 smep bmi2 erms invpcid xsaveopt arat md_clear arch_capabilities\n",
            "bugs\t\t: cpu_meltdown spectre_v1 spectre_v2 spec_store_bypass l1tf mds swapgs\n",
            "bogomips\t: 4600.00\n",
            "clflush size\t: 64\n",
            "cache_alignment\t: 64\n",
            "address sizes\t: 46 bits physical, 48 bits virtual\n",
            "power management:\n",
            "\n",
            "processor\t: 1\n",
            "vendor_id\t: GenuineIntel\n",
            "cpu family\t: 6\n",
            "model\t\t: 63\n",
            "model name\t: Intel(R) Xeon(R) CPU @ 2.30GHz\n",
            "stepping\t: 0\n",
            "microcode\t: 0x1\n",
            "cpu MHz\t\t: 2300.000\n",
            "cache size\t: 46080 KB\n",
            "physical id\t: 0\n",
            "siblings\t: 2\n",
            "core id\t\t: 0\n",
            "cpu cores\t: 1\n",
            "apicid\t\t: 1\n",
            "initial apicid\t: 1\n",
            "fpu\t\t: yes\n",
            "fpu_exception\t: yes\n",
            "cpuid level\t: 13\n",
            "wp\t\t: yes\n",
            "flags\t\t: fpu vme de pse tsc msr pae mce cx8 apic sep mtrr pge mca cmov pat pse36 clflush mmx fxsr sse sse2 ss ht syscall nx pdpe1gb rdtscp lm constant_tsc rep_good nopl xtopology nonstop_tsc cpuid tsc_known_freq pni pclmulqdq ssse3 fma cx16 pcid sse4_1 sse4_2 x2apic movbe popcnt aes xsave avx f16c rdrand hypervisor lahf_lm abm invpcid_single ssbd ibrs ibpb stibp fsgsbase tsc_adjust bmi1 avx2 smep bmi2 erms invpcid xsaveopt arat md_clear arch_capabilities\n",
            "bugs\t\t: cpu_meltdown spectre_v1 spectre_v2 spec_store_bypass l1tf mds swapgs\n",
            "bogomips\t: 4600.00\n",
            "clflush size\t: 64\n",
            "cache_alignment\t: 64\n",
            "address sizes\t: 46 bits physical, 48 bits virtual\n",
            "power management:\n",
            "\n"
          ],
          "name": "stdout"
        }
      ]
    },
    {
      "cell_type": "code",
      "metadata": {
        "id": "0lhIIj6EPqep",
        "colab_type": "code",
        "outputId": "5c192e5a-aa9a-409f-88bb-d98b955c5cfa",
        "colab": {
          "base_uri": "https://localhost:8080/",
          "height": 35
        }
      },
      "source": [
        "virtual_memory()"
      ],
      "execution_count": 385,
      "outputs": [
        {
          "output_type": "execute_result",
          "data": {
            "text/plain": [
              "svmem(total=13655224320, available=11996643328, percent=12.1, used=1488269312, free=4628156416, active=2123067392, inactive=6485180416, buffers=97804288, cached=7440994304, shared=876544, slab=321323008)"
            ]
          },
          "metadata": {
            "tags": []
          },
          "execution_count": 385
        }
      ]
    },
    {
      "cell_type": "code",
      "metadata": {
        "id": "v4b1v7i2P8rV",
        "colab_type": "code",
        "outputId": "35d35c1b-e648-444f-f364-75d8e2885211",
        "colab": {
          "base_uri": "https://localhost:8080/",
          "height": 54
        }
      },
      "source": [
        "#GPU count and name\n",
        "!nvidia-smi -L"
      ],
      "execution_count": 386,
      "outputs": [
        {
          "output_type": "stream",
          "text": [
            "NVIDIA-SMI has failed because it couldn't communicate with the NVIDIA driver. Make sure that the latest NVIDIA driver is installed and running.\n",
            "\n"
          ],
          "name": "stdout"
        }
      ]
    },
    {
      "cell_type": "code",
      "metadata": {
        "id": "CPi0eUXjP8pF",
        "colab_type": "code",
        "outputId": "03c1b139-5647-4f32-a5b1-20e8dac56eb4",
        "colab": {
          "base_uri": "https://localhost:8080/",
          "height": 35
        }
      },
      "source": [
        "!lscpu |grep 'Model name'"
      ],
      "execution_count": 387,
      "outputs": [
        {
          "output_type": "stream",
          "text": [
            "Model name:          Intel(R) Xeon(R) CPU @ 2.30GHz\n"
          ],
          "name": "stdout"
        }
      ]
    },
    {
      "cell_type": "code",
      "metadata": {
        "id": "8Gkkx76BP8mL",
        "colab_type": "code",
        "outputId": "ee0b50b9-a04e-4f49-8f61-38c19693ddc1",
        "colab": {
          "base_uri": "https://localhost:8080/",
          "height": 35
        }
      },
      "source": [
        "#no.of sockets i.e available slots for physical processors\n",
        "!lscpu | grep 'Socket(s):'"
      ],
      "execution_count": 388,
      "outputs": [
        {
          "output_type": "stream",
          "text": [
            "Socket(s):           1\n"
          ],
          "name": "stdout"
        }
      ]
    },
    {
      "cell_type": "code",
      "metadata": {
        "id": "Ekv-CmLHP8jL",
        "colab_type": "code",
        "outputId": "546929bd-ca89-4b84-9542-ca7c451f3bea",
        "colab": {
          "base_uri": "https://localhost:8080/",
          "height": 35
        }
      },
      "source": [
        "#no.of cores each processor is having \n",
        "!lscpu | grep 'Core(s) per socket:'"
      ],
      "execution_count": 389,
      "outputs": [
        {
          "output_type": "stream",
          "text": [
            "Core(s) per socket:  1\n"
          ],
          "name": "stdout"
        }
      ]
    },
    {
      "cell_type": "code",
      "metadata": {
        "id": "6TOqTJDdP8gN",
        "colab_type": "code",
        "outputId": "e219629a-1720-4915-a579-94f9c44c5d95",
        "colab": {
          "base_uri": "https://localhost:8080/",
          "height": 35
        }
      },
      "source": [
        "#no.of threads each core is having\n",
        "!lscpu | grep 'Thread(s) per core'"
      ],
      "execution_count": 390,
      "outputs": [
        {
          "output_type": "stream",
          "text": [
            "Thread(s) per core:  2\n"
          ],
          "name": "stdout"
        }
      ]
    },
    {
      "cell_type": "code",
      "metadata": {
        "id": "6AQ36AwVQIQT",
        "colab_type": "code",
        "outputId": "d198143f-a8e6-4241-e5c9-10cda52493c9",
        "colab": {
          "base_uri": "https://localhost:8080/",
          "height": 35
        }
      },
      "source": [
        "#memory that we can use\n",
        "!cat /proc/meminfo | grep 'MemAvailable'"
      ],
      "execution_count": 391,
      "outputs": [
        {
          "output_type": "stream",
          "text": [
            "MemAvailable:   11709244 kB\n"
          ],
          "name": "stdout"
        }
      ]
    },
    {
      "cell_type": "code",
      "metadata": {
        "id": "fnQuh1vEQINm",
        "colab_type": "code",
        "outputId": "b0b8718f-6617-4d28-af5a-f377fb3fc240",
        "colab": {
          "base_uri": "https://localhost:8080/",
          "height": 54
        }
      },
      "source": [
        "#hard disk that we can use\n",
        "!df -h / | awk '{print $4}'"
      ],
      "execution_count": 392,
      "outputs": [
        {
          "output_type": "stream",
          "text": [
            "Avail\n",
            "73G\n"
          ],
          "name": "stdout"
        }
      ]
    },
    {
      "cell_type": "markdown",
      "metadata": {
        "id": "1TWBIElMBW6O",
        "colab_type": "text"
      },
      "source": [
        "# Start Here - Creating Session  (including the steps A - E for initialization): "
      ]
    },
    {
      "cell_type": "code",
      "metadata": {
        "id": "qq_tfkGcfYvR",
        "colab_type": "code",
        "colab": {}
      },
      "source": [
        "#  Step A: \n",
        "\n",
        "import os\n",
        "os.environ[\"JAVA_HOME\"] = \"/usr/lib/jvm/java-8-openjdk-amd64\"\n",
        "os.environ[\"SPARK_HOME\"] = \"/content/spark-2.4.5-bin-hadoop2.7\"\n"
      ],
      "execution_count": 0,
      "outputs": []
    },
    {
      "cell_type": "code",
      "metadata": {
        "id": "K24_4pHyfkTQ",
        "colab_type": "code",
        "outputId": "98ce3b7b-b459-4101-cd80-4610f8eec089",
        "colab": {
          "base_uri": "https://localhost:8080/",
          "height": 35
        }
      },
      "source": [
        "#  Step B: \n",
        "\n",
        "# Point Colaboratory to your Google Drive  (maybe not need?)\n",
        "\n",
        "from google.colab import drive\n",
        "drive.mount('/content/gdrive')\n"
      ],
      "execution_count": 394,
      "outputs": [
        {
          "output_type": "stream",
          "text": [
            "Drive already mounted at /content/gdrive; to attempt to forcibly remount, call drive.mount(\"/content/gdrive\", force_remount=True).\n"
          ],
          "name": "stdout"
        }
      ]
    },
    {
      "cell_type": "markdown",
      "metadata": {
        "id": "tP_s0YGv_9wR",
        "colab_type": "text"
      },
      "source": [
        "# STOP AND READ:  YOU WILL NEED TO ENTER YOUR KEY ABOVE.  THEN YOU WILL NEED TO GO UP TO THE TOP TAB, CLICK 'RUNTIME', AND THEN CLICK 'Run After' BECAUSE THE CODE KEPT TRYING TO EXECUTE, but since your key wasn't entered at that point, the below cells will exhibit issues.  Its expected.  \n",
        "\n",
        "\n",
        "Second way:  or you can enter your key, make sure it works, and **then** go to the top and click 'Runtime' and then 'Run All', and it should all work.  I like the second way, its easier... "
      ]
    },
    {
      "cell_type": "code",
      "metadata": {
        "id": "yITDDk_qfqRg",
        "colab_type": "code",
        "colab": {}
      },
      "source": [
        "# Download datasets directly to your Google Drive \"Colab Datasets\" folder\n",
        "\n",
        "# import requests\n",
        "\n",
        "# # 2007 data\n",
        "\n",
        "# file_url = \"http://stat-computing.org/dataexpo/2009/2007.csv.bz2\"\n",
        "\n",
        "# r = requests.get(file_url, stream = True) \n",
        "\n",
        "# with open(\"/content/gdrive/My Drive/Colab Datasets/2007.csv.bz2\", \"wb\") as file: \n",
        "# \tfor block in r.iter_content(chunk_size = 1024): \n",
        "# \t\tif block: \n",
        "# \t\t\tfile.write(block)\n",
        "\n",
        "# # 2008 data\n",
        "\n",
        "# file_url = \"http://stat-computing.org/dataexpo/2009/2008.csv.bz2\"\n",
        "\n",
        "# r = requests.get(file_url, stream = True) \n",
        "\n",
        "# with open(\"/content/gdrive/My Drive/Colab Datasets/2008.csv.bz2\", \"wb\") as file: \n",
        "# \tfor block in r.iter_content(chunk_size = 1024): \n",
        "# \t\tif block: \n",
        "# \t\t\tfile.write(block)"
      ],
      "execution_count": 0,
      "outputs": []
    },
    {
      "cell_type": "code",
      "metadata": {
        "id": "jJXijD48fzxx",
        "colab_type": "code",
        "colab": {}
      },
      "source": [
        "#  Step C: \n",
        "\n",
        "# YOUR CORE LIBRARIES ! ! ! ! ! ! \n",
        "\n",
        "# Tools we need to connect to the Spark server, load our data,\n",
        "# clean it and prepare it\n",
        "# start here: \n",
        "\n",
        "# big boys: \n",
        "\n",
        "from pyspark import SparkContext         # this is sc  \n",
        "\n",
        "from pyspark.sql import SparkSession     # this is 'spark' entity \n",
        "\n",
        "# from pyspark.sql.functions import *      # need this ? \n",
        "\n",
        "# boys: \n",
        "from pyspark.ml import Pipeline\n",
        "from pyspark.ml.classification import RandomForestClassifier\n",
        "from pyspark.ml.feature import IndexToString, StringIndexer, VectorIndexer, VectorAssembler\n",
        "from pyspark.ml.evaluation import MulticlassClassificationEvaluator\n",
        "# funcs: \n",
        "from pyspark.sql.functions import isnan, when, count, col\n",
        "\n",
        "\n"
      ],
      "execution_count": 0,
      "outputs": []
    },
    {
      "cell_type": "code",
      "metadata": {
        "id": "9fZMicoY7HN1",
        "colab_type": "code",
        "colab": {}
      },
      "source": [
        "# Step D:  Breathe "
      ],
      "execution_count": 0,
      "outputs": []
    },
    {
      "cell_type": "code",
      "metadata": {
        "id": "3P9tOsuZgKag",
        "colab_type": "code",
        "colab": {}
      },
      "source": [
        "\n",
        "#  Step E:\n",
        "\n",
        "# initiating spark on colab...\n",
        "\n",
        "# although if you had clusters you could create it in another manner...\n",
        "SPARK_URL = \"local[*]\"\n",
        "APP_NAME = 'Spark_App_Oscar_Mike'\n",
        "\n",
        "\n",
        "spark = SparkSession.builder.appName(APP_NAME).master(SPARK_URL).getOrCreate()\n",
        "\n",
        "# could have added:     .config(\"spark.some.config.option\", \"some-value\")\n",
        "\n",
        "\n",
        "# review:  \n",
        "#   - \n",
        "#  normally you create according to apache spark examples github home like this: \n",
        "#\n",
        "#   spark = SparkSession\\\n",
        "#          .builder\\\n",
        "#          .appName(\"PythonPi\")\\\n",
        "#          .getOrCreate()\n",
        "#\n",
        "#\n"
      ],
      "execution_count": 0,
      "outputs": []
    },
    {
      "cell_type": "code",
      "metadata": {
        "id": "YR-h4uyggYQg",
        "colab_type": "code",
        "colab": {}
      },
      "source": [
        "# holder:  spark = SparkSession.builder.appName(APP_NAME).master(SPARK_URL).getOrCreate()"
      ],
      "execution_count": 0,
      "outputs": []
    },
    {
      "cell_type": "code",
      "metadata": {
        "id": "h5jzMzjGgkVo",
        "colab_type": "code",
        "outputId": "813846b5-73cf-4bee-a8fe-d0d6826e1506",
        "colab": {
          "base_uri": "https://localhost:8080/",
          "height": 221
        }
      },
      "source": [
        "#  Step F:  Confirming SparkSession (spark) is physically up...\n",
        "\n",
        "spark"
      ],
      "execution_count": 400,
      "outputs": [
        {
          "output_type": "execute_result",
          "data": {
            "text/html": [
              "\n",
              "            <div>\n",
              "                <p><b>SparkSession - in-memory</b></p>\n",
              "                \n",
              "        <div>\n",
              "            <p><b>SparkContext</b></p>\n",
              "\n",
              "            <p><a href=\"http://cda650117577:4040\">Spark UI</a></p>\n",
              "\n",
              "            <dl>\n",
              "              <dt>Version</dt>\n",
              "                <dd><code>v2.4.5</code></dd>\n",
              "              <dt>Master</dt>\n",
              "                <dd><code>local[*]</code></dd>\n",
              "              <dt>AppName</dt>\n",
              "                <dd><code>Spark_App_Oscar_Mike</code></dd>\n",
              "            </dl>\n",
              "        </div>\n",
              "        \n",
              "            </div>\n",
              "        "
            ],
            "text/plain": [
              "<pyspark.sql.session.SparkSession at 0x7fdc86998b70>"
            ]
          },
          "metadata": {
            "tags": []
          },
          "execution_count": 400
        }
      ]
    },
    {
      "cell_type": "code",
      "metadata": {
        "id": "LPAk5DXQKlT_",
        "colab_type": "code",
        "outputId": "808d4c39-41f4-44b8-952a-62a15ed0ab52",
        "colab": {
          "base_uri": "https://localhost:8080/",
          "height": 198
        }
      },
      "source": [
        "\n",
        "#  Step G:   Creating the sc session...\n",
        "\n",
        "sc = spark.sparkContext\n",
        "\n",
        "#  Confirming SparkContext sc: \n",
        "sc\n"
      ],
      "execution_count": 401,
      "outputs": [
        {
          "output_type": "execute_result",
          "data": {
            "text/html": [
              "\n",
              "        <div>\n",
              "            <p><b>SparkContext</b></p>\n",
              "\n",
              "            <p><a href=\"http://cda650117577:4040\">Spark UI</a></p>\n",
              "\n",
              "            <dl>\n",
              "              <dt>Version</dt>\n",
              "                <dd><code>v2.4.5</code></dd>\n",
              "              <dt>Master</dt>\n",
              "                <dd><code>local[*]</code></dd>\n",
              "              <dt>AppName</dt>\n",
              "                <dd><code>Spark_App_Oscar_Mike</code></dd>\n",
              "            </dl>\n",
              "        </div>\n",
              "        "
            ],
            "text/plain": [
              "<SparkContext master=local[*] appName=Spark_App_Oscar_Mike>"
            ]
          },
          "metadata": {
            "tags": []
          },
          "execution_count": 401
        }
      ]
    },
    {
      "cell_type": "code",
      "metadata": {
        "id": "IBZFBD7Wg7Fo",
        "colab_type": "code",
        "outputId": "46231852-8adf-491d-e11b-72ae6b6861ca",
        "colab": {
          "base_uri": "https://localhost:8080/",
          "height": 55
        }
      },
      "source": [
        "print(os.environ)"
      ],
      "execution_count": 403,
      "outputs": [
        {
          "output_type": "stream",
          "text": [
            "environ({'ENV': '/root/.bashrc', 'GCS_READ_CACHE_BLOCK_SIZE_MB': '16', 'CLOUDSDK_CONFIG': '/content/.config', 'CUDA_VERSION': '10.1.243', 'PATH': '/usr/local/nvidia/bin:/usr/local/cuda/bin:/usr/local/sbin:/usr/local/bin:/usr/sbin:/usr/bin:/sbin:/bin:/tools/node/bin:/tools/google-cloud-sdk/bin:/opt/bin', 'HOME': '/root', 'LD_LIBRARY_PATH': '/usr/local/nvidia/lib:/usr/local/nvidia/lib64', 'LANG': 'en_US.UTF-8', 'SHELL': '/bin/bash', 'LIBRARY_PATH': '/usr/local/cuda/lib64/stubs', 'CUDA_PKG_VERSION': '10-1=10.1.243-1', 'SHLVL': '1', 'GCE_METADATA_TIMEOUT': '0', 'NCCL_VERSION': '2.4.8', 'NVIDIA_VISIBLE_DEVICES': 'all', 'TF_FORCE_GPU_ALLOW_GROWTH': 'true', 'DEBIAN_FRONTEND': 'noninteractive', 'CUDNN_VERSION': '7.6.5.32', 'LAST_FORCED_REBUILD': '20200302', 'JPY_PARENT_PID': '18', 'PYTHONPATH': '/env/python', 'DATALAB_SETTINGS_OVERRIDES': '{\"kernelManagerProxyPort\":6000,\"kernelManagerProxyHost\":\"172.28.0.3\",\"jupyterArgs\":[\"--ip=\\\\\"172.28.0.2\\\\\"\"]}', 'NO_GCE_CHECK': 'True', 'GLIBCXX_FORCE_NEW': '1', 'NVIDIA_DRIVER_CAPABILITIES': 'compute,utility', '_': '/tools/node/bin/node', 'LD_PRELOAD': '/usr/lib/x86_64-linux-gnu/libtcmalloc.so.4', 'NVIDIA_REQUIRE_CUDA': 'cuda>=10.1 brand=tesla,driver>=384,driver<385 brand=tesla,driver>=396,driver<397 brand=tesla,driver>=410,driver<411', 'OLDPWD': '/', 'HOSTNAME': 'cda650117577', 'COLAB_GPU': '0', 'PWD': '/', 'GLIBCPP_FORCE_NEW': '1', 'PYTHONWARNINGS': 'ignore:::pip._internal.cli.base_command', 'TBE_CREDS_ADDR': '172.28.0.1:8008', 'TERM': 'xterm-color', 'CLICOLOR': '1', 'PAGER': 'cat', 'GIT_PAGER': 'cat', 'MPLBACKEND': 'module://ipykernel.pylab.backend_inline', 'JAVA_HOME': '/usr/lib/jvm/java-8-openjdk-amd64', 'SPARK_HOME': '/content/spark-2.4.5-bin-hadoop2.7', 'PYSPARK_PYTHON': '/usr/bin/python3'})\n"
          ],
          "name": "stdout"
        }
      ]
    },
    {
      "cell_type": "code",
      "metadata": {
        "id": "LOUMT_rjhHHQ",
        "colab_type": "code",
        "outputId": "ba5b031b-ed83-4350-deb0-40f63ef6398e",
        "colab": {
          "base_uri": "https://localhost:8080/",
          "height": 272
        }
      },
      "source": [
        "!ls -l"
      ],
      "execution_count": 404,
      "outputs": [
        {
          "output_type": "stream",
          "text": [
            "total 686700\n",
            "-rw-r--r--  1 root root   2772143 Mar  7 21:35 diamonds.csv\n",
            "-rw-r--r--  1 root root   2772143 Mar  7 21:50 diamonds.csv.1\n",
            "drwx------  4 root root      4096 Mar  7 21:34 gdrive\n",
            "drwxr-xr-x  2 root root      4096 Mar  7 21:39 namesAndFavColors.parquet\n",
            "-rw-r--r--  1 root root        73 Mar  7 21:36 people.json\n",
            "-rw-r--r--  1 root root        73 Mar  7 21:50 people.json.1\n",
            "drwxr-xr-x  2 root root      4096 Mar  7 21:36 people.parquet\n",
            "drwxr-xr-x  1 root root      4096 Mar  3 18:11 sample_data\n",
            "drwxr-xr-x 13 1000 1000      4096 Feb  2 19:47 spark-2.4.5-bin-hadoop2.7\n",
            "-rw-r--r--  1 root root 232530699 Feb  2 20:27 spark-2.4.5-bin-hadoop2.7.tgz\n",
            "-rw-r--r--  1 root root 232530699 Feb  2 20:27 spark-2.4.5-bin-hadoop2.7.tgz.1\n",
            "-rw-r--r--  1 root root 232530699 Feb  2 20:27 spark-2.4.5-bin-hadoop2.7.tgz.2\n",
            "drwxr-xr-x  2 root root      4096 Mar  7 21:36 spark-warehouse\n"
          ],
          "name": "stdout"
        }
      ]
    },
    {
      "cell_type": "code",
      "metadata": {
        "id": "934RYrpXhzzN",
        "colab_type": "code",
        "outputId": "a09d082c-b87b-4802-ad16-fc48c89a58d9",
        "colab": {
          "base_uri": "https://localhost:8080/",
          "height": 35
        }
      },
      "source": [
        "!pwd"
      ],
      "execution_count": 405,
      "outputs": [
        {
          "output_type": "stream",
          "text": [
            "/content\n"
          ],
          "name": "stdout"
        }
      ]
    },
    {
      "cell_type": "code",
      "metadata": {
        "id": "qjNrdQ2Bh1s-",
        "colab_type": "code",
        "outputId": "12f4845e-f11e-4723-ac3f-45bd4a2b92e7",
        "colab": {
          "base_uri": "https://localhost:8080/",
          "height": 308
        }
      },
      "source": [
        "#  Step F:  How to download dataset data onto your drive/console\n",
        "\n",
        "!wget https://github.com/tidyverse/ggplot2/raw/master/data-raw/diamonds.csv"
      ],
      "execution_count": 406,
      "outputs": [
        {
          "output_type": "stream",
          "text": [
            "--2020-03-07 21:54:04--  https://github.com/tidyverse/ggplot2/raw/master/data-raw/diamonds.csv\n",
            "Resolving github.com (github.com)... 140.82.114.3\n",
            "Connecting to github.com (github.com)|140.82.114.3|:443... connected.\n",
            "HTTP request sent, awaiting response... 302 Found\n",
            "Location: https://raw.githubusercontent.com/tidyverse/ggplot2/master/data-raw/diamonds.csv [following]\n",
            "--2020-03-07 21:54:05--  https://raw.githubusercontent.com/tidyverse/ggplot2/master/data-raw/diamonds.csv\n",
            "Resolving raw.githubusercontent.com (raw.githubusercontent.com)... 151.101.0.133, 151.101.64.133, 151.101.128.133, ...\n",
            "Connecting to raw.githubusercontent.com (raw.githubusercontent.com)|151.101.0.133|:443... connected.\n",
            "HTTP request sent, awaiting response... 200 OK\n",
            "Length: 2772143 (2.6M) [text/plain]\n",
            "Saving to: ‘diamonds.csv.2’\n",
            "\n",
            "diamonds.csv.2      100%[===================>]   2.64M  15.7MB/s    in 0.2s    \n",
            "\n",
            "2020-03-07 21:54:05 (15.7 MB/s) - ‘diamonds.csv.2’ saved [2772143/2772143]\n",
            "\n"
          ],
          "name": "stdout"
        }
      ]
    },
    {
      "cell_type": "code",
      "metadata": {
        "id": "quB61GKbiHGl",
        "colab_type": "code",
        "outputId": "a2e0e464-477d-49e8-acd1-0bcd357ec2ec",
        "colab": {
          "base_uri": "https://localhost:8080/",
          "height": 290
        }
      },
      "source": [
        "!ls -l\n",
        "\n",
        "# do you see diamonds ?  :) "
      ],
      "execution_count": 407,
      "outputs": [
        {
          "output_type": "stream",
          "text": [
            "total 689408\n",
            "-rw-r--r--  1 root root   2772143 Mar  7 21:35 diamonds.csv\n",
            "-rw-r--r--  1 root root   2772143 Mar  7 21:50 diamonds.csv.1\n",
            "-rw-r--r--  1 root root   2772143 Mar  7 21:54 diamonds.csv.2\n",
            "drwx------  4 root root      4096 Mar  7 21:34 gdrive\n",
            "drwxr-xr-x  2 root root      4096 Mar  7 21:39 namesAndFavColors.parquet\n",
            "-rw-r--r--  1 root root        73 Mar  7 21:36 people.json\n",
            "-rw-r--r--  1 root root        73 Mar  7 21:50 people.json.1\n",
            "drwxr-xr-x  2 root root      4096 Mar  7 21:36 people.parquet\n",
            "drwxr-xr-x  1 root root      4096 Mar  3 18:11 sample_data\n",
            "drwxr-xr-x 13 1000 1000      4096 Feb  2 19:47 spark-2.4.5-bin-hadoop2.7\n",
            "-rw-r--r--  1 root root 232530699 Feb  2 20:27 spark-2.4.5-bin-hadoop2.7.tgz\n",
            "-rw-r--r--  1 root root 232530699 Feb  2 20:27 spark-2.4.5-bin-hadoop2.7.tgz.1\n",
            "-rw-r--r--  1 root root 232530699 Feb  2 20:27 spark-2.4.5-bin-hadoop2.7.tgz.2\n",
            "drwxr-xr-x  2 root root      4096 Mar  7 21:36 spark-warehouse\n"
          ],
          "name": "stdout"
        }
      ]
    },
    {
      "cell_type": "code",
      "metadata": {
        "id": "_Wb7Uqv6iIZk",
        "colab_type": "code",
        "colab": {}
      },
      "source": [
        "import requests"
      ],
      "execution_count": 0,
      "outputs": []
    },
    {
      "cell_type": "code",
      "metadata": {
        "id": "0p-bSNeBiM9c",
        "colab_type": "code",
        "colab": {}
      },
      "source": [
        "#  you can also do it like this as well for file download:\n",
        "\n",
        "#    file_url = \"https://github.com/tidyverse/ggplot2/raw/master/data-raw/diamonds.csv\" \n",
        "\n",
        "#    r = requests.get(file_url, stream = True) "
      ],
      "execution_count": 0,
      "outputs": []
    },
    {
      "cell_type": "code",
      "metadata": {
        "id": "hdKLgO6riVTM",
        "colab_type": "code",
        "outputId": "7407aade-536b-4e20-9ae0-2556b3a31459",
        "colab": {
          "base_uri": "https://localhost:8080/",
          "height": 290
        }
      },
      "source": [
        "!ls -l"
      ],
      "execution_count": 410,
      "outputs": [
        {
          "output_type": "stream",
          "text": [
            "total 689408\n",
            "-rw-r--r--  1 root root   2772143 Mar  7 21:35 diamonds.csv\n",
            "-rw-r--r--  1 root root   2772143 Mar  7 21:50 diamonds.csv.1\n",
            "-rw-r--r--  1 root root   2772143 Mar  7 21:54 diamonds.csv.2\n",
            "drwx------  4 root root      4096 Mar  7 21:34 gdrive\n",
            "drwxr-xr-x  2 root root      4096 Mar  7 21:39 namesAndFavColors.parquet\n",
            "-rw-r--r--  1 root root        73 Mar  7 21:36 people.json\n",
            "-rw-r--r--  1 root root        73 Mar  7 21:50 people.json.1\n",
            "drwxr-xr-x  2 root root      4096 Mar  7 21:36 people.parquet\n",
            "drwxr-xr-x  1 root root      4096 Mar  3 18:11 sample_data\n",
            "drwxr-xr-x 13 1000 1000      4096 Feb  2 19:47 spark-2.4.5-bin-hadoop2.7\n",
            "-rw-r--r--  1 root root 232530699 Feb  2 20:27 spark-2.4.5-bin-hadoop2.7.tgz\n",
            "-rw-r--r--  1 root root 232530699 Feb  2 20:27 spark-2.4.5-bin-hadoop2.7.tgz.1\n",
            "-rw-r--r--  1 root root 232530699 Feb  2 20:27 spark-2.4.5-bin-hadoop2.7.tgz.2\n",
            "drwxr-xr-x  2 root root      4096 Mar  7 21:36 spark-warehouse\n"
          ],
          "name": "stdout"
        }
      ]
    },
    {
      "cell_type": "code",
      "metadata": {
        "id": "3pcl-JXHEABw",
        "colab_type": "code",
        "outputId": "1b4ee1ef-3236-443b-cd7a-67d8ffa3a5ff",
        "colab": {
          "base_uri": "https://localhost:8080/",
          "height": 35
        }
      },
      "source": [
        "!ls -l diamonds.csv"
      ],
      "execution_count": 411,
      "outputs": [
        {
          "output_type": "stream",
          "text": [
            "-rw-r--r-- 1 root root 2772143 Mar  7 21:35 diamonds.csv\n"
          ],
          "name": "stdout"
        }
      ]
    },
    {
      "cell_type": "markdown",
      "metadata": {
        "id": "Rpq5xx4TCjWO",
        "colab_type": "text"
      },
      "source": [
        "Creating a true spark dataframe"
      ]
    },
    {
      "cell_type": "code",
      "metadata": {
        "id": "RU__aCmKiWqM",
        "colab_type": "code",
        "colab": {}
      },
      "source": [
        "CSV_FILE = \"/content/diamonds.csv\"\n",
        "\n",
        "df_pri = spark.read.options(header=\"true\", inferschema = \"true\").csv(CSV_FILE)\n",
        "\n",
        "\n",
        "# IF YOU HAD RAW DATA YOU WANT TO INPUT:\n",
        "# df = spark.createDataFrame(data = [('Bob', 5.62,'juice'),  ('Sue',0.85,'milk')], \n",
        "#                            schema = [\"Name\", \"Amount\",\"Item\"])\n",
        "\n"
      ],
      "execution_count": 0,
      "outputs": []
    },
    {
      "cell_type": "code",
      "metadata": {
        "id": "ghGV-yDKEWiD",
        "colab_type": "code",
        "colab": {}
      },
      "source": [
        "# data = sqlContext.createDataFrame([(\"Alberto\", 2), (\"Dakota\", 2)], \n",
        "#                                   [\"Name\", \"askdaosdka\"])\n",
        "# data.show()\n",
        "# data.printSchema()\n",
        "\n",
        "# # Output\n",
        "# #+-------+----------+\n",
        "# #|   Name|askdaosdka|\n",
        "# #+-------+----------+\n",
        "# #|Alberto|         2|\n",
        "# #| Dakota|         2|\n",
        "# #+-------+----------+\n",
        "\n",
        "# #root\n",
        "# # |-- Name: string (nullable = true)\n",
        "# # |-- askdaosdka: long (nullable = true)\n",
        "\n",
        "# df = data.selectExpr(\"Name as name\", \"askdaosdka as age\")\n",
        "# df.show()\n",
        "# df.printSchema()\n",
        "\n",
        "# # Output\n",
        "# #+-------+---+\n",
        "# #|   name|age|\n",
        "# #+-------+---+\n",
        "# #|Alberto|  2|\n",
        "# #| Dakota|  2|\n",
        "# #+-------+---+\n",
        "\n",
        "# #root\n",
        "# # |-- name: string (nullable = true)\n",
        "# # |-- age: long (nullable = true)"
      ],
      "execution_count": 0,
      "outputs": []
    },
    {
      "cell_type": "code",
      "metadata": {
        "id": "Hl-1htsyiqzr",
        "colab_type": "code",
        "outputId": "83cfccc3-04f9-44f2-deac-d797f60bc68c",
        "colab": {
          "base_uri": "https://localhost:8080/",
          "height": 35
        }
      },
      "source": [
        "df_pri"
      ],
      "execution_count": 414,
      "outputs": [
        {
          "output_type": "execute_result",
          "data": {
            "text/plain": [
              "DataFrame[carat: double, cut: string, color: string, clarity: string, depth: double, table: double, price: int, x: double, y: double, z: double]"
            ]
          },
          "metadata": {
            "tags": []
          },
          "execution_count": 414
        }
      ]
    },
    {
      "cell_type": "code",
      "metadata": {
        "id": "cvn2SceTisns",
        "colab_type": "code",
        "outputId": "8464ba9d-b489-4162-95ff-bfd171fe16a4",
        "colab": {
          "base_uri": "https://localhost:8080/",
          "height": 35
        }
      },
      "source": [
        "display(df_pri)"
      ],
      "execution_count": 415,
      "outputs": [
        {
          "output_type": "display_data",
          "data": {
            "text/plain": [
              "DataFrame[carat: double, cut: string, color: string, clarity: string, depth: double, table: double, price: int, x: double, y: double, z: double]"
            ]
          },
          "metadata": {
            "tags": []
          }
        }
      ]
    },
    {
      "cell_type": "code",
      "metadata": {
        "id": "f8T8MBHXi1k7",
        "colab_type": "code",
        "outputId": "bae79a05-83eb-4988-dda4-0af1f9de07ce",
        "colab": {
          "base_uri": "https://localhost:8080/",
          "height": 490
        }
      },
      "source": [
        "df_pri.show()"
      ],
      "execution_count": 416,
      "outputs": [
        {
          "output_type": "stream",
          "text": [
            "+-----+---------+-----+-------+-----+-----+-----+----+----+----+\n",
            "|carat|      cut|color|clarity|depth|table|price|   x|   y|   z|\n",
            "+-----+---------+-----+-------+-----+-----+-----+----+----+----+\n",
            "| 0.23|    Ideal|    E|    SI2| 61.5| 55.0|  326|3.95|3.98|2.43|\n",
            "| 0.21|  Premium|    E|    SI1| 59.8| 61.0|  326|3.89|3.84|2.31|\n",
            "| 0.23|     Good|    E|    VS1| 56.9| 65.0|  327|4.05|4.07|2.31|\n",
            "| 0.29|  Premium|    I|    VS2| 62.4| 58.0|  334| 4.2|4.23|2.63|\n",
            "| 0.31|     Good|    J|    SI2| 63.3| 58.0|  335|4.34|4.35|2.75|\n",
            "| 0.24|Very Good|    J|   VVS2| 62.8| 57.0|  336|3.94|3.96|2.48|\n",
            "| 0.24|Very Good|    I|   VVS1| 62.3| 57.0|  336|3.95|3.98|2.47|\n",
            "| 0.26|Very Good|    H|    SI1| 61.9| 55.0|  337|4.07|4.11|2.53|\n",
            "| 0.22|     Fair|    E|    VS2| 65.1| 61.0|  337|3.87|3.78|2.49|\n",
            "| 0.23|Very Good|    H|    VS1| 59.4| 61.0|  338| 4.0|4.05|2.39|\n",
            "|  0.3|     Good|    J|    SI1| 64.0| 55.0|  339|4.25|4.28|2.73|\n",
            "| 0.23|    Ideal|    J|    VS1| 62.8| 56.0|  340|3.93| 3.9|2.46|\n",
            "| 0.22|  Premium|    F|    SI1| 60.4| 61.0|  342|3.88|3.84|2.33|\n",
            "| 0.31|    Ideal|    J|    SI2| 62.2| 54.0|  344|4.35|4.37|2.71|\n",
            "|  0.2|  Premium|    E|    SI2| 60.2| 62.0|  345|3.79|3.75|2.27|\n",
            "| 0.32|  Premium|    E|     I1| 60.9| 58.0|  345|4.38|4.42|2.68|\n",
            "|  0.3|    Ideal|    I|    SI2| 62.0| 54.0|  348|4.31|4.34|2.68|\n",
            "|  0.3|     Good|    J|    SI1| 63.4| 54.0|  351|4.23|4.29| 2.7|\n",
            "|  0.3|     Good|    J|    SI1| 63.8| 56.0|  351|4.23|4.26|2.71|\n",
            "|  0.3|Very Good|    J|    SI1| 62.7| 59.0|  351|4.21|4.27|2.66|\n",
            "+-----+---------+-----+-------+-----+-----+-----+----+----+----+\n",
            "only showing top 20 rows\n",
            "\n"
          ],
          "name": "stdout"
        }
      ]
    },
    {
      "cell_type": "code",
      "metadata": {
        "id": "gINuuXgcEPXJ",
        "colab_type": "code",
        "outputId": "0ef4dcf6-fa8d-48ca-dbe9-722e95c171d7",
        "colab": {
          "base_uri": "https://localhost:8080/",
          "height": 35
        }
      },
      "source": [
        "df_pri.count()"
      ],
      "execution_count": 417,
      "outputs": [
        {
          "output_type": "execute_result",
          "data": {
            "text/plain": [
              "53940"
            ]
          },
          "metadata": {
            "tags": []
          },
          "execution_count": 417
        }
      ]
    },
    {
      "cell_type": "code",
      "metadata": {
        "id": "VaaHNKH2EYPd",
        "colab_type": "code",
        "outputId": "42206ace-9f17-4d6d-d2c7-bd49bf131235",
        "colab": {
          "base_uri": "https://localhost:8080/",
          "height": 199
        }
      },
      "source": [
        "df_pri.dtypes"
      ],
      "execution_count": 418,
      "outputs": [
        {
          "output_type": "execute_result",
          "data": {
            "text/plain": [
              "[('carat', 'double'),\n",
              " ('cut', 'string'),\n",
              " ('color', 'string'),\n",
              " ('clarity', 'string'),\n",
              " ('depth', 'double'),\n",
              " ('table', 'double'),\n",
              " ('price', 'int'),\n",
              " ('x', 'double'),\n",
              " ('y', 'double'),\n",
              " ('z', 'double')]"
            ]
          },
          "metadata": {
            "tags": []
          },
          "execution_count": 418
        }
      ]
    },
    {
      "cell_type": "code",
      "metadata": {
        "id": "0TesQnycC0Nw",
        "colab_type": "code",
        "outputId": "0933037c-5392-4f8f-b924-ca9ea7b937f7",
        "colab": {
          "base_uri": "https://localhost:8080/",
          "height": 1000
        }
      },
      "source": [
        "for method in list(dir(df_pri)): print(method)"
      ],
      "execution_count": 419,
      "outputs": [
        {
          "output_type": "stream",
          "text": [
            "__class__\n",
            "__delattr__\n",
            "__dict__\n",
            "__dir__\n",
            "__doc__\n",
            "__eq__\n",
            "__format__\n",
            "__ge__\n",
            "__getattr__\n",
            "__getattribute__\n",
            "__getitem__\n",
            "__gt__\n",
            "__hash__\n",
            "__init__\n",
            "__init_subclass__\n",
            "__le__\n",
            "__lt__\n",
            "__module__\n",
            "__ne__\n",
            "__new__\n",
            "__reduce__\n",
            "__reduce_ex__\n",
            "__repr__\n",
            "__setattr__\n",
            "__sizeof__\n",
            "__str__\n",
            "__subclasshook__\n",
            "__weakref__\n",
            "_collectAsArrow\n",
            "_jcols\n",
            "_jdf\n",
            "_jmap\n",
            "_jseq\n",
            "_lazy_rdd\n",
            "_repr_html_\n",
            "_sc\n",
            "_schema\n",
            "_sort_cols\n",
            "_support_repr_html\n",
            "agg\n",
            "alias\n",
            "approxQuantile\n",
            "cache\n",
            "checkpoint\n",
            "coalesce\n",
            "colRegex\n",
            "collect\n",
            "columns\n",
            "corr\n",
            "count\n",
            "cov\n",
            "createGlobalTempView\n",
            "createOrReplaceGlobalTempView\n",
            "createOrReplaceTempView\n",
            "createTempView\n",
            "crossJoin\n",
            "crosstab\n",
            "cube\n",
            "describe\n",
            "distinct\n",
            "drop\n",
            "dropDuplicates\n",
            "drop_duplicates\n",
            "dropna\n",
            "dtypes\n",
            "exceptAll\n",
            "explain\n",
            "fillna\n",
            "filter\n",
            "first\n",
            "foreach\n",
            "foreachPartition\n",
            "freqItems\n",
            "groupBy\n",
            "groupby\n",
            "head\n",
            "hint\n",
            "intersect\n",
            "intersectAll\n",
            "isLocal\n",
            "isStreaming\n",
            "is_cached\n",
            "join\n",
            "limit\n",
            "localCheckpoint\n",
            "na\n",
            "orderBy\n",
            "persist\n",
            "printSchema\n",
            "randomSplit\n",
            "rdd\n",
            "registerTempTable\n",
            "repartition\n",
            "repartitionByRange\n",
            "replace\n",
            "rollup\n",
            "sample\n",
            "sampleBy\n",
            "schema\n",
            "select\n",
            "selectExpr\n",
            "show\n",
            "sort\n",
            "sortWithinPartitions\n",
            "sql_ctx\n",
            "stat\n",
            "storageLevel\n",
            "subtract\n",
            "summary\n",
            "take\n",
            "toDF\n",
            "toJSON\n",
            "toLocalIterator\n",
            "toPandas\n",
            "union\n",
            "unionAll\n",
            "unionByName\n",
            "unpersist\n",
            "where\n",
            "withColumn\n",
            "withColumnRenamed\n",
            "withWatermark\n",
            "write\n",
            "writeStream\n"
          ],
          "name": "stdout"
        }
      ]
    },
    {
      "cell_type": "code",
      "metadata": {
        "id": "UTNzCV_1DJ53",
        "colab_type": "code",
        "outputId": "b8a969f7-4797-4a9f-aacf-97b16b3af133",
        "colab": {
          "base_uri": "https://localhost:8080/",
          "height": 55
        }
      },
      "source": [
        "\"\"\"\n",
        "agg\n",
        "alias\n",
        "approxQuantile\n",
        "cache\n",
        "checkpoint\n",
        "coalesce\n",
        "colRegex\n",
        "collect\n",
        "columns\n",
        "corr\n",
        "count\n",
        "cov\n",
        "createGlobalTempView\n",
        "createOrReplaceGlobalTempView\n",
        "createOrReplaceTempView\n",
        "createTempView\n",
        "crossJoin\n",
        "crosstab\n",
        "cube\n",
        "describe\n",
        "distinct\n",
        "drop\n",
        "dropDuplicates\n",
        "drop_duplicates\n",
        "dropna\n",
        "dtypes\n",
        "exceptAll\n",
        "explain\n",
        "fillna\n",
        "filter\n",
        "first\n",
        "foreach\n",
        "foreachPartition\n",
        "freqItems\n",
        "groupBy\n",
        "groupby\n",
        "head\n",
        "hint\n",
        "intersect\n",
        "intersectAll\n",
        "isLocal\n",
        "isStreaming\n",
        "is_cached\n",
        "join\n",
        "limit\n",
        "localCheckpoint\n",
        "na\n",
        "orderBy\n",
        "persist\n",
        "printSchema\n",
        "randomSplit\n",
        "rdd\n",
        "registerTempTable\n",
        "repartition\n",
        "repartitionByRange\n",
        "replace\n",
        "rollup\n",
        "sample\n",
        "sampleBy\n",
        "schema\n",
        "select\n",
        "selectExpr\n",
        "show\n",
        "sort\n",
        "sortWithinPartitions\n",
        "sql_ctx\n",
        "stat\n",
        "storageLevel\n",
        "subtract\n",
        "summary\n",
        "take\n",
        "toDF\n",
        "toJSON\n",
        "toLocalIterator\n",
        "toPandas\n",
        "union\n",
        "unionAll\n",
        "unionByName\n",
        "unpersist\n",
        "where\n",
        "withColumn\n",
        "withColumnRenamed\n",
        "withWatermark\n",
        "write\n",
        "writeStream\n",
        "\"\"\""
      ],
      "execution_count": 420,
      "outputs": [
        {
          "output_type": "execute_result",
          "data": {
            "text/plain": [
              "'\\nagg\\nalias\\napproxQuantile\\ncache\\ncheckpoint\\ncoalesce\\ncolRegex\\ncollect\\ncolumns\\ncorr\\ncount\\ncov\\ncreateGlobalTempView\\ncreateOrReplaceGlobalTempView\\ncreateOrReplaceTempView\\ncreateTempView\\ncrossJoin\\ncrosstab\\ncube\\ndescribe\\ndistinct\\ndrop\\ndropDuplicates\\ndrop_duplicates\\ndropna\\ndtypes\\nexceptAll\\nexplain\\nfillna\\nfilter\\nfirst\\nforeach\\nforeachPartition\\nfreqItems\\ngroupBy\\ngroupby\\nhead\\nhint\\nintersect\\nintersectAll\\nisLocal\\nisStreaming\\nis_cached\\njoin\\nlimit\\nlocalCheckpoint\\nna\\norderBy\\npersist\\nprintSchema\\nrandomSplit\\nrdd\\nregisterTempTable\\nrepartition\\nrepartitionByRange\\nreplace\\nrollup\\nsample\\nsampleBy\\nschema\\nselect\\nselectExpr\\nshow\\nsort\\nsortWithinPartitions\\nsql_ctx\\nstat\\nstorageLevel\\nsubtract\\nsummary\\ntake\\ntoDF\\ntoJSON\\ntoLocalIterator\\ntoPandas\\nunion\\nunionAll\\nunionByName\\nunpersist\\nwhere\\nwithColumn\\nwithColumnRenamed\\nwithWatermark\\nwrite\\nwriteStream\\n'"
            ]
          },
          "metadata": {
            "tags": []
          },
          "execution_count": 420
        }
      ]
    },
    {
      "cell_type": "markdown",
      "metadata": {
        "id": "CkwPUohiDScK",
        "colab_type": "text"
      },
      "source": [
        "# Examining Diamonds DataFrame: "
      ]
    },
    {
      "cell_type": "code",
      "metadata": {
        "id": "LTyPxsHMDUxd",
        "colab_type": "code",
        "colab": {}
      },
      "source": [
        "df = df_pri"
      ],
      "execution_count": 0,
      "outputs": []
    },
    {
      "cell_type": "code",
      "metadata": {
        "id": "_P4uVvT_DU0P",
        "colab_type": "code",
        "outputId": "7e668739-c8b4-49e2-a3c9-042c6fee2125",
        "colab": {
          "base_uri": "https://localhost:8080/",
          "height": 0
        }
      },
      "source": [
        "help(df.alias)"
      ],
      "execution_count": 422,
      "outputs": [
        {
          "output_type": "stream",
          "text": [
            "Help on method alias in module pyspark.sql.dataframe:\n",
            "\n",
            "alias(alias) method of pyspark.sql.dataframe.DataFrame instance\n",
            "    Returns a new :class:`DataFrame` with an alias set.\n",
            "    \n",
            "    :param alias: string, an alias name to be set for the :class:`DataFrame`.\n",
            "    \n",
            "    >>> from pyspark.sql.functions import *\n",
            "    >>> df_as1 = df.alias(\"df_as1\")\n",
            "    >>> df_as2 = df.alias(\"df_as2\")\n",
            "    >>> joined_df = df_as1.join(df_as2, col(\"df_as1.name\") == col(\"df_as2.name\"), 'inner')\n",
            "    >>> joined_df.select(\"df_as1.name\", \"df_as2.name\", \"df_as2.age\").collect()\n",
            "    [Row(name='Bob', name='Bob', age=5), Row(name='Alice', name='Alice', age=2)]\n",
            "    \n",
            "    .. versionadded:: 1.3\n",
            "\n"
          ],
          "name": "stdout"
        }
      ]
    },
    {
      "cell_type": "code",
      "metadata": {
        "id": "qD86ekMJDU3L",
        "colab_type": "code",
        "outputId": "586b080f-de08-4ac5-8613-39a93e1bf393",
        "colab": {
          "base_uri": "https://localhost:8080/",
          "height": 0
        }
      },
      "source": [
        "df.printSchema()"
      ],
      "execution_count": 423,
      "outputs": [
        {
          "output_type": "stream",
          "text": [
            "root\n",
            " |-- carat: double (nullable = true)\n",
            " |-- cut: string (nullable = true)\n",
            " |-- color: string (nullable = true)\n",
            " |-- clarity: string (nullable = true)\n",
            " |-- depth: double (nullable = true)\n",
            " |-- table: double (nullable = true)\n",
            " |-- price: integer (nullable = true)\n",
            " |-- x: double (nullable = true)\n",
            " |-- y: double (nullable = true)\n",
            " |-- z: double (nullable = true)\n",
            "\n"
          ],
          "name": "stdout"
        }
      ]
    },
    {
      "cell_type": "code",
      "metadata": {
        "id": "OxlXijgCDU5b",
        "colab_type": "code",
        "outputId": "d9396277-00b6-4448-c9ac-328eba7afcb2",
        "colab": {
          "base_uri": "https://localhost:8080/",
          "height": 0
        }
      },
      "source": [
        "df.schema.names"
      ],
      "execution_count": 424,
      "outputs": [
        {
          "output_type": "execute_result",
          "data": {
            "text/plain": [
              "['carat', 'cut', 'color', 'clarity', 'depth', 'table', 'price', 'x', 'y', 'z']"
            ]
          },
          "metadata": {
            "tags": []
          },
          "execution_count": 424
        }
      ]
    },
    {
      "cell_type": "code",
      "metadata": {
        "id": "zMRL9KxzDU7-",
        "colab_type": "code",
        "outputId": "09a9f42c-a1f5-4552-fdb2-2587aec2ae56",
        "colab": {
          "base_uri": "https://localhost:8080/",
          "height": 0
        }
      },
      "source": [
        "df.columns"
      ],
      "execution_count": 425,
      "outputs": [
        {
          "output_type": "execute_result",
          "data": {
            "text/plain": [
              "['carat', 'cut', 'color', 'clarity', 'depth', 'table', 'price', 'x', 'y', 'z']"
            ]
          },
          "metadata": {
            "tags": []
          },
          "execution_count": 425
        }
      ]
    },
    {
      "cell_type": "code",
      "metadata": {
        "id": "B5RPE7ASDVDa",
        "colab_type": "code",
        "outputId": "4894e305-c5ae-4324-ff68-1f7ac9189a08",
        "colab": {
          "base_uri": "https://localhost:8080/",
          "height": 0
        }
      },
      "source": [
        "df.cache()\n",
        "\n",
        "# Spark SQL can cache tables using an in-memory columnar format by calling spark.catalog.cacheTable(\"tableName\") \n",
        "# or dataFrame.cache(). Then Spark SQL will scan only required columns and will automatically tune compression \n",
        "# to minimize memory usage and GC pressure.\n"
      ],
      "execution_count": 426,
      "outputs": [
        {
          "output_type": "execute_result",
          "data": {
            "text/plain": [
              "DataFrame[carat: double, cut: string, color: string, clarity: string, depth: double, table: double, price: int, x: double, y: double, z: double]"
            ]
          },
          "metadata": {
            "tags": []
          },
          "execution_count": 426
        }
      ]
    },
    {
      "cell_type": "code",
      "metadata": {
        "id": "rqTMKTpYDVGY",
        "colab_type": "code",
        "outputId": "d8b03f62-75e0-45b2-b0db-aefffb4dc7bf",
        "colab": {
          "base_uri": "https://localhost:8080/",
          "height": 0
        }
      },
      "source": [
        "!ls -l"
      ],
      "execution_count": 427,
      "outputs": [
        {
          "output_type": "stream",
          "text": [
            "total 689408\n",
            "-rw-r--r--  1 root root   2772143 Mar  7 21:35 diamonds.csv\n",
            "-rw-r--r--  1 root root   2772143 Mar  7 21:50 diamonds.csv.1\n",
            "-rw-r--r--  1 root root   2772143 Mar  7 21:54 diamonds.csv.2\n",
            "drwx------  4 root root      4096 Mar  7 21:34 gdrive\n",
            "drwxr-xr-x  2 root root      4096 Mar  7 21:39 namesAndFavColors.parquet\n",
            "-rw-r--r--  1 root root        73 Mar  7 21:36 people.json\n",
            "-rw-r--r--  1 root root        73 Mar  7 21:50 people.json.1\n",
            "drwxr-xr-x  2 root root      4096 Mar  7 21:36 people.parquet\n",
            "drwxr-xr-x  1 root root      4096 Mar  3 18:11 sample_data\n",
            "drwxr-xr-x 13 1000 1000      4096 Feb  2 19:47 spark-2.4.5-bin-hadoop2.7\n",
            "-rw-r--r--  1 root root 232530699 Feb  2 20:27 spark-2.4.5-bin-hadoop2.7.tgz\n",
            "-rw-r--r--  1 root root 232530699 Feb  2 20:27 spark-2.4.5-bin-hadoop2.7.tgz.1\n",
            "-rw-r--r--  1 root root 232530699 Feb  2 20:27 spark-2.4.5-bin-hadoop2.7.tgz.2\n",
            "drwxr-xr-x  2 root root      4096 Mar  7 21:36 spark-warehouse\n"
          ],
          "name": "stdout"
        }
      ]
    },
    {
      "cell_type": "code",
      "metadata": {
        "id": "2pg4ujQbDVJa",
        "colab_type": "code",
        "colab": {}
      },
      "source": [
        ""
      ],
      "execution_count": 0,
      "outputs": []
    },
    {
      "cell_type": "code",
      "metadata": {
        "id": "u1_jGTouDVOj",
        "colab_type": "code",
        "outputId": "be7fa4bd-8518-4f96-f3b3-75f57fe6c1d4",
        "colab": {
          "base_uri": "https://localhost:8080/",
          "height": 0
        }
      },
      "source": [
        "!wget https://github.com/apache/spark/raw/master/examples/src/main/resources/people.json\n",
        "#!wget https://github.com/tidyverse/ggplot2/raw/master/data-raw/diamonds.csv"
      ],
      "execution_count": 428,
      "outputs": [
        {
          "output_type": "stream",
          "text": [
            "--2020-03-07 21:54:11--  https://github.com/apache/spark/raw/master/examples/src/main/resources/people.json\n",
            "Resolving github.com (github.com)... 140.82.113.3\n",
            "Connecting to github.com (github.com)|140.82.113.3|:443... connected.\n",
            "HTTP request sent, awaiting response... 302 Found\n",
            "Location: https://raw.githubusercontent.com/apache/spark/master/examples/src/main/resources/people.json [following]\n",
            "--2020-03-07 21:54:11--  https://raw.githubusercontent.com/apache/spark/master/examples/src/main/resources/people.json\n",
            "Resolving raw.githubusercontent.com (raw.githubusercontent.com)... 151.101.0.133, 151.101.64.133, 151.101.128.133, ...\n",
            "Connecting to raw.githubusercontent.com (raw.githubusercontent.com)|151.101.0.133|:443... connected.\n",
            "HTTP request sent, awaiting response... 200 OK\n",
            "Length: 73 [text/plain]\n",
            "Saving to: ‘people.json.2’\n",
            "\n",
            "\rpeople.json.2         0%[                    ]       0  --.-KB/s               \rpeople.json.2       100%[===================>]      73  --.-KB/s    in 0s      \n",
            "\n",
            "2020-03-07 21:54:11 (9.40 MB/s) - ‘people.json.2’ saved [73/73]\n",
            "\n"
          ],
          "name": "stdout"
        }
      ]
    },
    {
      "cell_type": "code",
      "metadata": {
        "id": "nn8kF0UvDVMx",
        "colab_type": "code",
        "outputId": "00ad97de-1424-4414-8eae-568340ec2b12",
        "colab": {
          "base_uri": "https://localhost:8080/",
          "height": 0
        }
      },
      "source": [
        "!ls -l"
      ],
      "execution_count": 429,
      "outputs": [
        {
          "output_type": "stream",
          "text": [
            "total 689412\n",
            "-rw-r--r--  1 root root   2772143 Mar  7 21:35 diamonds.csv\n",
            "-rw-r--r--  1 root root   2772143 Mar  7 21:50 diamonds.csv.1\n",
            "-rw-r--r--  1 root root   2772143 Mar  7 21:54 diamonds.csv.2\n",
            "drwx------  4 root root      4096 Mar  7 21:34 gdrive\n",
            "drwxr-xr-x  2 root root      4096 Mar  7 21:39 namesAndFavColors.parquet\n",
            "-rw-r--r--  1 root root        73 Mar  7 21:36 people.json\n",
            "-rw-r--r--  1 root root        73 Mar  7 21:50 people.json.1\n",
            "-rw-r--r--  1 root root        73 Mar  7 21:54 people.json.2\n",
            "drwxr-xr-x  2 root root      4096 Mar  7 21:36 people.parquet\n",
            "drwxr-xr-x  1 root root      4096 Mar  3 18:11 sample_data\n",
            "drwxr-xr-x 13 1000 1000      4096 Feb  2 19:47 spark-2.4.5-bin-hadoop2.7\n",
            "-rw-r--r--  1 root root 232530699 Feb  2 20:27 spark-2.4.5-bin-hadoop2.7.tgz\n",
            "-rw-r--r--  1 root root 232530699 Feb  2 20:27 spark-2.4.5-bin-hadoop2.7.tgz.1\n",
            "-rw-r--r--  1 root root 232530699 Feb  2 20:27 spark-2.4.5-bin-hadoop2.7.tgz.2\n",
            "drwxr-xr-x  2 root root      4096 Mar  7 21:36 spark-warehouse\n"
          ],
          "name": "stdout"
        }
      ]
    },
    {
      "cell_type": "code",
      "metadata": {
        "id": "CkgjGi7TDVBW",
        "colab_type": "code",
        "colab": {}
      },
      "source": [
        "# creating df from json file...\n",
        "peopleDF = spark.read.json('people.json')"
      ],
      "execution_count": 0,
      "outputs": []
    },
    {
      "cell_type": "code",
      "metadata": {
        "id": "RVIUBeMHDU_R",
        "colab_type": "code",
        "outputId": "07598f2b-6e39-4a47-b8b8-7b372852446e",
        "colab": {
          "base_uri": "https://localhost:8080/",
          "height": 0
        }
      },
      "source": [
        "peopleDF.show()\n",
        "\n",
        "# The inferred schema can be visualized using the printSchema() method\n",
        "peopleDF.printSchema()\n",
        "# root\n",
        "#  |-- age: long (nullable = true)\n",
        "#  |-- name: string (nullable = true)\n",
        "\n",
        "# Creates a temporary view using the DataFrame\n",
        "peopleDF.createOrReplaceTempView(\"people\")\n",
        "\n",
        "# SQL statements can be run by using the sql methods provided by spark\n",
        "teenagerNamesDF = spark.sql(\"SELECT name FROM people WHERE age BETWEEN 13 AND 19\")\n",
        "teenagerNamesDF.show()\n",
        "# +------+\n",
        "# |  name|\n",
        "# +------+\n",
        "# |Justin|\n",
        "# +------+\n",
        "\n",
        "# Alternatively, a DataFrame can be created for a JSON dataset represented by\n",
        "# an RDD[String] storing one JSON object per string\n",
        "jsonStrings = ['{\"name\":\"Yin\",\"address\":{\"city\":\"Columbus\",\"state\":\"Ohio\"}}']\n",
        "otherPeopleRDD = sc.parallelize(jsonStrings)\n",
        "otherPeople = spark.read.json(otherPeopleRDD)\n",
        "otherPeople.show()\n",
        "# +---------------+----+\n",
        "# |        address|name|\n",
        "# +---------------+----+\n",
        "# |[Columbus,Ohio]| Yin|\n",
        "# +---------------+----+\n",
        "\n"
      ],
      "execution_count": 431,
      "outputs": [
        {
          "output_type": "stream",
          "text": [
            "+----+-------+\n",
            "| age|   name|\n",
            "+----+-------+\n",
            "|null|Michael|\n",
            "|  30|   Andy|\n",
            "|  19| Justin|\n",
            "+----+-------+\n",
            "\n",
            "root\n",
            " |-- age: long (nullable = true)\n",
            " |-- name: string (nullable = true)\n",
            "\n",
            "+------+\n",
            "|  name|\n",
            "+------+\n",
            "|Justin|\n",
            "+------+\n",
            "\n",
            "+----------------+----+\n",
            "|         address|name|\n",
            "+----------------+----+\n",
            "|[Columbus, Ohio]| Yin|\n",
            "+----------------+----+\n",
            "\n"
          ],
          "name": "stdout"
        }
      ]
    },
    {
      "cell_type": "markdown",
      "metadata": {
        "id": "pxfqjMORMsvB",
        "colab_type": "text"
      },
      "source": [
        "# Diamonds Exclusively Examining:"
      ]
    },
    {
      "cell_type": "code",
      "metadata": {
        "id": "goidhwHUMvqT",
        "colab_type": "code",
        "colab": {}
      },
      "source": [
        "df2 = df_pri"
      ],
      "execution_count": 0,
      "outputs": []
    },
    {
      "cell_type": "code",
      "metadata": {
        "id": "LZc3SFeVMy1M",
        "colab_type": "code",
        "outputId": "0a1c4879-fefa-4854-b39b-1994996264e8",
        "colab": {
          "base_uri": "https://localhost:8080/",
          "height": 35
        }
      },
      "source": [
        "df2"
      ],
      "execution_count": 433,
      "outputs": [
        {
          "output_type": "execute_result",
          "data": {
            "text/plain": [
              "DataFrame[carat: double, cut: string, color: string, clarity: string, depth: double, table: double, price: int, x: double, y: double, z: double]"
            ]
          },
          "metadata": {
            "tags": []
          },
          "execution_count": 433
        }
      ]
    },
    {
      "cell_type": "code",
      "metadata": {
        "id": "EDOFzfRyMy31",
        "colab_type": "code",
        "colab": {}
      },
      "source": [
        "df2.createOrReplaceTempView(\"diamonds_table\")\n"
      ],
      "execution_count": 0,
      "outputs": []
    },
    {
      "cell_type": "code",
      "metadata": {
        "id": "ztlzJDZBM1VA",
        "colab_type": "code",
        "colab": {}
      },
      "source": [
        "sqlDF = spark.sql(\"SELECT * FROM diamonds_table\")\n"
      ],
      "execution_count": 0,
      "outputs": []
    },
    {
      "cell_type": "code",
      "metadata": {
        "id": "3Z1MMFhOM1Xp",
        "colab_type": "code",
        "outputId": "c2f71122-e477-4af4-937e-bb3302dff77c",
        "colab": {
          "base_uri": "https://localhost:8080/",
          "height": 490
        }
      },
      "source": [
        "sqlDF.show()"
      ],
      "execution_count": 436,
      "outputs": [
        {
          "output_type": "stream",
          "text": [
            "+-----+---------+-----+-------+-----+-----+-----+----+----+----+\n",
            "|carat|      cut|color|clarity|depth|table|price|   x|   y|   z|\n",
            "+-----+---------+-----+-------+-----+-----+-----+----+----+----+\n",
            "| 0.23|    Ideal|    E|    SI2| 61.5| 55.0|  326|3.95|3.98|2.43|\n",
            "| 0.21|  Premium|    E|    SI1| 59.8| 61.0|  326|3.89|3.84|2.31|\n",
            "| 0.23|     Good|    E|    VS1| 56.9| 65.0|  327|4.05|4.07|2.31|\n",
            "| 0.29|  Premium|    I|    VS2| 62.4| 58.0|  334| 4.2|4.23|2.63|\n",
            "| 0.31|     Good|    J|    SI2| 63.3| 58.0|  335|4.34|4.35|2.75|\n",
            "| 0.24|Very Good|    J|   VVS2| 62.8| 57.0|  336|3.94|3.96|2.48|\n",
            "| 0.24|Very Good|    I|   VVS1| 62.3| 57.0|  336|3.95|3.98|2.47|\n",
            "| 0.26|Very Good|    H|    SI1| 61.9| 55.0|  337|4.07|4.11|2.53|\n",
            "| 0.22|     Fair|    E|    VS2| 65.1| 61.0|  337|3.87|3.78|2.49|\n",
            "| 0.23|Very Good|    H|    VS1| 59.4| 61.0|  338| 4.0|4.05|2.39|\n",
            "|  0.3|     Good|    J|    SI1| 64.0| 55.0|  339|4.25|4.28|2.73|\n",
            "| 0.23|    Ideal|    J|    VS1| 62.8| 56.0|  340|3.93| 3.9|2.46|\n",
            "| 0.22|  Premium|    F|    SI1| 60.4| 61.0|  342|3.88|3.84|2.33|\n",
            "| 0.31|    Ideal|    J|    SI2| 62.2| 54.0|  344|4.35|4.37|2.71|\n",
            "|  0.2|  Premium|    E|    SI2| 60.2| 62.0|  345|3.79|3.75|2.27|\n",
            "| 0.32|  Premium|    E|     I1| 60.9| 58.0|  345|4.38|4.42|2.68|\n",
            "|  0.3|    Ideal|    I|    SI2| 62.0| 54.0|  348|4.31|4.34|2.68|\n",
            "|  0.3|     Good|    J|    SI1| 63.4| 54.0|  351|4.23|4.29| 2.7|\n",
            "|  0.3|     Good|    J|    SI1| 63.8| 56.0|  351|4.23|4.26|2.71|\n",
            "|  0.3|Very Good|    J|    SI1| 62.7| 59.0|  351|4.21|4.27|2.66|\n",
            "+-----+---------+-----+-------+-----+-----+-----+----+----+----+\n",
            "only showing top 20 rows\n",
            "\n"
          ],
          "name": "stdout"
        }
      ]
    },
    {
      "cell_type": "code",
      "metadata": {
        "id": "v-AXuwpnMy9E",
        "colab_type": "code",
        "outputId": "15e32b5a-3e27-44dc-a588-b0cd0dee9cc9",
        "colab": {
          "base_uri": "https://localhost:8080/",
          "height": 199
        }
      },
      "source": [
        "df.dtypes"
      ],
      "execution_count": 437,
      "outputs": [
        {
          "output_type": "execute_result",
          "data": {
            "text/plain": [
              "[('carat', 'double'),\n",
              " ('cut', 'string'),\n",
              " ('color', 'string'),\n",
              " ('clarity', 'string'),\n",
              " ('depth', 'double'),\n",
              " ('table', 'double'),\n",
              " ('price', 'int'),\n",
              " ('x', 'double'),\n",
              " ('y', 'double'),\n",
              " ('z', 'double')]"
            ]
          },
          "metadata": {
            "tags": []
          },
          "execution_count": 437
        }
      ]
    },
    {
      "cell_type": "code",
      "metadata": {
        "id": "RV4lYRGUMy6w",
        "colab_type": "code",
        "outputId": "ca304ab9-0192-499d-9de2-705b716d98d8",
        "colab": {
          "base_uri": "https://localhost:8080/",
          "height": 199
        }
      },
      "source": [
        "df.schema.fields"
      ],
      "execution_count": 438,
      "outputs": [
        {
          "output_type": "execute_result",
          "data": {
            "text/plain": [
              "[StructField(carat,DoubleType,true),\n",
              " StructField(cut,StringType,true),\n",
              " StructField(color,StringType,true),\n",
              " StructField(clarity,StringType,true),\n",
              " StructField(depth,DoubleType,true),\n",
              " StructField(table,DoubleType,true),\n",
              " StructField(price,IntegerType,true),\n",
              " StructField(x,DoubleType,true),\n",
              " StructField(y,DoubleType,true),\n",
              " StructField(z,DoubleType,true)]"
            ]
          },
          "metadata": {
            "tags": []
          },
          "execution_count": 438
        }
      ]
    },
    {
      "cell_type": "code",
      "metadata": {
        "id": "ZqBOqyOURC05",
        "colab_type": "code",
        "outputId": "ac9f07e3-1a21-4101-eb7d-599302daca76",
        "colab": {
          "base_uri": "https://localhost:8080/",
          "height": 199
        }
      },
      "source": [
        "df2.describe().show()"
      ],
      "execution_count": 439,
      "outputs": [
        {
          "output_type": "stream",
          "text": [
            "+-------+------------------+---------+-----+-------+------------------+------------------+-----------------+------------------+------------------+------------------+\n",
            "|summary|             carat|      cut|color|clarity|             depth|             table|            price|                 x|                 y|                 z|\n",
            "+-------+------------------+---------+-----+-------+------------------+------------------+-----------------+------------------+------------------+------------------+\n",
            "|  count|             53940|    53940|53940|  53940|             53940|             53940|            53940|             53940|             53940|             53940|\n",
            "|   mean|0.7979397478679852|     null| null|   null| 61.74940489432624| 57.45718390804603|3932.799721913237| 5.731157211716609| 5.734525954764462|3.5387337782723316|\n",
            "| stddev|0.4740112444054196|     null| null|   null|1.4326213188336525|2.2344905628213247|3989.439738146397|1.1217607467924915|1.1421346741235616|0.7056988469499883|\n",
            "|    min|               0.2|     Fair|    D|     I1|              43.0|              43.0|              326|               0.0|               0.0|               0.0|\n",
            "|    max|              5.01|Very Good|    J|   VVS2|              79.0|              95.0|            18823|             10.74|              58.9|              31.8|\n",
            "+-------+------------------+---------+-----+-------+------------------+------------------+-----------------+------------------+------------------+------------------+\n",
            "\n"
          ],
          "name": "stdout"
        }
      ]
    },
    {
      "cell_type": "code",
      "metadata": {
        "id": "RA2BQ4naRC33",
        "colab_type": "code",
        "outputId": "76a0e8eb-1360-4cb5-bce8-54e6e0541c24",
        "colab": {
          "base_uri": "https://localhost:8080/",
          "height": 35
        }
      },
      "source": [
        "df2.columns"
      ],
      "execution_count": 440,
      "outputs": [
        {
          "output_type": "execute_result",
          "data": {
            "text/plain": [
              "['carat', 'cut', 'color', 'clarity', 'depth', 'table', 'price', 'x', 'y', 'z']"
            ]
          },
          "metadata": {
            "tags": []
          },
          "execution_count": 440
        }
      ]
    },
    {
      "cell_type": "code",
      "metadata": {
        "id": "tjvw3MgcRC69",
        "colab_type": "code",
        "outputId": "ab6dd1ba-0f4f-41af-ee06-3581f1912d8a",
        "colab": {
          "base_uri": "https://localhost:8080/",
          "height": 35
        }
      },
      "source": [
        "df2.count()"
      ],
      "execution_count": 441,
      "outputs": [
        {
          "output_type": "execute_result",
          "data": {
            "text/plain": [
              "53940"
            ]
          },
          "metadata": {
            "tags": []
          },
          "execution_count": 441
        }
      ]
    },
    {
      "cell_type": "code",
      "metadata": {
        "id": "tpyMKcViRKPS",
        "colab_type": "code",
        "outputId": "39915ce3-c666-40d4-8038-d2a7df098fa3",
        "colab": {
          "base_uri": "https://localhost:8080/",
          "height": 110
        }
      },
      "source": [
        "df2.explain()"
      ],
      "execution_count": 442,
      "outputs": [
        {
          "output_type": "stream",
          "text": [
            "== Physical Plan ==\n",
            "InMemoryTableScan [carat#3840, cut#3841, color#3842, clarity#3843, depth#3844, table#3845, price#3846, x#3847, y#3848, z#3849]\n",
            "   +- InMemoryRelation [carat#3840, cut#3841, color#3842, clarity#3843, depth#3844, table#3845, price#3846, x#3847, y#3848, z#3849], StorageLevel(disk, memory, deserialized, 1 replicas)\n",
            "         +- *(1) FileScan csv [carat#10,cut#11,color#12,clarity#13,depth#14,table#15,price#16,x#17,y#18,z#19] Batched: false, Format: CSV, Location: InMemoryFileIndex[file:/content/diamonds.csv], PartitionFilters: [], PushedFilters: [], ReadSchema: struct<carat:double,cut:string,color:string,clarity:string,depth:double,table:double,price:int,x:...\n"
          ],
          "name": "stdout"
        }
      ]
    },
    {
      "cell_type": "code",
      "metadata": {
        "id": "J5nD4G6bRKSX",
        "colab_type": "code",
        "outputId": "dd8de41b-f094-4ef6-c177-bb8d20439b1e",
        "colab": {
          "base_uri": "https://localhost:8080/",
          "height": 235
        }
      },
      "source": [
        "df2.printSchema()"
      ],
      "execution_count": 443,
      "outputs": [
        {
          "output_type": "stream",
          "text": [
            "root\n",
            " |-- carat: double (nullable = true)\n",
            " |-- cut: string (nullable = true)\n",
            " |-- color: string (nullable = true)\n",
            " |-- clarity: string (nullable = true)\n",
            " |-- depth: double (nullable = true)\n",
            " |-- table: double (nullable = true)\n",
            " |-- price: integer (nullable = true)\n",
            " |-- x: double (nullable = true)\n",
            " |-- y: double (nullable = true)\n",
            " |-- z: double (nullable = true)\n",
            "\n"
          ],
          "name": "stdout"
        }
      ]
    },
    {
      "cell_type": "code",
      "metadata": {
        "id": "Eh1796aDROYl",
        "colab_type": "code",
        "colab": {}
      },
      "source": [
        "# convert the df to a RDD ! \n",
        "\n",
        "rdd = df2.rdd"
      ],
      "execution_count": 0,
      "outputs": []
    },
    {
      "cell_type": "code",
      "metadata": {
        "id": "AdDibJXeRObS",
        "colab_type": "code",
        "outputId": "dc6d5868-cea2-4762-a669-4bba0075a7de",
        "colab": {
          "base_uri": "https://localhost:8080/",
          "height": 35
        }
      },
      "source": [
        "rdd"
      ],
      "execution_count": 445,
      "outputs": [
        {
          "output_type": "execute_result",
          "data": {
            "text/plain": [
              "MapPartitionsRDD[798] at javaToPython at NativeMethodAccessorImpl.java:0"
            ]
          },
          "metadata": {
            "tags": []
          },
          "execution_count": 445
        }
      ]
    },
    {
      "cell_type": "code",
      "metadata": {
        "id": "exYf5S1LROeI",
        "colab_type": "code",
        "outputId": "bdcbb8f4-aebb-4001-e258-ca31479c094e",
        "colab": {
          "base_uri": "https://localhost:8080/",
          "height": 35
        }
      },
      "source": [
        "# convert the spark dataframe to a pandas dataframe:\n",
        "\n",
        "pandas_df = df2.toPandas()\n",
        "\n",
        "print(type(pandas_df))"
      ],
      "execution_count": 446,
      "outputs": [
        {
          "output_type": "stream",
          "text": [
            "<class 'pandas.core.frame.DataFrame'>\n"
          ],
          "name": "stdout"
        }
      ]
    },
    {
      "cell_type": "code",
      "metadata": {
        "id": "46DvEKTjRyTs",
        "colab_type": "code",
        "outputId": "5eec379f-b950-475c-943a-28598869a36c",
        "colab": {
          "base_uri": "https://localhost:8080/",
          "height": 35
        }
      },
      "source": [
        "type(df2)"
      ],
      "execution_count": 447,
      "outputs": [
        {
          "output_type": "execute_result",
          "data": {
            "text/plain": [
              "pyspark.sql.dataframe.DataFrame"
            ]
          },
          "metadata": {
            "tags": []
          },
          "execution_count": 447
        }
      ]
    },
    {
      "cell_type": "code",
      "metadata": {
        "id": "JAuGpYaAR9b6",
        "colab_type": "code",
        "colab": {}
      },
      "source": [
        "# update col:  >>> df = df.withColumnRenamed('telePhoneNumber', 'phoneNumber')"
      ],
      "execution_count": 0,
      "outputs": []
    },
    {
      "cell_type": "code",
      "metadata": {
        "id": "PHzU3HEtR9gg",
        "colab_type": "code",
        "outputId": "fce6a6b0-a994-4052-8825-46e58877f665",
        "colab": {
          "base_uri": "https://localhost:8080/",
          "height": 254
        }
      },
      "source": [
        "# df2.columns\n",
        "\n",
        "df2.select('cut').show(7)"
      ],
      "execution_count": 449,
      "outputs": [
        {
          "output_type": "stream",
          "text": [
            "+---------+\n",
            "|      cut|\n",
            "+---------+\n",
            "|    Ideal|\n",
            "|  Premium|\n",
            "|     Good|\n",
            "|  Premium|\n",
            "|     Good|\n",
            "|Very Good|\n",
            "|Very Good|\n",
            "+---------+\n",
            "only showing top 7 rows\n",
            "\n"
          ],
          "name": "stdout"
        }
      ]
    },
    {
      "cell_type": "code",
      "metadata": {
        "id": "Sg-Ptn6_Sqon",
        "colab_type": "code",
        "outputId": "5ca5b27d-3fef-4773-8b2f-2c652dfe4cb5",
        "colab": {
          "base_uri": "https://localhost:8080/",
          "height": 490
        }
      },
      "source": [
        "df2.show()\n"
      ],
      "execution_count": 450,
      "outputs": [
        {
          "output_type": "stream",
          "text": [
            "+-----+---------+-----+-------+-----+-----+-----+----+----+----+\n",
            "|carat|      cut|color|clarity|depth|table|price|   x|   y|   z|\n",
            "+-----+---------+-----+-------+-----+-----+-----+----+----+----+\n",
            "| 0.23|    Ideal|    E|    SI2| 61.5| 55.0|  326|3.95|3.98|2.43|\n",
            "| 0.21|  Premium|    E|    SI1| 59.8| 61.0|  326|3.89|3.84|2.31|\n",
            "| 0.23|     Good|    E|    VS1| 56.9| 65.0|  327|4.05|4.07|2.31|\n",
            "| 0.29|  Premium|    I|    VS2| 62.4| 58.0|  334| 4.2|4.23|2.63|\n",
            "| 0.31|     Good|    J|    SI2| 63.3| 58.0|  335|4.34|4.35|2.75|\n",
            "| 0.24|Very Good|    J|   VVS2| 62.8| 57.0|  336|3.94|3.96|2.48|\n",
            "| 0.24|Very Good|    I|   VVS1| 62.3| 57.0|  336|3.95|3.98|2.47|\n",
            "| 0.26|Very Good|    H|    SI1| 61.9| 55.0|  337|4.07|4.11|2.53|\n",
            "| 0.22|     Fair|    E|    VS2| 65.1| 61.0|  337|3.87|3.78|2.49|\n",
            "| 0.23|Very Good|    H|    VS1| 59.4| 61.0|  338| 4.0|4.05|2.39|\n",
            "|  0.3|     Good|    J|    SI1| 64.0| 55.0|  339|4.25|4.28|2.73|\n",
            "| 0.23|    Ideal|    J|    VS1| 62.8| 56.0|  340|3.93| 3.9|2.46|\n",
            "| 0.22|  Premium|    F|    SI1| 60.4| 61.0|  342|3.88|3.84|2.33|\n",
            "| 0.31|    Ideal|    J|    SI2| 62.2| 54.0|  344|4.35|4.37|2.71|\n",
            "|  0.2|  Premium|    E|    SI2| 60.2| 62.0|  345|3.79|3.75|2.27|\n",
            "| 0.32|  Premium|    E|     I1| 60.9| 58.0|  345|4.38|4.42|2.68|\n",
            "|  0.3|    Ideal|    I|    SI2| 62.0| 54.0|  348|4.31|4.34|2.68|\n",
            "|  0.3|     Good|    J|    SI1| 63.4| 54.0|  351|4.23|4.29| 2.7|\n",
            "|  0.3|     Good|    J|    SI1| 63.8| 56.0|  351|4.23|4.26|2.71|\n",
            "|  0.3|Very Good|    J|    SI1| 62.7| 59.0|  351|4.21|4.27|2.66|\n",
            "+-----+---------+-----+-------+-----+-----+-----+----+----+----+\n",
            "only showing top 20 rows\n",
            "\n"
          ],
          "name": "stdout"
        }
      ]
    },
    {
      "cell_type": "code",
      "metadata": {
        "id": "WQMR93KKSqrh",
        "colab_type": "code",
        "outputId": "4fe0ffb4-d920-4d65-851c-f8472e21bb42",
        "colab": {
          "base_uri": "https://localhost:8080/",
          "height": 163
        }
      },
      "source": [
        "df2.filter(df2.depth < 50).show()"
      ],
      "execution_count": 451,
      "outputs": [
        {
          "output_type": "stream",
          "text": [
            "+-----+-----+-----+-------+-----+-----+-----+----+----+----+\n",
            "|carat|  cut|color|clarity|depth|table|price|   x|   y|   z|\n",
            "+-----+-----+-----+-------+-----+-----+-----+----+----+----+\n",
            "|  1.0| Fair|    G|    SI1| 43.0| 59.0| 3634|6.32|6.27|3.97|\n",
            "|  1.0| Fair|    G|    VS2| 44.0| 53.0| 4032|6.31|6.24|4.12|\n",
            "| 1.09|Ideal|    J|    VS2| 43.0| 54.0| 4778|6.53|6.55|4.12|\n",
            "+-----+-----+-----+-------+-----+-----+-----+----+----+----+\n",
            "\n"
          ],
          "name": "stdout"
        }
      ]
    },
    {
      "cell_type": "code",
      "metadata": {
        "id": "Ddr-Qo0CSxZZ",
        "colab_type": "code",
        "outputId": "3fb2c9e2-eb47-4f68-fb11-9c32ca86e7f7",
        "colab": {
          "base_uri": "https://localhost:8080/",
          "height": 199
        }
      },
      "source": [
        "# group by cut and tell me how many diamonds there are by cut....\n",
        "\n",
        "df2.groupBy('cut').count().show()"
      ],
      "execution_count": 452,
      "outputs": [
        {
          "output_type": "stream",
          "text": [
            "+---------+-----+\n",
            "|      cut|count|\n",
            "+---------+-----+\n",
            "|  Premium|13791|\n",
            "|    Ideal|21551|\n",
            "|     Good| 4906|\n",
            "|     Fair| 1610|\n",
            "|Very Good|12082|\n",
            "+---------+-----+\n",
            "\n"
          ],
          "name": "stdout"
        }
      ]
    },
    {
      "cell_type": "code",
      "metadata": {
        "id": "ZEUIjfVySxcR",
        "colab_type": "code",
        "outputId": "38300f49-4b7c-4ed4-db03-e9b24f6f18f7",
        "colab": {
          "base_uri": "https://localhost:8080/",
          "height": 199
        }
      },
      "source": [
        "df2.groupBy('cut').count().orderBy('cut').show()"
      ],
      "execution_count": 453,
      "outputs": [
        {
          "output_type": "stream",
          "text": [
            "+---------+-----+\n",
            "|      cut|count|\n",
            "+---------+-----+\n",
            "|     Fair| 1610|\n",
            "|     Good| 4906|\n",
            "|    Ideal|21551|\n",
            "|  Premium|13791|\n",
            "|Very Good|12082|\n",
            "+---------+-----+\n",
            "\n"
          ],
          "name": "stdout"
        }
      ]
    },
    {
      "cell_type": "code",
      "metadata": {
        "id": "-T0uGnOpUA--",
        "colab_type": "code",
        "outputId": "aef9208b-3970-42a2-e255-f90a39f15315",
        "colab": {
          "base_uri": "https://localhost:8080/",
          "height": 199
        }
      },
      "source": [
        "df2.groupBy('cut').count().orderBy(df2.cut.desc()).show()  # descending..."
      ],
      "execution_count": 454,
      "outputs": [
        {
          "output_type": "stream",
          "text": [
            "+---------+-----+\n",
            "|      cut|count|\n",
            "+---------+-----+\n",
            "|Very Good|12082|\n",
            "|  Premium|13791|\n",
            "|    Ideal|21551|\n",
            "|     Good| 4906|\n",
            "|     Fair| 1610|\n",
            "+---------+-----+\n",
            "\n"
          ],
          "name": "stdout"
        }
      ]
    },
    {
      "cell_type": "code",
      "metadata": {
        "id": "JfsbOLOHSxfP",
        "colab_type": "code",
        "outputId": "e7f8cac1-e012-4e37-a941-01c49f7e9df2",
        "colab": {
          "base_uri": "https://localhost:8080/",
          "height": 490
        }
      },
      "source": [
        "help(df2.orderBy)   # you dont need the () method portion..."
      ],
      "execution_count": 455,
      "outputs": [
        {
          "output_type": "stream",
          "text": [
            "Help on method sort in module pyspark.sql.dataframe:\n",
            "\n",
            "sort(*cols, **kwargs) method of pyspark.sql.dataframe.DataFrame instance\n",
            "    Returns a new :class:`DataFrame` sorted by the specified column(s).\n",
            "    \n",
            "    :param cols: list of :class:`Column` or column names to sort by.\n",
            "    :param ascending: boolean or list of boolean (default ``True``).\n",
            "        Sort ascending vs. descending. Specify list for multiple sort orders.\n",
            "        If a list is specified, length of the list must equal length of the `cols`.\n",
            "    \n",
            "    >>> df.sort(df.age.desc()).collect()\n",
            "    [Row(age=5, name='Bob'), Row(age=2, name='Alice')]\n",
            "    >>> df.sort(\"age\", ascending=False).collect()\n",
            "    [Row(age=5, name='Bob'), Row(age=2, name='Alice')]\n",
            "    >>> df.orderBy(df.age.desc()).collect()\n",
            "    [Row(age=5, name='Bob'), Row(age=2, name='Alice')]\n",
            "    >>> from pyspark.sql.functions import *\n",
            "    >>> df.sort(asc(\"age\")).collect()\n",
            "    [Row(age=2, name='Alice'), Row(age=5, name='Bob')]\n",
            "    >>> df.orderBy(desc(\"age\"), \"name\").collect()\n",
            "    [Row(age=5, name='Bob'), Row(age=2, name='Alice')]\n",
            "    >>> df.orderBy([\"age\", \"name\"], ascending=[0, 1]).collect()\n",
            "    [Row(age=5, name='Bob'), Row(age=2, name='Alice')]\n",
            "    \n",
            "    .. versionadded:: 1.3\n",
            "\n"
          ],
          "name": "stdout"
        }
      ]
    },
    {
      "cell_type": "code",
      "metadata": {
        "id": "PWXIdp9wSxj0",
        "colab_type": "code",
        "outputId": "a9c4efa0-1727-4a07-cc6a-f2eb29d9bfaa",
        "colab": {
          "base_uri": "https://localhost:8080/",
          "height": 835
        }
      },
      "source": [
        "df2.select('cut', 'clarity').dropDuplicates().show(100)   # all the combinations..."
      ],
      "execution_count": 456,
      "outputs": [
        {
          "output_type": "stream",
          "text": [
            "+---------+-------+\n",
            "|      cut|clarity|\n",
            "+---------+-------+\n",
            "|  Premium|    VS2|\n",
            "|  Premium|     I1|\n",
            "|Very Good|   VVS2|\n",
            "|    Ideal|    VS1|\n",
            "|Very Good|    VS2|\n",
            "|    Ideal|     I1|\n",
            "|    Ideal|   VVS2|\n",
            "|     Good|    VS1|\n",
            "|Very Good|     I1|\n",
            "|  Premium|    SI1|\n",
            "|     Fair|     IF|\n",
            "|  Premium|    VS1|\n",
            "|     Fair|    VS1|\n",
            "|Very Good|    SI1|\n",
            "|     Good|   VVS2|\n",
            "|     Good|    VS2|\n",
            "|     Fair|    VS2|\n",
            "|  Premium|   VVS2|\n",
            "|     Fair|     I1|\n",
            "|     Fair|    SI1|\n",
            "|Very Good|    VS1|\n",
            "|  Premium|     IF|\n",
            "|     Fair|    SI2|\n",
            "|    Ideal|    SI2|\n",
            "|Very Good|   VVS1|\n",
            "|    Ideal|     IF|\n",
            "|     Good|     IF|\n",
            "|     Good|    SI2|\n",
            "|     Fair|   VVS2|\n",
            "|     Good|     I1|\n",
            "|     Good|   VVS1|\n",
            "|    Ideal|    VS2|\n",
            "|  Premium|    SI2|\n",
            "|     Fair|   VVS1|\n",
            "|     Good|    SI1|\n",
            "|  Premium|   VVS1|\n",
            "|    Ideal|   VVS1|\n",
            "|Very Good|    SI2|\n",
            "|    Ideal|    SI1|\n",
            "|Very Good|     IF|\n",
            "+---------+-------+\n",
            "\n"
          ],
          "name": "stdout"
        }
      ]
    },
    {
      "cell_type": "code",
      "metadata": {
        "id": "4_fvKMFDUYAG",
        "colab_type": "code",
        "colab": {}
      },
      "source": [
        "#test_df_sex = test_df.withColumnRenamed('Gender', 'Sex')"
      ],
      "execution_count": 0,
      "outputs": []
    },
    {
      "cell_type": "markdown",
      "metadata": {
        "id": "iLr5gx7tMPYM",
        "colab_type": "text"
      },
      "source": [
        ""
      ]
    },
    {
      "cell_type": "markdown",
      "metadata": {
        "id": "1JIzmMZily4Y",
        "colab_type": "text"
      },
      "source": [
        "# Background"
      ]
    },
    {
      "cell_type": "code",
      "metadata": {
        "id": "dyo5PNf8l0DX",
        "colab_type": "code",
        "colab": {}
      },
      "source": [
        "# # Download datasets directly to your Google Drive \"Colab Datasets\" folder\n",
        "\n",
        "# import requests\n",
        "\n",
        "# # 2007 data\n",
        "\n",
        "# file_url = \"http://stat-computing.org/dataexpo/2009/2007.csv.bz2\"\n",
        "\n",
        "# r = requests.get(file_url, stream = True) \n",
        "\n",
        "# with open(\"/content/gdrive/My Drive/Colab Datasets/2007.csv.bz2\", \"wb\") as file: \n",
        "# \tfor block in r.iter_content(chunk_size = 1024): \n",
        "# \t\tif block: \n",
        "# \t\t\tfile.write(block)\n",
        "\n",
        "# # 2008 data\n",
        "\n",
        "# file_url = \"http://stat-computing.org/dataexpo/2009/2008.csv.bz2\"\n",
        "\n",
        "# r = requests.get(file_url, stream = True) \n",
        "\n",
        "# with open(\"/content/gdrive/My Drive/Colab Datasets/2008.csv.bz2\", \"wb\") as file: \n",
        "# \tfor block in r.iter_content(chunk_size = 1024): \n",
        "# \t\tif block: \n",
        "# \t\t\tfile.write(block)"
      ],
      "execution_count": 0,
      "outputs": []
    },
    {
      "cell_type": "code",
      "metadata": {
        "id": "xlzao-wdl7H4",
        "colab_type": "code",
        "colab": {}
      },
      "source": [
        "# from pyspark import SparkContext\n",
        "# from pyspark.sql import SparkSession\n",
        "# from pyspark.ml import Pipeline\n",
        "# from pyspark.ml.classification import RandomForestClassifier\n",
        "# from pyspark.ml.feature import IndexToString, StringIndexer, VectorIndexer, VectorAssembler\n",
        "# from pyspark.ml.evaluation import MulticlassClassificationEvaluator\n",
        "\n",
        "# from pyspark.sql.functions import isnan, when, count, col"
      ],
      "execution_count": 0,
      "outputs": []
    },
    {
      "cell_type": "code",
      "metadata": {
        "id": "WHhRg0b9mA8o",
        "colab_type": "code",
        "outputId": "25d053d3-e5b8-4100-da56-79ed4ab8d63f",
        "colab": {
          "base_uri": "https://localhost:8080/",
          "height": 35
        }
      },
      "source": [
        "print(type(df_pri))"
      ],
      "execution_count": 460,
      "outputs": [
        {
          "output_type": "stream",
          "text": [
            "<class 'pyspark.sql.dataframe.DataFrame'>\n"
          ],
          "name": "stdout"
        }
      ]
    },
    {
      "cell_type": "code",
      "metadata": {
        "id": "raK-4mmumGVn",
        "colab_type": "code",
        "colab": {}
      },
      "source": [
        "#  see, this is not a pandas df, it is a SPARK df..."
      ],
      "execution_count": 0,
      "outputs": []
    },
    {
      "cell_type": "code",
      "metadata": {
        "id": "p96P3x5JmKho",
        "colab_type": "code",
        "colab": {}
      },
      "source": [
        "df = df_pri"
      ],
      "execution_count": 0,
      "outputs": []
    },
    {
      "cell_type": "code",
      "metadata": {
        "id": "uVKNEVROmR9w",
        "colab_type": "code",
        "outputId": "92817c33-c29f-4b77-a101-0d71ff00db3d",
        "colab": {
          "base_uri": "https://localhost:8080/",
          "height": 35
        }
      },
      "source": [
        "df"
      ],
      "execution_count": 463,
      "outputs": [
        {
          "output_type": "execute_result",
          "data": {
            "text/plain": [
              "DataFrame[carat: double, cut: string, color: string, clarity: string, depth: double, table: double, price: int, x: double, y: double, z: double]"
            ]
          },
          "metadata": {
            "tags": []
          },
          "execution_count": 463
        }
      ]
    },
    {
      "cell_type": "code",
      "metadata": {
        "id": "8nV_E_EamT5H",
        "colab_type": "code",
        "outputId": "8935dedd-d3ae-40be-c06c-ebe5646aefef",
        "colab": {
          "base_uri": "https://localhost:8080/",
          "height": 490
        }
      },
      "source": [
        "df.show()"
      ],
      "execution_count": 464,
      "outputs": [
        {
          "output_type": "stream",
          "text": [
            "+-----+---------+-----+-------+-----+-----+-----+----+----+----+\n",
            "|carat|      cut|color|clarity|depth|table|price|   x|   y|   z|\n",
            "+-----+---------+-----+-------+-----+-----+-----+----+----+----+\n",
            "| 0.23|    Ideal|    E|    SI2| 61.5| 55.0|  326|3.95|3.98|2.43|\n",
            "| 0.21|  Premium|    E|    SI1| 59.8| 61.0|  326|3.89|3.84|2.31|\n",
            "| 0.23|     Good|    E|    VS1| 56.9| 65.0|  327|4.05|4.07|2.31|\n",
            "| 0.29|  Premium|    I|    VS2| 62.4| 58.0|  334| 4.2|4.23|2.63|\n",
            "| 0.31|     Good|    J|    SI2| 63.3| 58.0|  335|4.34|4.35|2.75|\n",
            "| 0.24|Very Good|    J|   VVS2| 62.8| 57.0|  336|3.94|3.96|2.48|\n",
            "| 0.24|Very Good|    I|   VVS1| 62.3| 57.0|  336|3.95|3.98|2.47|\n",
            "| 0.26|Very Good|    H|    SI1| 61.9| 55.0|  337|4.07|4.11|2.53|\n",
            "| 0.22|     Fair|    E|    VS2| 65.1| 61.0|  337|3.87|3.78|2.49|\n",
            "| 0.23|Very Good|    H|    VS1| 59.4| 61.0|  338| 4.0|4.05|2.39|\n",
            "|  0.3|     Good|    J|    SI1| 64.0| 55.0|  339|4.25|4.28|2.73|\n",
            "| 0.23|    Ideal|    J|    VS1| 62.8| 56.0|  340|3.93| 3.9|2.46|\n",
            "| 0.22|  Premium|    F|    SI1| 60.4| 61.0|  342|3.88|3.84|2.33|\n",
            "| 0.31|    Ideal|    J|    SI2| 62.2| 54.0|  344|4.35|4.37|2.71|\n",
            "|  0.2|  Premium|    E|    SI2| 60.2| 62.0|  345|3.79|3.75|2.27|\n",
            "| 0.32|  Premium|    E|     I1| 60.9| 58.0|  345|4.38|4.42|2.68|\n",
            "|  0.3|    Ideal|    I|    SI2| 62.0| 54.0|  348|4.31|4.34|2.68|\n",
            "|  0.3|     Good|    J|    SI1| 63.4| 54.0|  351|4.23|4.29| 2.7|\n",
            "|  0.3|     Good|    J|    SI1| 63.8| 56.0|  351|4.23|4.26|2.71|\n",
            "|  0.3|Very Good|    J|    SI1| 62.7| 59.0|  351|4.21|4.27|2.66|\n",
            "+-----+---------+-----+-------+-----+-----+-----+----+----+----+\n",
            "only showing top 20 rows\n",
            "\n"
          ],
          "name": "stdout"
        }
      ]
    },
    {
      "cell_type": "code",
      "metadata": {
        "id": "jUY1OvXymVDI",
        "colab_type": "code",
        "outputId": "3cb4aa7a-0029-43df-c023-52b5eeb6c1a1",
        "colab": {
          "base_uri": "https://localhost:8080/",
          "height": 35
        }
      },
      "source": [
        "print(f\"The shape is {df.count():d} rows by {len(df.columns):d} columns.\")"
      ],
      "execution_count": 465,
      "outputs": [
        {
          "output_type": "stream",
          "text": [
            "The shape is 53940 rows by 10 columns.\n"
          ],
          "name": "stdout"
        }
      ]
    },
    {
      "cell_type": "code",
      "metadata": {
        "id": "WKdLZHT9mWvn",
        "colab_type": "code",
        "outputId": "94957b5a-5cdb-402b-a7eb-fe4f8185f01a",
        "colab": {
          "base_uri": "https://localhost:8080/",
          "height": 35
        }
      },
      "source": [
        "df.columns"
      ],
      "execution_count": 466,
      "outputs": [
        {
          "output_type": "execute_result",
          "data": {
            "text/plain": [
              "['carat', 'cut', 'color', 'clarity', 'depth', 'table', 'price', 'x', 'y', 'z']"
            ]
          },
          "metadata": {
            "tags": []
          },
          "execution_count": 466
        }
      ]
    },
    {
      "cell_type": "code",
      "metadata": {
        "id": "laooSvtzmYeg",
        "colab_type": "code",
        "colab": {}
      },
      "source": [
        "# null_counts = df.select([count(when(isnan(c) | col(c).isNull(), c)).alias(c)for c in df.columns]).toPandas().to_dict(orient='records')\n",
        "# print(f\"We have {sum(null_counts[0].values()):d} null values in this dataset.\")"
      ],
      "execution_count": 0,
      "outputs": []
    },
    {
      "cell_type": "code",
      "metadata": {
        "id": "kFJRyhX5mpa-",
        "colab_type": "code",
        "outputId": "2fd137ba-899c-4544-fbd6-e16cef54356e",
        "colab": {
          "base_uri": "https://localhost:8080/",
          "height": 35
        }
      },
      "source": [
        "df.select('cut').distinct().rdd.map(lambda r: r[0]).collect()"
      ],
      "execution_count": 468,
      "outputs": [
        {
          "output_type": "execute_result",
          "data": {
            "text/plain": [
              "['Premium', 'Ideal', 'Good', 'Fair', 'Very Good']"
            ]
          },
          "metadata": {
            "tags": []
          },
          "execution_count": 468
        }
      ]
    },
    {
      "cell_type": "code",
      "metadata": {
        "id": "tPmSXwzDmykg",
        "colab_type": "code",
        "outputId": "fd82a4d2-ddf9-44fd-82d3-32f0aa8f0e0d",
        "colab": {
          "base_uri": "https://localhost:8080/",
          "height": 108
        }
      },
      "source": [
        "df.select('cut').distinct().rdd.collect()"
      ],
      "execution_count": 469,
      "outputs": [
        {
          "output_type": "execute_result",
          "data": {
            "text/plain": [
              "[Row(cut='Premium'),\n",
              " Row(cut='Ideal'),\n",
              " Row(cut='Good'),\n",
              " Row(cut='Fair'),\n",
              " Row(cut='Very Good')]"
            ]
          },
          "metadata": {
            "tags": []
          },
          "execution_count": 469
        }
      ]
    },
    {
      "cell_type": "code",
      "metadata": {
        "id": "T7T5Up2lm81O",
        "colab_type": "code",
        "outputId": "70fa0c9f-4008-49b2-d9e6-2cdbcb15bd62",
        "colab": {
          "base_uri": "https://localhost:8080/",
          "height": 490
        }
      },
      "source": [
        "df.select('carat').show()"
      ],
      "execution_count": 470,
      "outputs": [
        {
          "output_type": "stream",
          "text": [
            "+-----+\n",
            "|carat|\n",
            "+-----+\n",
            "| 0.23|\n",
            "| 0.21|\n",
            "| 0.23|\n",
            "| 0.29|\n",
            "| 0.31|\n",
            "| 0.24|\n",
            "| 0.24|\n",
            "| 0.26|\n",
            "| 0.22|\n",
            "| 0.23|\n",
            "|  0.3|\n",
            "| 0.23|\n",
            "| 0.22|\n",
            "| 0.31|\n",
            "|  0.2|\n",
            "| 0.32|\n",
            "|  0.3|\n",
            "|  0.3|\n",
            "|  0.3|\n",
            "|  0.3|\n",
            "+-----+\n",
            "only showing top 20 rows\n",
            "\n"
          ],
          "name": "stdout"
        }
      ]
    },
    {
      "cell_type": "markdown",
      "metadata": {
        "id": "7I0GT7cB0n5S",
        "colab_type": "text"
      },
      "source": [
        "# Now we can officially get started with running examples etc "
      ]
    },
    {
      "cell_type": "code",
      "metadata": {
        "id": "rCuNudtf0qRH",
        "colab_type": "code",
        "colab": {}
      },
      "source": [
        "textFile = spark.read.text(\"/content/spark-2.4.5-bin-hadoop2.7/README.md\")"
      ],
      "execution_count": 0,
      "outputs": []
    },
    {
      "cell_type": "code",
      "metadata": {
        "id": "qrtL5gdiW576",
        "colab_type": "code",
        "outputId": "9fdbbc1b-51e3-48e7-9cc0-f1349534063c",
        "colab": {
          "base_uri": "https://localhost:8080/",
          "height": 217
        }
      },
      "source": [
        "!ls -l /content/spark-2.4.5-bin-hadoop2.7/examples/src/main/resources\n",
        "\n",
        "\n",
        "\n",
        "\n",
        "\n",
        "\n",
        "#  G  O  L  D  \n",
        "\n",
        "\n",
        "\n",
        "\n"
      ],
      "execution_count": 472,
      "outputs": [
        {
          "output_type": "stream",
          "text": [
            "total 44\n",
            "-rw-r--r-- 1 1000 1000  130 Feb  2 19:47 employees.json\n",
            "-rw-r--r-- 1 1000 1000  240 Feb  2 19:47 full_user.avsc\n",
            "-rw-r--r-- 1 1000 1000 5812 Feb  2 19:47 kv1.txt\n",
            "-rw-r--r-- 1 1000 1000   49 Feb  2 19:47 people.csv\n",
            "-rw-r--r-- 1 1000 1000   73 Feb  2 19:47 people.json\n",
            "-rw-r--r-- 1 1000 1000   32 Feb  2 19:47 people.txt\n",
            "-rw-r--r-- 1 1000 1000  185 Feb  2 19:47 user.avsc\n",
            "-rw-r--r-- 1 1000 1000  334 Feb  2 19:47 users.avro\n",
            "-rw-r--r-- 1 1000 1000  547 Feb  2 19:47 users.orc\n",
            "-rw-r--r-- 1 1000 1000  615 Feb  2 19:47 users.parquet\n"
          ],
          "name": "stdout"
        }
      ]
    },
    {
      "cell_type": "code",
      "metadata": {
        "id": "EQDbgYmB1Gw_",
        "colab_type": "code",
        "outputId": "f79146cb-7265-4180-8b9f-ed68de3735a6",
        "colab": {
          "base_uri": "https://localhost:8080/",
          "height": 35
        }
      },
      "source": [
        "textFile"
      ],
      "execution_count": 473,
      "outputs": [
        {
          "output_type": "execute_result",
          "data": {
            "text/plain": [
              "DataFrame[value: string]"
            ]
          },
          "metadata": {
            "tags": []
          },
          "execution_count": 473
        }
      ]
    },
    {
      "cell_type": "code",
      "metadata": {
        "id": "Al3MTPxs1Ht2",
        "colab_type": "code",
        "outputId": "8146343a-8f9d-4a2d-af55-31bee13a3f0d",
        "colab": {
          "base_uri": "https://localhost:8080/",
          "height": 35
        }
      },
      "source": [
        "textFile.count()"
      ],
      "execution_count": 474,
      "outputs": [
        {
          "output_type": "execute_result",
          "data": {
            "text/plain": [
              "104"
            ]
          },
          "metadata": {
            "tags": []
          },
          "execution_count": 474
        }
      ]
    },
    {
      "cell_type": "code",
      "metadata": {
        "id": "AEq_BHwy1UJ2",
        "colab_type": "code",
        "outputId": "51de6db5-0ac5-4416-9eea-7705a7980046",
        "colab": {
          "base_uri": "https://localhost:8080/",
          "height": 35
        }
      },
      "source": [
        "textFile.first()"
      ],
      "execution_count": 475,
      "outputs": [
        {
          "output_type": "execute_result",
          "data": {
            "text/plain": [
              "Row(value='# Apache Spark')"
            ]
          },
          "metadata": {
            "tags": []
          },
          "execution_count": 475
        }
      ]
    },
    {
      "cell_type": "code",
      "metadata": {
        "id": "bLmngyCg1fqe",
        "colab_type": "code",
        "outputId": "c2c5f982-4b95-4ffa-81f6-c960aa4a2a5c",
        "colab": {
          "base_uri": "https://localhost:8080/",
          "height": 35
        }
      },
      "source": [
        "textFile.value"
      ],
      "execution_count": 476,
      "outputs": [
        {
          "output_type": "execute_result",
          "data": {
            "text/plain": [
              "Column<b'value'>"
            ]
          },
          "metadata": {
            "tags": []
          },
          "execution_count": 476
        }
      ]
    },
    {
      "cell_type": "code",
      "metadata": {
        "id": "Y4XMKApd1jqu",
        "colab_type": "code",
        "outputId": "4217017b-1453-4dbc-a081-c011c0158c73",
        "colab": {
          "base_uri": "https://localhost:8080/",
          "height": 35
        }
      },
      "source": [
        "textFile.filter(textFile.value.contains(\"Spark\")).count()  # How many lines contain \"Spark\"?"
      ],
      "execution_count": 477,
      "outputs": [
        {
          "output_type": "execute_result",
          "data": {
            "text/plain": [
              "19"
            ]
          },
          "metadata": {
            "tags": []
          },
          "execution_count": 477
        }
      ]
    },
    {
      "cell_type": "code",
      "metadata": {
        "id": "dbbtbCaw1pyO",
        "colab_type": "code",
        "outputId": "1039538f-f979-4284-c8dd-519cdb9764e5",
        "colab": {
          "base_uri": "https://localhost:8080/",
          "height": 35
        }
      },
      "source": [
        "from pyspark.sql.functions import *\n",
        "textFile.select(size(split(textFile.value, \"\\s+\")).name(\"numWords\")).agg(max(col(\"numWords\"))).collect()"
      ],
      "execution_count": 478,
      "outputs": [
        {
          "output_type": "execute_result",
          "data": {
            "text/plain": [
              "[Row(max(numWords)=16)]"
            ]
          },
          "metadata": {
            "tags": []
          },
          "execution_count": 478
        }
      ]
    },
    {
      "cell_type": "code",
      "metadata": {
        "id": "m6ddT3CP1tsX",
        "colab_type": "code",
        "colab": {}
      },
      "source": [
        "wordCounts = textFile.select(explode(split(textFile.value, \"\\s+\")).alias(\"word\")).groupBy(\"word\").count()"
      ],
      "execution_count": 0,
      "outputs": []
    },
    {
      "cell_type": "code",
      "metadata": {
        "id": "cHsRiKqj10mu",
        "colab_type": "code",
        "outputId": "c4ec3da5-d9cf-47a8-d59a-b795ce1d45e1",
        "colab": {
          "base_uri": "https://localhost:8080/",
          "height": 1000
        }
      },
      "source": [
        "wordCounts.collect()"
      ],
      "execution_count": 480,
      "outputs": [
        {
          "output_type": "execute_result",
          "data": {
            "text/plain": [
              "[Row(word='online', count=1),\n",
              " Row(word='graphs', count=1),\n",
              " Row(word='[\"Building', count=1),\n",
              " Row(word='documentation', count=3),\n",
              " Row(word='command,', count=2),\n",
              " Row(word='abbreviated', count=1),\n",
              " Row(word='overview', count=1),\n",
              " Row(word='rich', count=1),\n",
              " Row(word='set', count=2),\n",
              " Row(word='-DskipTests', count=1),\n",
              " Row(word='name', count=1),\n",
              " Row(word='page](http://spark.apache.org/documentation.html).', count=1),\n",
              " Row(word='[\"Specifying', count=1),\n",
              " Row(word='stream', count=1),\n",
              " Row(word='run:', count=1),\n",
              " Row(word='not', count=1),\n",
              " Row(word='programs', count=2),\n",
              " Row(word='tests', count=2),\n",
              " Row(word='./dev/run-tests', count=1),\n",
              " Row(word='will', count=1),\n",
              " Row(word='[run', count=1),\n",
              " Row(word='particular', count=2),\n",
              " Row(word='Alternatively,', count=1),\n",
              " Row(word='must', count=1),\n",
              " Row(word='using', count=3),\n",
              " Row(word='you', count=4),\n",
              " Row(word='MLlib', count=1),\n",
              " Row(word='DataFrames,', count=1),\n",
              " Row(word='variable', count=1),\n",
              " Row(word='Note', count=1),\n",
              " Row(word='core', count=1),\n",
              " Row(word='protocols', count=1),\n",
              " Row(word='guidance', count=2),\n",
              " Row(word='shell:', count=2),\n",
              " Row(word='can', count=6),\n",
              " Row(word='site,', count=1),\n",
              " Row(word='systems.', count=1),\n",
              " Row(word='[building', count=1),\n",
              " Row(word='configure', count=1),\n",
              " Row(word='for', count=12),\n",
              " Row(word='README', count=1),\n",
              " Row(word='Interactive', count=2),\n",
              " Row(word='how', count=3),\n",
              " Row(word='[Configuration', count=1),\n",
              " Row(word='Hive', count=2),\n",
              " Row(word='system', count=1),\n",
              " Row(word='provides', count=1),\n",
              " Row(word='Hadoop-supported', count=1),\n",
              " Row(word='pre-built', count=1),\n",
              " Row(word='[\"Useful', count=1),\n",
              " Row(word='directory.', count=1),\n",
              " Row(word='Example', count=1),\n",
              " Row(word='example', count=3),\n",
              " Row(word='Kubernetes', count=1),\n",
              " Row(word='one', count=2),\n",
              " Row(word='MASTER', count=1),\n",
              " Row(word='in', count=5),\n",
              " Row(word='library', count=1),\n",
              " Row(word='Spark.', count=1),\n",
              " Row(word='contains', count=1),\n",
              " Row(word='Configuration', count=1),\n",
              " Row(word='programming', count=1),\n",
              " Row(word='with', count=3),\n",
              " Row(word='contributing', count=1),\n",
              " Row(word='downloaded', count=1),\n",
              " Row(word='1000).count()', count=1),\n",
              " Row(word='comes', count=1),\n",
              " Row(word='machine', count=1),\n",
              " Row(word='Tools\"](http://spark.apache.org/developer-tools.html).', count=1),\n",
              " Row(word='building', count=2),\n",
              " Row(word='params', count=1),\n",
              " Row(word='Guide](http://spark.apache.org/docs/latest/configuration.html)', count=1),\n",
              " Row(word='given.', count=1),\n",
              " Row(word='be', count=2),\n",
              " Row(word='same', count=1),\n",
              " Row(word='integration', count=1),\n",
              " Row(word='Programs', count=1),\n",
              " Row(word='locally', count=2),\n",
              " Row(word='using:', count=1),\n",
              " Row(word='fast', count=1),\n",
              " Row(word='[Apache', count=1),\n",
              " Row(word='your', count=1),\n",
              " Row(word='optimized', count=1),\n",
              " Row(word='Developer', count=1),\n",
              " Row(word='R,', count=1),\n",
              " Row(word='should', count=2),\n",
              " Row(word='graph', count=1),\n",
              " Row(word='package', count=1),\n",
              " Row(word='[project', count=1),\n",
              " Row(word='project', count=1),\n",
              " Row(word='`examples`', count=2),\n",
              " Row(word='resource-managers/kubernetes/integration-tests/README.md', count=1),\n",
              " Row(word='versions', count=1),\n",
              " Row(word='Spark](#building-spark).', count=1),\n",
              " Row(word='general', count=3),\n",
              " Row(word='other', count=1),\n",
              " Row(word='learning,', count=1),\n",
              " Row(word='when', count=1),\n",
              " Row(word='submit', count=1),\n",
              " Row(word='Apache', count=1),\n",
              " Row(word='1000:', count=2),\n",
              " Row(word='detailed', count=2),\n",
              " Row(word='About', count=1),\n",
              " Row(word='is', count=7),\n",
              " Row(word='on', count=7),\n",
              " Row(word='scala>', count=1),\n",
              " Row(word='print', count=1),\n",
              " Row(word='use', count=3),\n",
              " Row(word='different', count=1),\n",
              " Row(word='following', count=2),\n",
              " Row(word='SparkPi', count=2),\n",
              " Row(word='refer', count=2),\n",
              " Row(word='./bin/run-example', count=2),\n",
              " Row(word='data', count=1),\n",
              " Row(word='Tests', count=1),\n",
              " Row(word='Versions', count=1),\n",
              " Row(word='Data.', count=1),\n",
              " Row(word='processing.', count=1),\n",
              " Row(word='its', count=1),\n",
              " Row(word='basic', count=1),\n",
              " Row(word='latest', count=1),\n",
              " Row(word='only', count=1),\n",
              " Row(word='<class>', count=1),\n",
              " Row(word='have', count=1),\n",
              " Row(word='runs.', count=1),\n",
              " Row(word='You', count=3),\n",
              " Row(word='tips,', count=1),\n",
              " Row(word='project.', count=1),\n",
              " Row(word='developing', count=1),\n",
              " Row(word='YARN,', count=1),\n",
              " Row(word='It', count=2),\n",
              " Row(word='\"local\"', count=1),\n",
              " Row(word='processing,', count=1),\n",
              " Row(word='built', count=1),\n",
              " Row(word='Pi', count=1),\n",
              " Row(word='thread,', count=1),\n",
              " Row(word='A', count=1),\n",
              " Row(word='APIs', count=1),\n",
              " Row(word='Scala,', count=1),\n",
              " Row(word='file', count=1),\n",
              " Row(word='computation', count=1),\n",
              " Row(word='Once', count=1),\n",
              " Row(word='find', count=1),\n",
              " Row(word='the', count=23),\n",
              " Row(word='To', count=2),\n",
              " Row(word='sc.parallelize(1', count=1),\n",
              " Row(word='uses', count=1),\n",
              " Row(word='Version', count=1),\n",
              " Row(word='N', count=1),\n",
              " Row(word='programs,', count=1),\n",
              " Row(word='\"yarn\"', count=1),\n",
              " Row(word='see', count=3),\n",
              " Row(word='./bin/pyspark', count=1),\n",
              " Row(word='return', count=2),\n",
              " Row(word='computing', count=1),\n",
              " Row(word='Java,', count=1),\n",
              " Row(word='from', count=1),\n",
              " Row(word='Because', count=1),\n",
              " Row(word='cluster', count=2),\n",
              " Row(word='Streaming', count=1),\n",
              " Row(word='More', count=1),\n",
              " Row(word='analysis.', count=1),\n",
              " Row(word='Maven](http://maven.apache.org/).', count=1),\n",
              " Row(word='cluster.', count=1),\n",
              " Row(word='Running', count=1),\n",
              " Row(word='Please', count=4),\n",
              " Row(word='talk', count=1),\n",
              " Row(word='distributions.', count=1),\n",
              " Row(word='guide,', count=1),\n",
              " Row(word='tests](http://spark.apache.org/developer-tools.html#individual-tests).', count=1),\n",
              " Row(word='There', count=1),\n",
              " Row(word='\"local[N]\"', count=1),\n",
              " Row(word='Try', count=1),\n",
              " Row(word='and', count=10),\n",
              " Row(word='do', count=2),\n",
              " Row(word='Scala', count=2),\n",
              " Row(word='class', count=2),\n",
              " Row(word='build', count=3),\n",
              " Row(word='setup', count=1),\n",
              " Row(word='need', count=1),\n",
              " Row(word='spark://', count=1),\n",
              " Row(word='Hadoop,', count=2),\n",
              " Row(word='Thriftserver', count=1),\n",
              " Row(word='are', count=1),\n",
              " Row(word='requires', count=1),\n",
              " Row(word='package.', count=1),\n",
              " Row(word='Enabling', count=1),\n",
              " Row(word='clean', count=1),\n",
              " Row(word='sc.parallelize(range(1000)).count()', count=1),\n",
              " Row(word='high-level', count=1),\n",
              " Row(word='SQL', count=2),\n",
              " Row(word='against', count=1),\n",
              " Row(word='of', count=5),\n",
              " Row(word='through', count=1),\n",
              " Row(word='review', count=1),\n",
              " Row(word='package.)', count=1),\n",
              " Row(word='Python,', count=2),\n",
              " Row(word='easiest', count=1),\n",
              " Row(word='no', count=1),\n",
              " Row(word='Testing', count=1),\n",
              " Row(word='several', count=1),\n",
              " Row(word='help', count=1),\n",
              " Row(word='The', count=1),\n",
              " Row(word='sample', count=1),\n",
              " Row(word='MASTER=spark://host:7077', count=1),\n",
              " Row(word='Big', count=1),\n",
              " Row(word='examples', count=2),\n",
              " Row(word='an', count=4),\n",
              " Row(word='#', count=1),\n",
              " Row(word='Online', count=1),\n",
              " Row(word='test,', count=1),\n",
              " Row(word='including', count=4),\n",
              " Row(word='usage', count=1),\n",
              " Row(word='Python', count=2),\n",
              " Row(word='at', count=2),\n",
              " Row(word='development', count=1),\n",
              " Row(word='Spark\"](http://spark.apache.org/docs/latest/building-spark.html).', count=1),\n",
              " Row(word='IDE,', count=1),\n",
              " Row(word='way', count=1),\n",
              " Row(word='Contributing', count=1),\n",
              " Row(word='get', count=1),\n",
              " Row(word='that', count=2),\n",
              " Row(word='##', count=9),\n",
              " Row(word='For', count=3),\n",
              " Row(word='prefer', count=1),\n",
              " Row(word='This', count=2),\n",
              " Row(word='build/mvn', count=1),\n",
              " Row(word='running', count=1),\n",
              " Row(word='web', count=1),\n",
              " Row(word='run', count=7),\n",
              " Row(word='locally.', count=1),\n",
              " Row(word='Spark', count=15),\n",
              " Row(word='URL,', count=1),\n",
              " Row(word='a', count=9),\n",
              " Row(word='higher-level', count=1),\n",
              " Row(word='tools', count=1),\n",
              " Row(word='if', count=4),\n",
              " Row(word='available', count=1),\n",
              " Row(word='', count=48),\n",
              " Row(word='Documentation', count=1),\n",
              " Row(word='this', count=1),\n",
              " Row(word='(You', count=1),\n",
              " Row(word='>>>', count=1),\n",
              " Row(word='information', count=1),\n",
              " Row(word='info', count=1),\n",
              " Row(word='<http://spark.apache.org/>', count=1),\n",
              " Row(word='Shell', count=2),\n",
              " Row(word='environment', count=1),\n",
              " Row(word='built,', count=1),\n",
              " Row(word='module,', count=1),\n",
              " Row(word='them,', count=1),\n",
              " Row(word='`./bin/run-example', count=1),\n",
              " Row(word='instance:', count=1),\n",
              " Row(word='first', count=1),\n",
              " Row(word='[Contribution', count=1),\n",
              " Row(word='guide](http://spark.apache.org/contributing.html)', count=1),\n",
              " Row(word='documentation,', count=1),\n",
              " Row(word='[params]`.', count=1),\n",
              " Row(word='mesos://', count=1),\n",
              " Row(word='engine', count=1),\n",
              " Row(word='GraphX', count=1),\n",
              " Row(word='example:', count=1),\n",
              " Row(word='HDFS', count=1),\n",
              " Row(word='YARN\"](http://spark.apache.org/docs/latest/building-spark.html#specifying-the-hadoop-version-and-enabling-yarn)', count=1),\n",
              " Row(word='or', count=3),\n",
              " Row(word='to', count=17),\n",
              " Row(word='Hadoop', count=3),\n",
              " Row(word='individual', count=1),\n",
              " Row(word='also', count=5),\n",
              " Row(word='changed', count=1),\n",
              " Row(word='started', count=1),\n",
              " Row(word='./bin/spark-shell', count=1),\n",
              " Row(word='threads.', count=1),\n",
              " Row(word='supports', count=2),\n",
              " Row(word='storage', count=1),\n",
              " Row(word='version', count=1),\n",
              " Row(word='instructions.', count=1),\n",
              " Row(word='Building', count=1),\n",
              " Row(word='start', count=1),\n",
              " Row(word='Many', count=1),\n",
              " Row(word='which', count=2),\n",
              " Row(word='And', count=1),\n",
              " Row(word='distribution', count=1)]"
            ]
          },
          "metadata": {
            "tags": []
          },
          "execution_count": 480
        }
      ]
    },
    {
      "cell_type": "code",
      "metadata": {
        "id": "YTD0JVoe2Amm",
        "colab_type": "code",
        "colab": {}
      },
      "source": [
        "linesWithSpark = textFile.filter(textFile.value.contains(\"Spark\"))"
      ],
      "execution_count": 0,
      "outputs": []
    },
    {
      "cell_type": "code",
      "metadata": {
        "id": "AL3jrdoq2IBO",
        "colab_type": "code",
        "outputId": "2aa2b2ab-df90-43ef-999e-2dc1b3c6e086",
        "colab": {
          "base_uri": "https://localhost:8080/",
          "height": 35
        }
      },
      "source": [
        "textFile.filter(textFile.value.contains(\"Spark\")).count()  # How many lines contain \"Spark\"?"
      ],
      "execution_count": 482,
      "outputs": [
        {
          "output_type": "execute_result",
          "data": {
            "text/plain": [
              "19"
            ]
          },
          "metadata": {
            "tags": []
          },
          "execution_count": 482
        }
      ]
    },
    {
      "cell_type": "code",
      "metadata": {
        "id": "RVJx4TSq2KOd",
        "colab_type": "code",
        "outputId": "1b3eca4f-b7cd-4467-a956-f4c073bd940b",
        "colab": {
          "base_uri": "https://localhost:8080/",
          "height": 35
        }
      },
      "source": [
        "from pyspark.sql.functions import *\n",
        "textFile.select(size(split(textFile.value, \"\\s+\")).name(\"numWords\")).agg(max(col(\"numWords\"))).collect()"
      ],
      "execution_count": 483,
      "outputs": [
        {
          "output_type": "execute_result",
          "data": {
            "text/plain": [
              "[Row(max(numWords)=16)]"
            ]
          },
          "metadata": {
            "tags": []
          },
          "execution_count": 483
        }
      ]
    },
    {
      "cell_type": "code",
      "metadata": {
        "id": "P8t1tWm92NBe",
        "colab_type": "code",
        "colab": {}
      },
      "source": [
        "wordCounts = textFile.select(explode(split(textFile.value, \"\\s+\")).alias(\"word\")).groupBy(\"word\").count()"
      ],
      "execution_count": 0,
      "outputs": []
    },
    {
      "cell_type": "code",
      "metadata": {
        "id": "aHTn7ECR2Q49",
        "colab_type": "code",
        "outputId": "60cf6762-df88-41a2-bbff-455b400e313a",
        "colab": {
          "base_uri": "https://localhost:8080/",
          "height": 1000
        }
      },
      "source": [
        "wordCounts.collect()"
      ],
      "execution_count": 485,
      "outputs": [
        {
          "output_type": "execute_result",
          "data": {
            "text/plain": [
              "[Row(word='online', count=1),\n",
              " Row(word='graphs', count=1),\n",
              " Row(word='[\"Building', count=1),\n",
              " Row(word='documentation', count=3),\n",
              " Row(word='command,', count=2),\n",
              " Row(word='abbreviated', count=1),\n",
              " Row(word='overview', count=1),\n",
              " Row(word='rich', count=1),\n",
              " Row(word='set', count=2),\n",
              " Row(word='-DskipTests', count=1),\n",
              " Row(word='name', count=1),\n",
              " Row(word='page](http://spark.apache.org/documentation.html).', count=1),\n",
              " Row(word='[\"Specifying', count=1),\n",
              " Row(word='stream', count=1),\n",
              " Row(word='run:', count=1),\n",
              " Row(word='not', count=1),\n",
              " Row(word='programs', count=2),\n",
              " Row(word='tests', count=2),\n",
              " Row(word='./dev/run-tests', count=1),\n",
              " Row(word='will', count=1),\n",
              " Row(word='[run', count=1),\n",
              " Row(word='particular', count=2),\n",
              " Row(word='Alternatively,', count=1),\n",
              " Row(word='must', count=1),\n",
              " Row(word='using', count=3),\n",
              " Row(word='you', count=4),\n",
              " Row(word='MLlib', count=1),\n",
              " Row(word='DataFrames,', count=1),\n",
              " Row(word='variable', count=1),\n",
              " Row(word='Note', count=1),\n",
              " Row(word='core', count=1),\n",
              " Row(word='protocols', count=1),\n",
              " Row(word='guidance', count=2),\n",
              " Row(word='shell:', count=2),\n",
              " Row(word='can', count=6),\n",
              " Row(word='site,', count=1),\n",
              " Row(word='systems.', count=1),\n",
              " Row(word='[building', count=1),\n",
              " Row(word='configure', count=1),\n",
              " Row(word='for', count=12),\n",
              " Row(word='README', count=1),\n",
              " Row(word='Interactive', count=2),\n",
              " Row(word='how', count=3),\n",
              " Row(word='[Configuration', count=1),\n",
              " Row(word='Hive', count=2),\n",
              " Row(word='system', count=1),\n",
              " Row(word='provides', count=1),\n",
              " Row(word='Hadoop-supported', count=1),\n",
              " Row(word='pre-built', count=1),\n",
              " Row(word='[\"Useful', count=1),\n",
              " Row(word='directory.', count=1),\n",
              " Row(word='Example', count=1),\n",
              " Row(word='example', count=3),\n",
              " Row(word='Kubernetes', count=1),\n",
              " Row(word='one', count=2),\n",
              " Row(word='MASTER', count=1),\n",
              " Row(word='in', count=5),\n",
              " Row(word='library', count=1),\n",
              " Row(word='Spark.', count=1),\n",
              " Row(word='contains', count=1),\n",
              " Row(word='Configuration', count=1),\n",
              " Row(word='programming', count=1),\n",
              " Row(word='with', count=3),\n",
              " Row(word='contributing', count=1),\n",
              " Row(word='downloaded', count=1),\n",
              " Row(word='1000).count()', count=1),\n",
              " Row(word='comes', count=1),\n",
              " Row(word='machine', count=1),\n",
              " Row(word='Tools\"](http://spark.apache.org/developer-tools.html).', count=1),\n",
              " Row(word='building', count=2),\n",
              " Row(word='params', count=1),\n",
              " Row(word='Guide](http://spark.apache.org/docs/latest/configuration.html)', count=1),\n",
              " Row(word='given.', count=1),\n",
              " Row(word='be', count=2),\n",
              " Row(word='same', count=1),\n",
              " Row(word='integration', count=1),\n",
              " Row(word='Programs', count=1),\n",
              " Row(word='locally', count=2),\n",
              " Row(word='using:', count=1),\n",
              " Row(word='fast', count=1),\n",
              " Row(word='[Apache', count=1),\n",
              " Row(word='your', count=1),\n",
              " Row(word='optimized', count=1),\n",
              " Row(word='Developer', count=1),\n",
              " Row(word='R,', count=1),\n",
              " Row(word='should', count=2),\n",
              " Row(word='graph', count=1),\n",
              " Row(word='package', count=1),\n",
              " Row(word='[project', count=1),\n",
              " Row(word='project', count=1),\n",
              " Row(word='`examples`', count=2),\n",
              " Row(word='resource-managers/kubernetes/integration-tests/README.md', count=1),\n",
              " Row(word='versions', count=1),\n",
              " Row(word='Spark](#building-spark).', count=1),\n",
              " Row(word='general', count=3),\n",
              " Row(word='other', count=1),\n",
              " Row(word='learning,', count=1),\n",
              " Row(word='when', count=1),\n",
              " Row(word='submit', count=1),\n",
              " Row(word='Apache', count=1),\n",
              " Row(word='1000:', count=2),\n",
              " Row(word='detailed', count=2),\n",
              " Row(word='About', count=1),\n",
              " Row(word='is', count=7),\n",
              " Row(word='on', count=7),\n",
              " Row(word='scala>', count=1),\n",
              " Row(word='print', count=1),\n",
              " Row(word='use', count=3),\n",
              " Row(word='different', count=1),\n",
              " Row(word='following', count=2),\n",
              " Row(word='SparkPi', count=2),\n",
              " Row(word='refer', count=2),\n",
              " Row(word='./bin/run-example', count=2),\n",
              " Row(word='data', count=1),\n",
              " Row(word='Tests', count=1),\n",
              " Row(word='Versions', count=1),\n",
              " Row(word='Data.', count=1),\n",
              " Row(word='processing.', count=1),\n",
              " Row(word='its', count=1),\n",
              " Row(word='basic', count=1),\n",
              " Row(word='latest', count=1),\n",
              " Row(word='only', count=1),\n",
              " Row(word='<class>', count=1),\n",
              " Row(word='have', count=1),\n",
              " Row(word='runs.', count=1),\n",
              " Row(word='You', count=3),\n",
              " Row(word='tips,', count=1),\n",
              " Row(word='project.', count=1),\n",
              " Row(word='developing', count=1),\n",
              " Row(word='YARN,', count=1),\n",
              " Row(word='It', count=2),\n",
              " Row(word='\"local\"', count=1),\n",
              " Row(word='processing,', count=1),\n",
              " Row(word='built', count=1),\n",
              " Row(word='Pi', count=1),\n",
              " Row(word='thread,', count=1),\n",
              " Row(word='A', count=1),\n",
              " Row(word='APIs', count=1),\n",
              " Row(word='Scala,', count=1),\n",
              " Row(word='file', count=1),\n",
              " Row(word='computation', count=1),\n",
              " Row(word='Once', count=1),\n",
              " Row(word='find', count=1),\n",
              " Row(word='the', count=23),\n",
              " Row(word='To', count=2),\n",
              " Row(word='sc.parallelize(1', count=1),\n",
              " Row(word='uses', count=1),\n",
              " Row(word='Version', count=1),\n",
              " Row(word='N', count=1),\n",
              " Row(word='programs,', count=1),\n",
              " Row(word='\"yarn\"', count=1),\n",
              " Row(word='see', count=3),\n",
              " Row(word='./bin/pyspark', count=1),\n",
              " Row(word='return', count=2),\n",
              " Row(word='computing', count=1),\n",
              " Row(word='Java,', count=1),\n",
              " Row(word='from', count=1),\n",
              " Row(word='Because', count=1),\n",
              " Row(word='cluster', count=2),\n",
              " Row(word='Streaming', count=1),\n",
              " Row(word='More', count=1),\n",
              " Row(word='analysis.', count=1),\n",
              " Row(word='Maven](http://maven.apache.org/).', count=1),\n",
              " Row(word='cluster.', count=1),\n",
              " Row(word='Running', count=1),\n",
              " Row(word='Please', count=4),\n",
              " Row(word='talk', count=1),\n",
              " Row(word='distributions.', count=1),\n",
              " Row(word='guide,', count=1),\n",
              " Row(word='tests](http://spark.apache.org/developer-tools.html#individual-tests).', count=1),\n",
              " Row(word='There', count=1),\n",
              " Row(word='\"local[N]\"', count=1),\n",
              " Row(word='Try', count=1),\n",
              " Row(word='and', count=10),\n",
              " Row(word='do', count=2),\n",
              " Row(word='Scala', count=2),\n",
              " Row(word='class', count=2),\n",
              " Row(word='build', count=3),\n",
              " Row(word='setup', count=1),\n",
              " Row(word='need', count=1),\n",
              " Row(word='spark://', count=1),\n",
              " Row(word='Hadoop,', count=2),\n",
              " Row(word='Thriftserver', count=1),\n",
              " Row(word='are', count=1),\n",
              " Row(word='requires', count=1),\n",
              " Row(word='package.', count=1),\n",
              " Row(word='Enabling', count=1),\n",
              " Row(word='clean', count=1),\n",
              " Row(word='sc.parallelize(range(1000)).count()', count=1),\n",
              " Row(word='high-level', count=1),\n",
              " Row(word='SQL', count=2),\n",
              " Row(word='against', count=1),\n",
              " Row(word='of', count=5),\n",
              " Row(word='through', count=1),\n",
              " Row(word='review', count=1),\n",
              " Row(word='package.)', count=1),\n",
              " Row(word='Python,', count=2),\n",
              " Row(word='easiest', count=1),\n",
              " Row(word='no', count=1),\n",
              " Row(word='Testing', count=1),\n",
              " Row(word='several', count=1),\n",
              " Row(word='help', count=1),\n",
              " Row(word='The', count=1),\n",
              " Row(word='sample', count=1),\n",
              " Row(word='MASTER=spark://host:7077', count=1),\n",
              " Row(word='Big', count=1),\n",
              " Row(word='examples', count=2),\n",
              " Row(word='an', count=4),\n",
              " Row(word='#', count=1),\n",
              " Row(word='Online', count=1),\n",
              " Row(word='test,', count=1),\n",
              " Row(word='including', count=4),\n",
              " Row(word='usage', count=1),\n",
              " Row(word='Python', count=2),\n",
              " Row(word='at', count=2),\n",
              " Row(word='development', count=1),\n",
              " Row(word='Spark\"](http://spark.apache.org/docs/latest/building-spark.html).', count=1),\n",
              " Row(word='IDE,', count=1),\n",
              " Row(word='way', count=1),\n",
              " Row(word='Contributing', count=1),\n",
              " Row(word='get', count=1),\n",
              " Row(word='that', count=2),\n",
              " Row(word='##', count=9),\n",
              " Row(word='For', count=3),\n",
              " Row(word='prefer', count=1),\n",
              " Row(word='This', count=2),\n",
              " Row(word='build/mvn', count=1),\n",
              " Row(word='running', count=1),\n",
              " Row(word='web', count=1),\n",
              " Row(word='run', count=7),\n",
              " Row(word='locally.', count=1),\n",
              " Row(word='Spark', count=15),\n",
              " Row(word='URL,', count=1),\n",
              " Row(word='a', count=9),\n",
              " Row(word='higher-level', count=1),\n",
              " Row(word='tools', count=1),\n",
              " Row(word='if', count=4),\n",
              " Row(word='available', count=1),\n",
              " Row(word='', count=48),\n",
              " Row(word='Documentation', count=1),\n",
              " Row(word='this', count=1),\n",
              " Row(word='(You', count=1),\n",
              " Row(word='>>>', count=1),\n",
              " Row(word='information', count=1),\n",
              " Row(word='info', count=1),\n",
              " Row(word='<http://spark.apache.org/>', count=1),\n",
              " Row(word='Shell', count=2),\n",
              " Row(word='environment', count=1),\n",
              " Row(word='built,', count=1),\n",
              " Row(word='module,', count=1),\n",
              " Row(word='them,', count=1),\n",
              " Row(word='`./bin/run-example', count=1),\n",
              " Row(word='instance:', count=1),\n",
              " Row(word='first', count=1),\n",
              " Row(word='[Contribution', count=1),\n",
              " Row(word='guide](http://spark.apache.org/contributing.html)', count=1),\n",
              " Row(word='documentation,', count=1),\n",
              " Row(word='[params]`.', count=1),\n",
              " Row(word='mesos://', count=1),\n",
              " Row(word='engine', count=1),\n",
              " Row(word='GraphX', count=1),\n",
              " Row(word='example:', count=1),\n",
              " Row(word='HDFS', count=1),\n",
              " Row(word='YARN\"](http://spark.apache.org/docs/latest/building-spark.html#specifying-the-hadoop-version-and-enabling-yarn)', count=1),\n",
              " Row(word='or', count=3),\n",
              " Row(word='to', count=17),\n",
              " Row(word='Hadoop', count=3),\n",
              " Row(word='individual', count=1),\n",
              " Row(word='also', count=5),\n",
              " Row(word='changed', count=1),\n",
              " Row(word='started', count=1),\n",
              " Row(word='./bin/spark-shell', count=1),\n",
              " Row(word='threads.', count=1),\n",
              " Row(word='supports', count=2),\n",
              " Row(word='storage', count=1),\n",
              " Row(word='version', count=1),\n",
              " Row(word='instructions.', count=1),\n",
              " Row(word='Building', count=1),\n",
              " Row(word='start', count=1),\n",
              " Row(word='Many', count=1),\n",
              " Row(word='which', count=2),\n",
              " Row(word='And', count=1),\n",
              " Row(word='distribution', count=1)]"
            ]
          },
          "metadata": {
            "tags": []
          },
          "execution_count": 485
        }
      ]
    },
    {
      "cell_type": "code",
      "metadata": {
        "id": "DxyXKtqd2SoV",
        "colab_type": "code",
        "outputId": "78c9dd10-017c-4293-f55b-db27d287c832",
        "colab": {
          "base_uri": "https://localhost:8080/",
          "height": 35
        }
      },
      "source": [
        "linesWithSpark.cache()"
      ],
      "execution_count": 486,
      "outputs": [
        {
          "output_type": "execute_result",
          "data": {
            "text/plain": [
              "DataFrame[value: string]"
            ]
          },
          "metadata": {
            "tags": []
          },
          "execution_count": 486
        }
      ]
    },
    {
      "cell_type": "code",
      "metadata": {
        "id": "PGc-Ffxy2Ut9",
        "colab_type": "code",
        "outputId": "37a56ea2-3cc2-466b-cd4f-14f0014c6723",
        "colab": {
          "base_uri": "https://localhost:8080/",
          "height": 35
        }
      },
      "source": [
        "linesWithSpark.count()"
      ],
      "execution_count": 487,
      "outputs": [
        {
          "output_type": "execute_result",
          "data": {
            "text/plain": [
              "19"
            ]
          },
          "metadata": {
            "tags": []
          },
          "execution_count": 487
        }
      ]
    },
    {
      "cell_type": "markdown",
      "metadata": {
        "id": "XvPG2gymGQrU",
        "colab_type": "text"
      },
      "source": [
        "# Example-X"
      ]
    },
    {
      "cell_type": "code",
      "metadata": {
        "id": "gJXXVLJT_QHj",
        "colab_type": "code",
        "colab": {}
      },
      "source": [
        "df = spark.read.json(\"/content/spark-2.4.5-bin-hadoop2.7/examples/src/main/resources/people.json\")"
      ],
      "execution_count": 0,
      "outputs": []
    },
    {
      "cell_type": "code",
      "metadata": {
        "id": "vq5TSwgIGNM7",
        "colab_type": "code",
        "outputId": "51e66b22-695d-446b-cafe-242d3d2231b6",
        "colab": {
          "base_uri": "https://localhost:8080/",
          "height": 35
        }
      },
      "source": [
        "df"
      ],
      "execution_count": 489,
      "outputs": [
        {
          "output_type": "execute_result",
          "data": {
            "text/plain": [
              "DataFrame[age: bigint, name: string]"
            ]
          },
          "metadata": {
            "tags": []
          },
          "execution_count": 489
        }
      ]
    },
    {
      "cell_type": "code",
      "metadata": {
        "id": "2Zo_g4ayGNyU",
        "colab_type": "code",
        "outputId": "658f3eb6-7d7b-43c7-f42a-f32aa9252c7d",
        "colab": {
          "base_uri": "https://localhost:8080/",
          "height": 163
        }
      },
      "source": [
        "df.show()"
      ],
      "execution_count": 490,
      "outputs": [
        {
          "output_type": "stream",
          "text": [
            "+----+-------+\n",
            "| age|   name|\n",
            "+----+-------+\n",
            "|null|Michael|\n",
            "|  30|   Andy|\n",
            "|  19| Justin|\n",
            "+----+-------+\n",
            "\n"
          ],
          "name": "stdout"
        }
      ]
    },
    {
      "cell_type": "code",
      "metadata": {
        "id": "c71Y_bwPGPE8",
        "colab_type": "code",
        "outputId": "24d0e067-ae6f-429b-cdfc-e543c3e595ed",
        "colab": {
          "base_uri": "https://localhost:8080/",
          "height": 90
        }
      },
      "source": [
        "df.printSchema()\n"
      ],
      "execution_count": 491,
      "outputs": [
        {
          "output_type": "stream",
          "text": [
            "root\n",
            " |-- age: long (nullable = true)\n",
            " |-- name: string (nullable = true)\n",
            "\n"
          ],
          "name": "stdout"
        }
      ]
    },
    {
      "cell_type": "code",
      "metadata": {
        "id": "nQUqu6NpGWzU",
        "colab_type": "code",
        "outputId": "a884437f-53e1-4ac6-d03b-24009f21637f",
        "colab": {
          "base_uri": "https://localhost:8080/",
          "height": 163
        }
      },
      "source": [
        "df.select(\"name\").show()"
      ],
      "execution_count": 492,
      "outputs": [
        {
          "output_type": "stream",
          "text": [
            "+-------+\n",
            "|   name|\n",
            "+-------+\n",
            "|Michael|\n",
            "|   Andy|\n",
            "| Justin|\n",
            "+-------+\n",
            "\n"
          ],
          "name": "stdout"
        }
      ]
    },
    {
      "cell_type": "code",
      "metadata": {
        "id": "4fbTmED4GZG9",
        "colab_type": "code",
        "outputId": "25b024f4-f213-45f8-fc29-6e0fffbf6f8d",
        "colab": {
          "base_uri": "https://localhost:8080/",
          "height": 163
        }
      },
      "source": [
        "# Select everybody, but increment the age by 1\n",
        "df.select(df['name'], df['age'] + 1).show()"
      ],
      "execution_count": 493,
      "outputs": [
        {
          "output_type": "stream",
          "text": [
            "+-------+---------+\n",
            "|   name|(age + 1)|\n",
            "+-------+---------+\n",
            "|Michael|     null|\n",
            "|   Andy|       31|\n",
            "| Justin|       20|\n",
            "+-------+---------+\n",
            "\n"
          ],
          "name": "stdout"
        }
      ]
    },
    {
      "cell_type": "code",
      "metadata": {
        "id": "ZwUkGjjNGbE8",
        "colab_type": "code",
        "outputId": "5e143cc5-ff09-4cb6-b0f5-a0b1aec0b4c3",
        "colab": {
          "base_uri": "https://localhost:8080/",
          "height": 126
        }
      },
      "source": [
        "# Select people older than 21\n",
        "df.filter(df['age'] > 21).show()"
      ],
      "execution_count": 494,
      "outputs": [
        {
          "output_type": "stream",
          "text": [
            "+---+----+\n",
            "|age|name|\n",
            "+---+----+\n",
            "| 30|Andy|\n",
            "+---+----+\n",
            "\n"
          ],
          "name": "stdout"
        }
      ]
    },
    {
      "cell_type": "code",
      "metadata": {
        "id": "_mS7LudxGdZ0",
        "colab_type": "code",
        "outputId": "bb4501fe-1ecf-4cb8-c8f4-115cfb0b609d",
        "colab": {
          "base_uri": "https://localhost:8080/",
          "height": 163
        }
      },
      "source": [
        "# Count people by age\n",
        "df.groupBy(\"age\").count().show()"
      ],
      "execution_count": 495,
      "outputs": [
        {
          "output_type": "stream",
          "text": [
            "+----+-----+\n",
            "| age|count|\n",
            "+----+-----+\n",
            "|  19|    1|\n",
            "|null|    1|\n",
            "|  30|    1|\n",
            "+----+-----+\n",
            "\n"
          ],
          "name": "stdout"
        }
      ]
    },
    {
      "cell_type": "code",
      "metadata": {
        "id": "bk3jijJQGfN0",
        "colab_type": "code",
        "outputId": "9a42938d-c994-4def-8cdd-f88e42422171",
        "colab": {
          "base_uri": "https://localhost:8080/",
          "height": 308
        }
      },
      "source": [
        "# Register the DataFrame as a SQL temporary view\n",
        "df.createOrReplaceTempView(\"people\")\n",
        "\n",
        "sqlDF = spark.sql(\"SELECT * FROM people\")\n",
        "sqlDF.show()\n",
        "\n",
        "spark.sql(\"SELECT * FROM global_temp.people\").show()\n",
        "\n"
      ],
      "execution_count": 496,
      "outputs": [
        {
          "output_type": "stream",
          "text": [
            "+----+-------+\n",
            "| age|   name|\n",
            "+----+-------+\n",
            "|null|Michael|\n",
            "|  30|   Andy|\n",
            "|  19| Justin|\n",
            "+----+-------+\n",
            "\n",
            "+----+-------+\n",
            "| age|   name|\n",
            "+----+-------+\n",
            "|null|Michael|\n",
            "|  30|   Andy|\n",
            "|  19| Justin|\n",
            "+----+-------+\n",
            "\n"
          ],
          "name": "stdout"
        }
      ]
    }
  ]
}