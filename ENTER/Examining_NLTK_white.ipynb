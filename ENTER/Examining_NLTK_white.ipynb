{
 "cells": [
  {
   "cell_type": "markdown",
   "metadata": {},
   "source": [
    "# SIADS 516: Homework 2\n",
    "Version 1.0.20200303.1\n",
    "### Dr. Chris Teplovs, School of Information, University of Michigan\n",
    "<small><a rel=\"license\" href=\"http://creativecommons.org/licenses/by-nc-sa/4.0/\"><img alt=\"Creative Commons License\" style=\"border-width:0\" src=\"https://i.creativecommons.org/l/by-nc-sa/4.0/88x31.png\" /></a>This work is licensed under a <a rel=\"license\" href=\"http://creativecommons.org/licenses/by-nc-sa/4.0/\">Creative Commons Attribution-NonCommercial-ShareAlike 4.0 International License</a>."
   ]
  },
  {
   "cell_type": "markdown",
   "metadata": {},
   "source": [
    "# Using the Spark RDD API to analyze text\n",
    "Data are from \n",
    "https://www.kaggle.com/nzalake52/new-york-times-articles"
   ]
  },
  {
   "cell_type": "markdown",
   "metadata": {},
   "source": [
    "## Objectives\n",
    "1. To gain familiarity with PySpark\n",
    "2. To learn the basics of the Spark RDD API\n",
    "3. To practice solving a real-world problem"
   ]
  },
  {
   "cell_type": "markdown",
   "metadata": {},
   "source": [
    "## Overview\n",
    "\n",
    "This project was inspired by an actual event that was experienced by a UMSI student.  This student was applying for a \n",
    "job with a large multi-national corporation (let's call it XYZ, Inc.).  XYZ Inc. was looking for someone who could \n",
    "conduct an analysis of a massive (terabyte-size) text dataset.  They had heard about Spark and planned on investigating it\n",
    "but hadn't yet found someone internally who had the skillset required to tackle the problem.  THe UMSI student\n",
    "indicated that they had experience with Spark and could likely handle the task.  The hiring supervisor then provided\n",
    "a non-Spark script and asked the student to demonstrate how that script could be translated to work in a Spark environment.\n",
    "The student was able to do the conversion and, pending completion of their degree, will have secured a job at XYZ, Inc.\n",
    "\n",
    "This assignment simulates that exact situation.  In this assignment you will take a python-based script that does\n",
    "part-of-speech tagging on a large dataset and convert it, as much as possible, to use a pyspark-based approach.\n",
    "\n",
    "The original script was written by Luke Petschauer and a forked version is available at https://github.com/umsi-data-science/NP_chunking_with_nltk/blob/master/NP_chunking_with_the_NLTK.ipynb. That page provides a detailed explanation of the original code and an excellent overview and justification for the use of\n",
    "part-of-speech tagging.  The code from the \"Final Code\" section is reproduced in the first code cell below, which you should run.\n",
    "\n",
    "Run and study that cell and review https://github.com/umsi-data-science/NP_chunking_with_nltk/blob/master/NP_chunking_with_the_NLTK.ipynb.  \n",
    "You will be taking a similar approach to analyze news articles from the New York Times using pyspark.  There are two tasks (Task 1 and Task 2) to complete below.\n",
    "**You should create and use a short dataset, based on a small fraction of the complete\n",
    "dataset in your development work, and then when you're happy with your code run it on the complete dataset.**\n",
    "The complete analysis should take about 10 minutes to complete."
   ]
  },
  {
   "cell_type": "markdown",
   "metadata": {},
   "source": [
    "### Load the required nltk and other libraries"
   ]
  },
  {
   "cell_type": "code",
   "execution_count": 74,
   "metadata": {},
   "outputs": [],
   "source": [
    "import nltk\n",
    "# nltk.download('book')  # NOTE: this should be unnecessary for Coursera image (should be preloaded)\n",
    "import re\n",
    "import pprint\n",
    "from nltk import Tree"
   ]
  },
  {
   "cell_type": "code",
   "execution_count": 75,
   "metadata": {},
   "outputs": [
    {
     "name": "stderr",
     "output_type": "stream",
     "text": [
      "[nltk_data] Downloading package averaged_perceptron_tagger to\n",
      "[nltk_data]     /home/jovyan/nltk_data...\n",
      "[nltk_data]   Package averaged_perceptron_tagger is already up-to-\n",
      "[nltk_data]       date!\n",
      "[nltk_data] Downloading package punkt to /home/jovyan/nltk_data...\n",
      "[nltk_data]   Package punkt is already up-to-date!\n"
     ]
    },
    {
     "data": {
      "text/plain": [
       "True"
      ]
     },
     "execution_count": 75,
     "metadata": {},
     "output_type": "execute_result"
    }
   ],
   "source": [
    "# I think i need to keep this uncommented and in this cell to run...\n",
    "nltk.download('averaged_perceptron_tagger')\n",
    "nltk.download('punkt')"
   ]
  },
  {
   "cell_type": "markdown",
   "metadata": {},
   "source": [
    "### The next cell is the original (non-Spark) script"
   ]
  },
  {
   "cell_type": "code",
   "execution_count": 76,
   "metadata": {
    "scrolled": false
   },
   "outputs": [
    {
     "name": "stdout",
     "output_type": "stream",
     "text": [
      "['Stellar pitching', 'afloat', 'first half', 'last season', 'encore', 'pennant-winning season', 'lineup', 'pitching', 'thin', 'pitching', 's game', 'pitching', 'anything', '4-2 loss', 'place', 'spot starter', 'deficit', 'lineup', 'starter', 'room', 'ninth inning', 'last-gasp two-run homer', 'reliever', 'streak', 'team']\n"
     ]
    }
   ],
   "source": [
    "# This is the original (non-Spark) script\n",
    "\n",
    "patterns = \"\"\"\n",
    "    NP: {<JJ>*<NN*>+}\n",
    "    {<JJ>*<NN*><CC>*<NN*>+}\n",
    "    \"\"\"\n",
    "\n",
    "\n",
    "NPChunker = nltk.RegexpParser(patterns)\n",
    "\n",
    "\n",
    "def prepare_text(input):\n",
    "    sentences = nltk.sent_tokenize(input)\n",
    "    sentences = [nltk.word_tokenize(sent) for sent in sentences]\n",
    "    sentences = [nltk.pos_tag(sent) for sent in sentences]\n",
    "    sentences = [NPChunker.parse(sent) for sent in sentences]\n",
    "    return sentences\n",
    "\n",
    "\n",
    "\n",
    "def parsed_text_to_NP(sentences):\n",
    "    nps = []\n",
    "    for sent in sentences:\n",
    "        tree = NPChunker.parse(sent)\n",
    "        for subtree in tree.subtrees():\n",
    "            if subtree.label() == 'NP':\n",
    "                t = subtree\n",
    "                t = ' '.join(word for word, tag in t.leaves())\n",
    "                nps.append(t)\n",
    "    return nps\n",
    "\n",
    "\n",
    "\n",
    "def sent_parse(input):\n",
    "    sentences = prepare_text(str(input))\n",
    "    nps = parsed_text_to_NP(sentences)\n",
    "    return nps\n",
    "\n",
    "\n",
    "\n",
    "text_to_be_analyzed = \"\"\"WASHINGTON - Stellar pitching kept the Mets afloat in the first half of last season despite their offensive woes. But they cannot produce an encore of their pennant-winning season if their lineup keeps floundering while their pitching is nicked, bruised and stretched thin.\n",
    "\"We were going to ride our pitching,\" Manager Terry Collins said before Wednesday’s game. \"But we're not riding it right now. We've got as many problems with our pitching as we do anything.\"\n",
    "Wednesday's 4-2 loss to the Washington Nationals was cruel for the already-limping Mets. Pitching in Steven Matz's place, the spot starter Logan Verrett allowed two runs over five innings. But even that was too large a deficit for the Mets' lineup to overcome against Max Scherzer, the Nationals' starter.\n",
    "\"We're not even giving ourselves chances,\" Collins said, adding later, \"We just can’t give our pitchers any room to work.\"\n",
    "The Mets did not score until the ninth inning, when a last-gasp two-run homer by James Loney off Nationals reliever Shawn Kelley snapped a streak of 23 scoreless innings for the team.\"\"\"\n",
    "\n",
    "\n",
    "nps = sent_parse(text_to_be_analyzed)\n",
    "\n",
    "print(nps)\n",
    "\n"
   ]
  },
  {
   "cell_type": "code",
   "execution_count": 77,
   "metadata": {},
   "outputs": [],
   "source": [
    "\n",
    "from pyspark.sql import SparkSession\n",
    "spark = SparkSession \\\n",
    "    .builder \\\n",
    "    .master(\"local[*]\") \\\n",
    "    .appName('SIADS 516 Homework 2') \\\n",
    "    .getOrCreate() \n",
    "\n",
    "sc = spark.sparkContext\n",
    "\n"
   ]
  },
  {
   "cell_type": "code",
   "execution_count": 78,
   "metadata": {},
   "outputs": [
    {
     "data": {
      "text/html": [
       "\n",
       "        <div>\n",
       "            <p><b>SparkContext</b></p>\n",
       "\n",
       "            <p><a href=\"http://283bf3c1a2ee:4041\">Spark UI</a></p>\n",
       "\n",
       "            <dl>\n",
       "              <dt>Version</dt>\n",
       "                <dd><code>v2.4.5</code></dd>\n",
       "              <dt>Master</dt>\n",
       "                <dd><code>local[*]</code></dd>\n",
       "              <dt>AppName</dt>\n",
       "                <dd><code>SIADS 516 Homework 2</code></dd>\n",
       "            </dl>\n",
       "        </div>\n",
       "        "
      ],
      "text/plain": [
       "<SparkContext master=local[*] appName=SIADS 516 Homework 2>"
      ]
     },
     "execution_count": 78,
     "metadata": {},
     "output_type": "execute_result"
    }
   ],
   "source": [
    "sc"
   ]
  },
  {
   "cell_type": "code",
   "execution_count": 79,
   "metadata": {},
   "outputs": [],
   "source": [
    "text_to_be_analyzed = \"\"\"WASHINGTON - Stellar pitching kept the Mets afloat in the first half of last season despite their offensive woes. But they cannot produce an encore of their pennant-winning season if their lineup keeps floundering while their pitching is nicked, bruised and stretched thin.\n",
    "\"We were going to ride our pitching,\" Manager Terry Collins said before Wednesday’s game. \"But we're not riding it right now. We've got as many problems with our pitching as we do anything.\"\n",
    "Wednesday's 4-2 loss to the Washington Nationals was cruel for the already-limping Mets. Pitching in Steven Matz's place, the spot starter Logan Verrett allowed two runs over five innings. But even that was too large a deficit for the Mets' lineup to overcome against Max Scherzer, the Nationals' starter.\n",
    "\"We're not even giving ourselves chances,\" Collins said, adding later, \"We just can’t give our pitchers any room to work.\"\n",
    "The Mets did not score until the ninth inning, when a last-gasp two-run homer by James Loney off Nationals reliever Shawn Kelley snapped a streak of 23 scoreless innings for the team.\"\"\"\n"
   ]
  },
  {
   "cell_type": "markdown",
   "metadata": {},
   "source": [
    "### Read - I'm changing things up..."
   ]
  },
  {
   "cell_type": "code",
   "execution_count": 80,
   "metadata": {},
   "outputs": [],
   "source": [
    "\n",
    "\n",
    "# im creating a MUCH smaller amount to process:\n",
    "# it should be this below: \n",
    "#     text = sc.textFile('data/nytimes/nytimes_news_articles.txt')\n",
    "#     # show the first two lines of the file\n",
    "#     text.take(2)\n",
    "\n",
    "# i am creating this instead, and thus all remaining commands will process it faster... \n",
    "# when this is proven to work, then i will replace the right command (text) back in...\n",
    "\n",
    "\n",
    "# text = \"\"\"WASHINGTON - Stellar pitching kept the Mets afloat in the first half of last season despite their offensive woes. But they cannot produce an encore of their pennant-winning season if their lineup keeps floundering while their pitching is nicked, bruised and stretched thin.\n",
    "# \"We were going to ride our pitching,\" Manager Terry Collins said before Wednesday’s game. \"But we're not riding it right now. We've got as many problems with our pitching as we do anything.\"\n",
    "# Wednesday's 4-2 loss to the Washington Nationals was cruel for the already-limping Mets. Pitching in Steven Matz's place, the spot starter Logan Verrett allowed two runs over five innings. But even that was too large a deficit for the Mets' lineup to overcome against Max Scherzer, the Nationals' starter.\n",
    "# \"We're not even giving ourselves chances,\" Collins said, adding later, \"We just can’t give our pitchers any room to work.\"\n",
    "# The Mets did not score until the ninth inning, when a last-gasp two-run homer by James Loney off Nationals reliever Shawn Kelley snapped a streak of 23 scoreless innings for the team.\"\"\"\n",
    "\n"
   ]
  },
  {
   "cell_type": "code",
   "execution_count": 81,
   "metadata": {},
   "outputs": [],
   "source": [
    "\n",
    "# UNCOMMENT OUT EVERYTHING WHEN YOU KNOW ITS GOLD...\n",
    "\n",
    "\n",
    "textfile = \"\"\"URL: http://www.nytimes.com/2016/06/30/sports/baseball/washington-nationals-max-scherzer-baffles-mets-completing-a-sweep.html\n",
    "\n",
    "WASHINGTON — Stellar pitching kept the Mets afloat in the first half of last season despite their offensive woes. But they cannot produce an encore of their pennant-winning season if their lineup keeps floundering while their pitching is nicked, bruised and stretched thin.\n",
    "“We were going to ride our pitching,” Manager Terry Collins said before Wednesday’s game. “But we’re not riding it right now. We’ve got as many problems with our pitching as we do anything.”\n",
    "Wednesday’s 4-2 loss to the Washington Nationals was cruel for the already-limping Mets. Pitching in Steven Matz’s place, the spot starter Logan Verrett allowed two runs over five innings. But even that was too large a deficit for the Mets’ lineup to overcome against Max Scherzer, the Nationals’ starter.\n",
    "“We’re not even giving ourselves chances,” Collins said, adding later, “We just can’t give our pitchers any room to work.”\n",
    "The Mets did not score until the ninth inning, when a last-gasp two-run homer by James Loney off Nationals reliever Shawn Kelley snapped a streak of 23 scoreless innings for the team.\n",
    "The Mets were swept in the three-game series and fell six games behind the Nationals in the National League East. Of late, the Mets have looked worse than their 40-37 record.\n",
    "“I don’t think we’ve played half our games yet this year,” right fielder Curtis Granderson said. “There’s still a lot of things left that can and hopefully will happen.”\n",
    "Scherzer toyed with the Mets, who were initially without Granderson after he was scratched from the lineup with lingering calf tightness. Even though Granderson has been inconsistent this season, he had hit well against Scherzer in the past. Alejandro De Aza, who entered the game with a .165 average, started in right field instead because Collins said the team had few options.\n",
    "After Scherzer gave up a single to Asdrubal Cabrera and walked Loney in the second inning, he retired the next 18 batters, until an eighth-inning single by Brandon Nimmo.\n",
    "The Mets struggled again with runners on base. After Nimmo and the pinch-hitting Granderson singled in the eighth, pinch-hitter Travis d’Arnaud grounded out, and De Aza struck out.\n",
    "“If they keep adding pressure on themselves, they’re going to continue to struggle,” Collins said. “That’s one of the things we try to make sure they have to understand: They have to be themselves.”\n",
    "General Manager Sandy Alderson, Collins and the coaching staff have met about the offense and discussed the odd dynamics: Some players are performing at or better than their career averages, but the lineup as a whole has struggled immensely, especially with runners in scoring position.\n",
    "“We’re just not driving in any runs,” Collins said. “That’s been the frustrating part. It’s not that we’re striking out. We’re popping up, or a double-play ball.”\n",
    "The Mets have a power-hitting team, so asking players to bunt or hit and run would go against their strengths.\n",
    "“When you start to change a team that’s built one way and start to make them do something different, you’re going to get your butt beat,” Collins said.\n",
    "Earlier in the season, the Mets appeared like an all-or-nothing, home-run-driven team. Although they hit only .211 as a team in May, they smashed 40 home runs. They have a higher average in June, but they have hit only 24 homers, and the inconsistent offense has put a strain on the pitching staff.\n",
    "In the second inning, Verrett gave up a solo home run to the ex-Met Daniel Murphy. Collins wanted to limit the workloads of Addison Reed and Jeurys Familia, so he turned to reliever Sean Gilmartin in the eighth. Gilmartin gave up a two-run homer to Murphy, who has hit .429 (15 for 35) with four home runs against the Mets this season, his first since leaving the team.\n",
    "“I felt like I kept us in the game and gave us a chance to come back and win it,” Verrett said. “I wish that I wouldn’t have given up the two runs.”\n",
    "Verrett was put in this position because of the effects of bone spurs on the Mets’ rotation. The team asked Verrett to start Wednesday and gave Matz an extra day of rest after he received anti-inflammatory medication for the large bone spur in his left elbow. He will try to pitch through it.\n",
    "Noah Syndergaard has a smaller and less intrusive bone spur in the back of his right elbow.\n",
    "“As long as I’m staying on my anti-inflammatories and my mechanics are on point, I’m able to go out there every five days and compete,” Syndergaard said.\n",
    "For the Mets, the immediate road ahead will be even tougher. Matz was expected to pitch Thursday against the Chicago Cubs, one of the best teams in baseball this season.\n",
    "\n",
    "URL: http://www.nytimes.com/2016/06/30/nyregion/mayor-de-blasios-counsel-to-leave-next-month-to-lead-police-review-board.html\n",
    "\n",
    "Mayor Bill de Blasio’s counsel and chief legal adviser, Maya Wiley, is resigning next month from her City Hall position to become the chairwoman of the Civilian Complaint Review Board, New York City’s independent oversight agency for the Police Department.\n",
    "The move represents the latest shake-up for the de Blasio administration amid continuing state and federal investigations into the mayor’s fund-raising, and fills a two-month vacancy at the police review board created by the resignation of its chairman, Richard D. Emery, in April.\n",
    "A civil rights lawyer and advocate for racial and social justice, Ms. Wiley joined the de Blasio administration in early 2014 to focus on legal issues as well as on the mayor’s efforts to address issues of inequality. But over time, Ms. Wiley became discouraged over not being part of Mr. de Blasio’s inner circle and felt cut out of both legal questions and advocacy, according to a person familiar with her thinking. On the former, Mr. de Blasio often relied instead on the city’s corporation counsel and Henry Berger, the mayor’s special counsel; on the latter, he favored his top political aides. The person requested anonymity to discuss private conversations.\n",
    "More recently, Ms. Wiley was assigned to help craft the administration’s legal response to the state and federal inquiries as well as to requests for the public disclosure of documents, notably emails between Mr. de Blasio and trusted advisers outside the administration.\n",
    "It was in response to a question from reporters about the withholding of those emails with advisers that Ms. Wiley, defending the practice, described the advisers as “agents of the city” — a designation that appeared novel and resulted in days of unfavorable press coverage.\n",
    "In a statement on Wednesday, Mr. de Blasio thanked Ms. Wiley for her service and congratulated her on her new role.\n",
    "The review board investigates allegations of misconduct by officers and makes recommendations for discipline to the Police Department. Its data on the number of complaints, and its investigations of officers, provide an important barometer of police behavior and a politically important one for Mr. de Blasio, a Democrat who campaigned on improving police-community relations.\n",
    "Mr. Wiley will also take a position at the New School in Manhattan. Her moves were reported by The Wall Street Journal.\n",
    "The announcement of Ms. Wiley’s departure from City Hall followed that of a recently hired director of social media, Scott Kleinberg, who resigned on Saturday, just eight weeks after being hired to bring greater personality to the Twitter, Facebook and other online accounts associated with the mayor’s office. His resignation was reported by DNA Info.\n",
    "In a Facebook post that was later removed, Mr. Kleinberg complained of long hours and micromanagement and described his experience with the administration as working with “political hacks plus a boss who just couldn’t get it,” adding, “It was a bad combination for sure.” Mr. Kleinberg declined to comment.\n",
    "The departures came less than two months after Karen Hinton, the mayor’s top spokeswoman, announced her resignation from the administration. (She stayed in the position until mid-June.)\n",
    "\n",
    "URL: http://www.nytimes.com/2016/06/30/nyregion/three-men-charged-in-killing-of-cuomo-administration-lawyer.html\n",
    "\n",
    "In the early morning hours of Labor Day last year, a group of gunmen from the 8-Trey street gang made their way through a crowd of revelers gathered near a Brooklyn public housing project to celebrate J’ouvert, a pre-dawn party that precedes the annual West Indian American Day Parade. The housing project was “enemy territory,” the authorities said, the stronghold of a rival gang, the Folk Nation.\n",
    "As hundreds of people drank and danced in costume, the warring factions spotted each other, and a gunfight broke out in the darkness. Caught in the crossfire was an up-and-coming lawyer in the administration of Gov. Andrew M. Cuomo, Carey Gabay, who was at the festivities with his brother. Mr. Gabay, 43, who was of Jamaican heritage, died a week later from his wounds.\n",
    "For some in government and law enforcement circles, the death of Mr. Gabay, who had risen from a childhood in Bronx public housing to Harvard Law School and then to public service, was emblematic of the havoc that street gangs have inflicted on New York City residents.\n",
    "On Wednesday, as part of a continuing investigation, the authorities announced that three men had been indicted in the killing.\n",
    "One of the men, Micah Alleyne, 24, was already in custody, having been indicted last month. The other two — Tyshawn Crawford, 21, and Keith Luncheon, 24 — were named along with Mr. Alleyne in a new indictment on Wednesday, which holds all three equally responsible for Mr. Gabay’s murder. Each of the men is charged with second-degree murder.\n",
    "“These defendants are charged with creating a killing field in a crowd of innocent people, showing depraved indifference to human life and causing the death of Carey Gabay,” Ken Thompson, the Brooklyn district attorney, said in a statement about the case.\n",
    "At a news conference at his office, Mr. Thompson said that 20 gang members, armed with as many as 27 guns, had taken part in the gunfight in which dozens of shots were fired. He promised to seek indictments against the others involved in the episode. “This is just the beginning,” he said.\n",
    "At the time of his death, Mr. Gabay was first deputy counsel for the Empire State Development Corporation and lived with his wife in the Clinton Hill section of Brooklyn. He was shot in the head while trying to escape the gunfire by ducking between two cars in a parking lot at the Ebbets Field Houses on Bedford Avenue in Crown Heights.\n",
    "The housing complex had long been Folk Nation turf, Mr. Thompson said, and several of the gang’s members were among the crowd on an outdoor patio there during the J’ouvert celebration. Most of the shots fired that morning came from the direction of the patio, Mr. Thompson added. Members of both the Folk Nation and the 8-Treys had standing orders, he said, to open fire at each other on sight.\n",
    "“When these two gangs see each other,” Mr. Thompson said, “there is no talking, just shooting.”\n",
    "Surveillance-camera footage taken that morning, which Mr. Thompson played at the news conference, showed people frantically fleeing the patio and scurrying for cover as shots rang out. Investigators also discovered footage that Mr. Thompson said shows Mr. Alleyne firing a gun into the crowd, then running into a building at the Ebbets Field Houses.\n",
    "Mr. Alleyne, who was living in a homeless shelter in Jamaica, Queens, when he was arrested in May, was a Folk Nation member, Mr. Thompson said. He added that Mr. Crawford, who lives in East New York, belonged to the Hoodstarz gang, which is allied with the Folk Nation. Mr. Thompson described Mr. Luncheon, who lives in Crown Heights, as a member of the 8-Trey gang, a faction of the Crips.\n",
    "A fourth defendant, Stanley Elianor, 25, was indicted in October on weapons charges in connection with Mr. Gabay’s murder for carrying a MAC-10 machine pistol during the melee.\n",
    "Police Commissioner William J. Bratton, appearing with Mr. Thompson at the news conference, said his department was targeting street gangs across the city, adding that officers had arrested gang members in three separate operations in Manhattan on Wednesday morning. Mr. Bratton also said that this year, for the first time, J’ouvert organizers would have to secure a permit for their event, which has traditionally taken place without official city approval. The police, the commissioner said, would increase their presence at the festivities in September to ensure there was no violence.\n",
    "“If so much as a sneeze is made by these gangs in the run-up to the festival, we will be there,” Mr. Bratton said, “and not to say, ‘gesundheit.’ ”\n",
    "\n",
    "URL: http://www.nytimes.com/2016/06/30/nyregion/tekserve-precursor-to-the-apple-store-to-close-after-29-years.html\n",
    "\n",
    "It was the Apple Store in New York City before there was such a thing as an Apple Store.\n",
    "Before iPods and iPads and iPhones, before Apple started selling and servicing its devices out of a glass cube on Fifth Avenue, the eclectic Tekserve store on West 23rd Street in Manhattan was where customers went for upgrades to their PowerBook laptops or to have their computers fixed.\n",
    "But times have changed, Tekserve’s managers said, and on Wednesday, they announced that the company was closing its retail and customer-service operation. The service center will remain open until July 31, and the retail store will close on Aug. 15. About 70 employees will lose their jobs, the company said.\n",
    "“This is a cultural shift,” the company’s chief executive, Jerry Gepner, said in an interview in his office above the store. “It’s not a failure of the business. It’s like this giant wave finally crashed down upon us.”\n",
    "\"\"\"\n"
   ]
  },
  {
   "cell_type": "code",
   "execution_count": 82,
   "metadata": {},
   "outputs": [
    {
     "data": {
      "text/plain": [
       "['URL: http://www.nytimes.com/2016/06/30/sports/baseball/washington-nationals-max-scherzer-baffles-mets-completing-a-sweep.html',\n",
       " '']"
      ]
     },
     "execution_count": 82,
     "metadata": {},
     "output_type": "execute_result"
    }
   ],
   "source": [
    "\n",
    "# RESTORE WHEN THE FILE IS PROPERLY WORKING ! \n",
    "# text = sc.textFile('data/nytimes/nytimes_news_articles.txt')\n",
    "# # show the first two lines of the file\n",
    "# text.take(2)\n",
    "\n",
    "# RESTORE WHEN THE FILE IS PROPERLY WORKING ! \n",
    "text = sc.textFile('data/nytimes/minitext.txt')\n",
    "# show the first two lines of the file\n",
    "text.take(2)\n",
    "\n"
   ]
  },
  {
   "cell_type": "code",
   "execution_count": 83,
   "metadata": {},
   "outputs": [
    {
     "data": {
      "text/plain": [
       "['URL: http://www.nytimes.com/2016/06/30/sports/baseball/washington-nationals-max-scherzer-baffles-mets-completing-a-sweep.html',\n",
       " '',\n",
       " 'WASHINGTON � Stellar pitching kept the Mets afloat in the first half of last season despite their offensive woes. But they cannot produce an encore of their pennant-winning season if their lineup keeps floundering while their pitching is nicked, bruised and stretched thin.',\n",
       " '�We were going to ride our pitching,� Manager Terry Collins said before Wednesday�s game. �But we�re not riding it right now. We�ve got as many problems with our pitching as we do anything.�',\n",
       " 'Wednesday�s 4-2 loss to the Washington Nationals was cruel for the already-limping Mets. Pitching in Steven Matz�s place, the spot starter Logan Verrett allowed two runs over five innings. But even that was too large a deficit for the Mets� lineup to overcome against Max Scherzer, the Nationals� starter.',\n",
       " '�We�re not even giving ourselves chances,� Collins said, adding later, �We just can�t give our pitchers any room to work.�',\n",
       " 'The Mets did not score until the ninth inning, when a last-gasp two-run homer by James Loney off Nationals reliever Shawn Kelley snapped a streak of 23 scoreless innings for the team.',\n",
       " 'The Mets were swept in the three-game series and fell six games behind the Nationals in the National League East. Of late, the Mets have looked worse than their 40-37 record.',\n",
       " '�I don�t think we�ve played half our games yet this year,� right fielder Curtis Granderson said. �There�s still a lot of things left that can and hopefully will happen.�',\n",
       " 'Scherzer toyed with the Mets, who were initially without Granderson after he was scratched from the lineup with lingering calf tightness. Even though Granderson has been inconsistent this season, he had hit well against Scherzer in the past. Alejandro De Aza, who entered the game with a .165 average, started in right field instead because Collins said the team had few options.']"
      ]
     },
     "execution_count": 83,
     "metadata": {},
     "output_type": "execute_result"
    }
   ],
   "source": [
    "\n",
    "text.take(10)\n"
   ]
  },
  {
   "cell_type": "code",
   "execution_count": 84,
   "metadata": {
    "scrolled": true
   },
   "outputs": [
    {
     "data": {
      "text/plain": [
       "['URL: http://www.nytimes.com/2016/06/30/sports/baseball/washington-nationals-max-scherzer-baffles-mets-completing-a-sweep.html',\n",
       " '',\n",
       " 'WASHINGTON � Stellar pitching kept the Mets afloat in the first half of last season despite their offensive woes. But they cannot produce an encore of their pennant-winning season if their lineup keeps floundering while their pitching is nicked, bruised and stretched thin.',\n",
       " '�We were going to ride our pitching,� Manager Terry Collins said before Wednesday�s game. �But we�re not riding it right now. We�ve got as many problems with our pitching as we do anything.�',\n",
       " 'Wednesday�s 4-2 loss to the Washington Nationals was cruel for the already-limping Mets. Pitching in Steven Matz�s place, the spot starter Logan Verrett allowed two runs over five innings. But even that was too large a deficit for the Mets� lineup to overcome against Max Scherzer, the Nationals� starter.',\n",
       " '�We�re not even giving ourselves chances,� Collins said, adding later, �We just can�t give our pitchers any room to work.�',\n",
       " 'The Mets did not score until the ninth inning, when a last-gasp two-run homer by James Loney off Nationals reliever Shawn Kelley snapped a streak of 23 scoreless innings for the team.',\n",
       " 'The Mets were swept in the three-game series and fell six games behind the Nationals in the National League East. Of late, the Mets have looked worse than their 40-37 record.',\n",
       " '�I don�t think we�ve played half our games yet this year,� right fielder Curtis Granderson said. �There�s still a lot of things left that can and hopefully will happen.�',\n",
       " 'Scherzer toyed with the Mets, who were initially without Granderson after he was scratched from the lineup with lingering calf tightness. Even though Granderson has been inconsistent this season, he had hit well against Scherzer in the past. Alejandro De Aza, who entered the game with a .165 average, started in right field instead because Collins said the team had few options.',\n",
       " 'After Scherzer gave up a single to Asdrubal Cabrera and walked Loney in the second inning, he retired the next 18 batters, until an eighth-inning single by Brandon Nimmo.',\n",
       " 'The Mets struggled again with runners on base. After Nimmo and the pinch-hitting Granderson singled in the eighth, pinch-hitter Travis d�Arnaud grounded out, and De Aza struck out.',\n",
       " '�If they keep adding pressure on themselves, they�re going to continue to struggle,� Collins said. �That�s one of the things we try to make sure they have to understand: They have to be themselves.�',\n",
       " 'General Manager Sandy Alderson, Collins and the coaching staff have met about the offense and discussed the odd dynamics: Some players are performing at or better than their career averages, but the lineup as a whole has struggled immensely, especially with runners in scoring position.',\n",
       " '�We�re just not driving in any runs,� Collins said. �That�s been the frustrating part. It�s not that we�re striking out. We�re popping up, or a double-play ball.�',\n",
       " 'The Mets have a power-hitting team, so asking players to bunt or hit and run would go against their strengths.',\n",
       " '�When you start to change a team that�s built one way and start to make them do something different, you�re going to get your butt beat,� Collins said.',\n",
       " 'Earlier in the season, the Mets appeared like an all-or-nothing, home-run-driven team. Although they hit only .211 as a team in May, they smashed 40 home runs. They have a higher average in June, but they have hit only 24 homers, and the inconsistent offense has put a strain on the pitching staff.',\n",
       " 'In the second inning, Verrett gave up a solo home run to the ex-Met Daniel Murphy. Collins wanted to limit the workloads of Addison Reed and Jeurys Familia, so he turned to reliever Sean Gilmartin in the eighth. Gilmartin gave up a two-run homer to Murphy, who has hit .429 (15 for 35) with four home runs against the Mets this season, his first since leaving the team.',\n",
       " '�I felt like I kept us in the game and gave us a chance to come back and win it,� Verrett said. �I wish that I wouldn�t have given up the two runs.�',\n",
       " 'Verrett was put in this position because of the effects of bone spurs on the Mets� rotation. The team asked Verrett to start Wednesday and gave Matz an extra day of rest after he received anti-inflammatory medication for the large bone spur in his left elbow. He will try to pitch through it.',\n",
       " 'Noah Syndergaard has a smaller and less intrusive bone spur in the back of his right elbow.',\n",
       " '�As long as I�m staying on my anti-inflammatories and my mechanics are on point, I�m able to go out there every five days and compete,� Syndergaard said.',\n",
       " 'For the Mets, the immediate road ahead will be even tougher. Matz was expected to pitch Thursday against the Chicago Cubs, one of the best teams in baseball this season.',\n",
       " '',\n",
       " 'URL: http://www.nytimes.com/2016/06/30/nyregion/mayor-de-blasios-counsel-to-leave-next-month-to-lead-police-review-board.html',\n",
       " '',\n",
       " 'Mayor Bill de Blasio�s counsel and chief legal adviser, Maya Wiley, is resigning next month from her City Hall position to become the chairwoman of the Civilian Complaint Review Board, New York City�s independent oversight agency for the Police Department.',\n",
       " 'The move represents the latest shake-up for the de Blasio administration amid continuing state and federal investigations into the mayor�s fund-raising, and fills a two-month vacancy at the police review board created by the resignation of its chairman, Richard D. Emery, in April.',\n",
       " 'A civil rights lawyer and advocate for racial and social justice, Ms. Wiley joined the de Blasio administration in early 2014 to focus on legal issues as well as on the mayor�s efforts to address issues of inequality. But over time, Ms. Wiley became discouraged over not being part of Mr. de Blasio�s inner circle and felt cut out of both legal questions and advocacy, according to a person familiar with her thinking. On the former, Mr. de Blasio often relied instead on the city�s corporation counsel and Henry Berger, the mayor�s special counsel; on the latter, he favored his top political aides. The person requested anonymity to discuss private conversations.',\n",
       " 'More recently, Ms. Wiley was assigned to help craft the administration�s legal response to the state and federal inquiries as well as to requests for the public disclosure of documents, notably emails between Mr. de Blasio and trusted advisers outside the administration.',\n",
       " 'It was in response to a question from reporters about the withholding of those emails with advisers that Ms. Wiley, defending the practice, described the advisers as �agents of the city� � a designation that appeared novel and resulted in days of unfavorable press coverage.',\n",
       " 'In a statement on Wednesday, Mr. de Blasio thanked Ms. Wiley for her service and congratulated her on her new role.',\n",
       " 'The review board investigates allegations of misconduct by officers and makes recommendations for discipline to the Police Department. Its data on the number of complaints, and its investigations of officers, provide an important barometer of police behavior and a politically important one for Mr. de Blasio, a Democrat who campaigned on improving police-community relations.',\n",
       " 'Mr. Wiley will also take a position at the New School in Manhattan. Her moves were reported by The Wall Street Journal.',\n",
       " 'The announcement of Ms. Wiley�s departure from City Hall followed that of a recently hired director of social media, Scott Kleinberg, who resigned on Saturday, just eight weeks after being hired to bring greater personality to the Twitter, Facebook and other online accounts associated with the mayor�s office. His resignation was reported by DNA Info.',\n",
       " 'In a Facebook post that was later removed, Mr. Kleinberg complained of long hours and micromanagement and described his experience with the administration as working with �political hacks plus a boss who just couldn�t get it,� adding, �It was a bad combination for sure.� Mr. Kleinberg declined to comment.',\n",
       " 'The departures came less than two months after Karen Hinton, the mayor�s top spokeswoman, announced her resignation from the administration. (She stayed in the position until mid-June.)',\n",
       " '',\n",
       " 'URL: http://www.nytimes.com/2016/06/30/nyregion/three-men-charged-in-killing-of-cuomo-administration-lawyer.html']"
      ]
     },
     "execution_count": 84,
     "metadata": {},
     "output_type": "execute_result"
    }
   ],
   "source": [
    "\n",
    "text.collect()\n"
   ]
  },
  {
   "cell_type": "code",
   "execution_count": 85,
   "metadata": {},
   "outputs": [],
   "source": [
    "\n",
    "# RESTORE WHEN THE FILE IS PROPERLY WORKING ! \n",
    "# text = sc.textFile('data/nytimes/nytimes_news_articles.txt')\n",
    "# # show the first two lines of the file\n",
    "# text.take(2)\n",
    "\n"
   ]
  },
  {
   "cell_type": "code",
   "execution_count": 86,
   "metadata": {
    "scrolled": true
   },
   "outputs": [
    {
     "name": "stdout",
     "output_type": "stream",
     "text": [
      "['URL: http://www.nytimes.com/2016/06/30/sports/baseball/washington-nationals-max-scherzer-baffles-mets-completing-a-sweep.html', '', 'WASHINGTON � Stellar pitching kept the Mets afloat in the first half of last season despite their offensive woes. But they cannot produce an encore of their pennant-winning season if their lineup keeps floundering while their pitching is nicked, bruised and stretched thin.', '�We were going to ride our pitching,� Manager Terry Collins said before Wednesday�s game. �But we�re not riding it right now. We�ve got as many problems with our pitching as we do anything.�', 'Wednesday�s 4-2 loss to the Washington Nationals was cruel for the already-limping Mets. Pitching in Steven Matz�s place, the spot starter Logan Verrett allowed two runs over five innings. But even that was too large a deficit for the Mets� lineup to overcome against Max Scherzer, the Nationals� starter.', '�We�re not even giving ourselves chances,� Collins said, adding later, �We just can�t give our pitchers any room to work.�', 'The Mets did not score until the ninth inning, when a last-gasp two-run homer by James Loney off Nationals reliever Shawn Kelley snapped a streak of 23 scoreless innings for the team.', 'The Mets were swept in the three-game series and fell six games behind the Nationals in the National League East. Of late, the Mets have looked worse than their 40-37 record.', '�I don�t think we�ve played half our games yet this year,� right fielder Curtis Granderson said. �There�s still a lot of things left that can and hopefully will happen.�', 'Scherzer toyed with the Mets, who were initially without Granderson after he was scratched from the lineup with lingering calf tightness. Even though Granderson has been inconsistent this season, he had hit well against Scherzer in the past. Alejandro De Aza, who entered the game with a .165 average, started in right field instead because Collins said the team had few options.', 'After Scherzer gave up a single to Asdrubal Cabrera and walked Loney in the second inning, he retired the next 18 batters, until an eighth-inning single by Brandon Nimmo.', 'The Mets struggled again with runners on base. After Nimmo and the pinch-hitting Granderson singled in the eighth, pinch-hitter Travis d�Arnaud grounded out, and De Aza struck out.', '�If they keep adding pressure on themselves, they�re going to continue to struggle,� Collins said. �That�s one of the things we try to make sure they have to understand: They have to be themselves.�', 'General Manager Sandy Alderson, Collins and the coaching staff have met about the offense and discussed the odd dynamics: Some players are performing at or better than their career averages, but the lineup as a whole has struggled immensely, especially with runners in scoring position.', '�We�re just not driving in any runs,� Collins said. �That�s been the frustrating part. It�s not that we�re striking out. We�re popping up, or a double-play ball.�', 'The Mets have a power-hitting team, so asking players to bunt or hit and run would go against their strengths.', '�When you start to change a team that�s built one way and start to make them do something different, you�re going to get your butt beat,� Collins said.', 'Earlier in the season, the Mets appeared like an all-or-nothing, home-run-driven team. Although they hit only .211 as a team in May, they smashed 40 home runs. They have a higher average in June, but they have hit only 24 homers, and the inconsistent offense has put a strain on the pitching staff.', 'In the second inning, Verrett gave up a solo home run to the ex-Met Daniel Murphy. Collins wanted to limit the workloads of Addison Reed and Jeurys Familia, so he turned to reliever Sean Gilmartin in the eighth. Gilmartin gave up a two-run homer to Murphy, who has hit .429 (15 for 35) with four home runs against the Mets this season, his first since leaving the team.', '�I felt like I kept us in the game and gave us a chance to come back and win it,� Verrett said. �I wish that I wouldn�t have given up the two runs.�']\n"
     ]
    }
   ],
   "source": [
    "print(text.take(20))"
   ]
  },
  {
   "cell_type": "code",
   "execution_count": 87,
   "metadata": {},
   "outputs": [
    {
     "name": "stdout",
     "output_type": "stream",
     "text": [
      "('Hi', 'NNP')\n",
      "('my', 'PRP$')\n",
      "('name', 'NN')\n",
      "('is', 'VBZ')\n",
      "('Tom', 'NNP')\n",
      "('with', 'IN')\n",
      "(\"lot's\", 'NN')\n",
      "('of', 'IN')\n",
      "('punctuation', 'NN')\n"
     ]
    }
   ],
   "source": [
    "\n",
    "#  QUICKTEST FIRST # \n",
    "\n",
    "TOKEN_RE = re.compile(r\"\\b[\\w']+\\b\")\n",
    "# basically match any 'word', and disregard any punctuation like . , ; etc \n",
    "\n",
    "\n",
    "# def pos_tag_counter(line):\n",
    "#     toks = nltk.regexp_tokenize(line, TOKEN_RE)\n",
    "#     postoks = nltk.tag.pos_tag(toks)\n",
    "#     return postoks\n",
    "\n",
    "# quick test first...\n",
    "\n",
    "stringtext = \"Hi my name is Tom, with lot's; of , punctuation , ; ; : <\"\n",
    "\n",
    "# nltk.regexp_tokenize(stringtext, TOKEN_RE)\n",
    "#   output:   ['Hi', 'my', 'name', 'is', 'Tom', 'with', \"lot's\", 'of', 'punctuation']\n",
    "\n",
    "\n",
    "\n",
    "toks = nltk.regexp_tokenize(stringtext, TOKEN_RE)\n",
    "postoks = nltk.tag.pos_tag(toks)\n",
    "#print(postoks)\n",
    "\n",
    "for entry in postoks: print(entry)\n",
    "\n"
   ]
  },
  {
   "cell_type": "markdown",
   "metadata": {},
   "source": [
    "<hr>"
   ]
  },
  {
   "cell_type": "code",
   "execution_count": 88,
   "metadata": {},
   "outputs": [],
   "source": [
    "\n",
    "# DO NOT DELETE THIS CELL # \n",
    "\n",
    "TOKEN_RE = re.compile(r\"\\b[\\w']+\\b\")\n",
    "\n",
    "\n",
    "def pos_tag_counter(line):\n",
    "    toks = nltk.regexp_tokenize(line, TOKEN_RE)\n",
    "    postoks = nltk.tag.pos_tag(toks)\n",
    "    return postoks\n",
    "\n"
   ]
  },
  {
   "cell_type": "markdown",
   "metadata": {},
   "source": [
    "### Task 1: Create an RDD pipline (i.e. sequence of transformations) that:\n",
    "1. filters out blank lines \n",
    "2. filters out lines starting with 'URL'\n",
    "3. creates a single list (using flatMap) that applies the pos_tag_counter function to each line\n",
    "4. maps each resulting line to show the part of speech (which is the second element returned from the pos_tag_counter)\n",
    "5. converts each resulting line to a pairRDD with words as keys and values of 1\n",
    "6. reduces the resulting RDD by key, adding up all the 1s (like the lecture and lab examples)\n",
    "7. sorts the resulting list by the counts, in descending order.\n",
    "\n",
    "Your output should look something like:\n",
    "```\n",
    "[('NN', 5628),\n",
    " ('IN', 4690),\n",
    " ('NNP', 4575),\n",
    " ('DT', 3913),\n",
    " ('JJ', 2550),\n",
    " ('NNS', 2345),\n",
    " ('VBD', 1931),\n",
    " ('RB', 1312),\n",
    " ('PRP', 1227),\n",
    " ('VB', 1170),\n",
    " ('CC', 1086),\n",
    " ('TO', 1043),\n",
    " ('VBN', 935),\n",
    " ('VBG', 895)...\n",
    " ```\n",
    " In other words, the count of each part-of-speech tag sorted in descending order."
   ]
  },
  {
   "cell_type": "code",
   "execution_count": 89,
   "metadata": {},
   "outputs": [
    {
     "data": {
      "text/plain": [
       "[('NN', 207),\n",
       " ('IN', 174),\n",
       " ('NNP', 159),\n",
       " ('DT', 139),\n",
       " ('VBD', 84),\n",
       " ('JJ', 79),\n",
       " ('NNS', 73),\n",
       " ('PRP', 50),\n",
       " ('RB', 50),\n",
       " ('CC', 48),\n",
       " ('VB', 41),\n",
       " ('TO', 36),\n",
       " ('VBP', 35),\n",
       " ('CD', 30),\n",
       " ('PRP$', 29),\n",
       " ('VBG', 28),\n",
       " ('VBN', 28),\n",
       " ('VBZ', 12),\n",
       " ('RP', 10),\n",
       " ('JJR', 7),\n",
       " ('NNPS', 7),\n",
       " ('MD', 7),\n",
       " ('WP', 6),\n",
       " ('FW', 6),\n",
       " ('WDT', 4),\n",
       " ('RBR', 3),\n",
       " ('WRB', 2),\n",
       " ('JJS', 2),\n",
       " ('EX', 1),\n",
       " ('PDT', 1)]"
      ]
     },
     "execution_count": 89,
     "metadata": {},
     "output_type": "execute_result"
    }
   ],
   "source": [
    "\n",
    "# decomposition, me examining the below\n",
    "\n",
    "   \n",
    "pos_tag_counts = text.filter(lambda line: len(line) > 0) \\\n",
    "    .filter(lambda line: re.findall('^(?!URL).*', line)) \\\n",
    "    .flatMap(pos_tag_counter) \\\n",
    "    .map(lambda word: word[1]) \\\n",
    "    .map(lambda word: (word, 1)) \\\n",
    "    .reduceByKey(lambda x, y: x + y) \\\n",
    "    .sortBy(lambda x: x[1], ascending = False)\n",
    "\n",
    "pos_tag_counts.collect()\n",
    "\n",
    "\n",
    "\n",
    "# i think that matches only the NNP, NN, etc stuff \n",
    "#     .map(lambda word: (word, 1)) \\\n",
    "#     .reduceByKey(lambda x, y: x + y) \\\n",
    "#     .sortBy(lambda x: x[1], ascending = False)\n",
    "\n",
    "# pos_tag_counts.collect()\n",
    "\n",
    "\n",
    "\n",
    "\n",
    "\n",
    "\n",
    "#     .flatMap(pos_tag_counter) \\  # flatmap output, so ONE unified list, of all the tuples ...\n",
    "#     # [('WASHINGTON', 'NNP'),\n",
    "#     #  ('Stellar', 'NNP'),\n",
    "#     #  ('pitching', 'NN'),\n",
    "#     #  ('kept', 'VBD'),\n",
    "#     #  ('the', 'DT'),\n",
    "#     #  ('Mets', 'NNPS'),\n",
    "    \n",
    "\n",
    "    \n",
    "    \n",
    "    \n",
    "    \n",
    "#     pos_tag_counts = text.filter(lambda line: len(line) > 0) \\\n",
    "#     .filter(lambda line: re.findall('^(?!URL).*', line)) \\\n",
    "#     .flatMap(pos_tag_counter) \\\n",
    "#     .map(lambda word: word[1]) \\\n",
    "    \n",
    "# ['NNP',\n",
    "#  'NNP',\n",
    "#  'NN',\n",
    "#  'VBD',\n",
    "#  'DT',\n",
    "#  'NNPS',\n",
    "#  'NN',\n",
    "#  'IN',\n",
    "#  'DT',\n",
    "#  'JJ',\n",
    "#  'NN',\n",
    "     \n",
    "   \n",
    "\n",
    "\n",
    "# pos_tag_counts = text.filter(lambda line: len(line) > 0) \\\n",
    "#     .filter(lambda line: re.findall('^(?!URL).*', line)) \\\n",
    "#     .flatMap(pos_tag_counter) \\\n",
    "#     .map(lambda word: word[1]) \\\n",
    "#     .map(lambda word: (word, 1)) \\\n",
    "\n",
    "# [('NNP', 1),\n",
    "#  ('NNP', 1),\n",
    "#  ('NN', 1),\n",
    "#  ('VBD', 1),\n",
    "#  ('DT', 1),\n",
    "#  ('NNPS', 1),\n",
    "#  ('NN', 1),\n",
    "#  ('IN', 1),\n",
    "#  ('DT', 1),\n",
    "#  ('JJ', 1),\n",
    "#  ('NN', 1),\n",
    "#  ('IN', 1),\n",
    "#  ('JJ', 1),\n",
    "#  ('NN', 1),\n",
    "#  ('IN', 1),\n",
    "#  ('PRP$', 1),\n",
    "#  ('JJ', 1),\n",
    " \n",
    " \n",
    "# pos_tag_counts = text.filter(lambda line: len(line) > 0) \\\n",
    "#     .filter(lambda line: re.findall('^(?!URL).*', line)) \\\n",
    "#     .flatMap(pos_tag_counter) \\\n",
    "#     .map(lambda word: word[1]) \\\n",
    "#     .map(lambda word: (word, 1)) \\\n",
    "#     .reduceByKey(lambda x, y: x + y) \\\n",
    "# #     .sortBy(lambda x: x[1], ascending = False)\n",
    "\n",
    "# [('VBD', 84),\n",
    "#  ('PRP$', 29),\n",
    "#  ('NNS', 73),\n",
    "#  ('CC', 48),\n",
    "#  ('PRP', 50),\n",
    "#  ('VBP', 35),\n",
    "#  ('VBZ', 12),\n",
    "#  ('TO', 36),\n",
    "#  ('RB', 50),\n",
    "#  ('CD', 30),\n",
    "#  ('WRB', 2),\n",
    "#  ('JJR', 7),\n",
    "#  ('EX', 1),\n",
    "#  ('WP', 6),\n",
    "#  ('RP', 10),\n",
    "#  ('JJS', 2),\n",
    "#  ('FW', 6),\n",
    "#  ('NNP', 159),\n",
    "#  ('NN', 207),\n",
    "#  ('DT', 139),\n",
    "#  ('NNPS', 7),\n",
    "#  ('IN', 174),\n",
    " \n",
    " \n",
    "    "
   ]
  },
  {
   "cell_type": "code",
   "execution_count": 90,
   "metadata": {},
   "outputs": [
    {
     "data": {
      "text/plain": [
       "[('NN', 207),\n",
       " ('IN', 174),\n",
       " ('NNP', 159),\n",
       " ('DT', 139),\n",
       " ('VBD', 84),\n",
       " ('JJ', 79),\n",
       " ('NNS', 73),\n",
       " ('PRP', 50),\n",
       " ('RB', 50),\n",
       " ('CC', 48),\n",
       " ('VB', 41),\n",
       " ('TO', 36),\n",
       " ('VBP', 35),\n",
       " ('CD', 30),\n",
       " ('PRP$', 29),\n",
       " ('VBG', 28),\n",
       " ('VBN', 28),\n",
       " ('VBZ', 12),\n",
       " ('RP', 10),\n",
       " ('JJR', 7),\n",
       " ('NNPS', 7),\n",
       " ('MD', 7),\n",
       " ('WP', 6),\n",
       " ('FW', 6),\n",
       " ('WDT', 4),\n",
       " ('RBR', 3),\n",
       " ('WRB', 2),\n",
       " ('JJS', 2),\n",
       " ('EX', 1),\n",
       " ('PDT', 1)]"
      ]
     },
     "execution_count": 90,
     "metadata": {},
     "output_type": "execute_result"
    }
   ],
   "source": [
    "\n",
    "#  DO NO DELETE THIS CELL # \n",
    "\n",
    "pos_tag_counts = text.filter(lambda line: len(line) > 0) \\\n",
    "    .filter(lambda line: re.findall('^(?!URL).*', line)) \\\n",
    "    .flatMap(pos_tag_counter) \\\n",
    "    .map(lambda word: word[1]) \\\n",
    "    .map(lambda word: (word, 1)) \\\n",
    "    .reduceByKey(lambda x, y: x + y) \\\n",
    "    .sortBy(lambda x: x[1], ascending = False)\n",
    "\n",
    "pos_tag_counts.collect()\n",
    "\n",
    "\n",
    "\n",
    "# [('NN', 1126515),\n",
    "#  ('IN', 928916),\n",
    "#  ('NNP', 853093),\n",
    "#  ('DT', 761492),\n",
    "#  ('JJ', 498482),\n",
    "#  ('NNS', 437116),\n",
    "#  ('VBD', 379509),\n",
    "#  ('PRP', 282603),\n",
    "#  ('RB', 271053),\n",
    "#  ('CC', 231491),\n",
    "#  ('VB', 223717),\n",
    "#  ('CD', 187602),\n",
    "#  ('TO', 187005),\n",
    "#  ('VBN', 174980),\n",
    "#  ('VBZ', 169149),\n",
    "#  ('VBG', 163653),\n",
    "#  ('VBP', 143368),\n",
    "#  ('PRP$', 107984),\n",
    "#  ('MD', 67185),\n",
    "#  ('WDT', 44582),\n",
    "#  ('WP', 42406),\n",
    "#  ('WRB', 33160),\n",
    "#  ('RP', 29345),\n",
    "#  ('JJR', 24746),\n",
    "#  ('NNPS', 18870),\n",
    "#  ('JJS', 16425),\n",
    "#  ('EX', 12397),\n",
    "#  ('RBR', 12286),\n",
    "#  ('RBS', 5146),\n",
    "#  ('PDT', 3784),\n",
    "#  ('FW', 2793),\n",
    "#  ('WP$', 2329),\n",
    "#  ('POS', 493),\n",
    "#  ('UH', 325),\n",
    "#  ('$', 219),\n",
    "#  ('LS', 5),\n",
    "#  (\"''\", 2)]\n",
    "\n",
    "\n",
    "\n",
    "\n",
    "# when minitext is input, this is the output: \n",
    "# [('NN', 207),\n",
    "#  ('IN', 174),\n",
    "#  ('NNP', 159),\n",
    "#  ('DT', 139),\n",
    "#  ('VBD', 84),\n",
    "#  ('JJ', 79),\n",
    "#  ('NNS', 73),\n",
    "#  ('PRP', 50),\n",
    "#  ('RB', 50),\n",
    "#  ('CC', 48),\n",
    "#  ('VB', 41),\n",
    "#  ('TO', 36),\n",
    "#  ('VBP', 35),\n",
    "#  ('CD', 30),\n",
    "#  ('PRP$', 29),\n",
    "#  ('VBG', 28),\n",
    "#  ('VBN', 28),\n",
    "#  ('VBZ', 12),\n",
    "#  ('RP', 10),\n",
    "#  ('JJR', 7),\n",
    "#  ('NNPS', 7),\n",
    "#  ('MD', 7),\n",
    "#  ('WP', 6),\n",
    "#  ('FW', 6),\n",
    "#  ('WDT', 4),\n",
    "#  ('RBR', 3),\n",
    "#  ('WRB', 2),\n",
    "#  ('JJS', 2),\n",
    "#  ('EX', 1),\n",
    "#  ('PDT', 1)]\n",
    "\n",
    "\n",
    "# note, this is how the text has URL within it: \n",
    "    \n",
    "# The departures came less than two months after Karen Hinton, the mayor’s top spokeswoman, announced her resignation from the administration. (She stayed in the position until mid-June.)\n",
    "\n",
    "# URL: http:  do you see it to the left ? //www.nytimes.com/2016/06/30/nyregion/three-men-charged-in-killing-of-cuomo-administration-lawyer.html\n",
    "\n",
    "# In the early morning hours of Labor Day last year, a group of gunmen from the 8-Trey street gang made their way through a crowd of revelers gathered n\n"
   ]
  },
  {
   "cell_type": "code",
   "execution_count": 91,
   "metadata": {},
   "outputs": [
    {
     "data": {
      "text/plain": [
       "[('NN', 207),\n",
       " ('IN', 174),\n",
       " ('NNP', 159),\n",
       " ('DT', 139),\n",
       " ('VBD', 84),\n",
       " ('JJ', 79),\n",
       " ('NNS', 73),\n",
       " ('PRP', 50),\n",
       " ('RB', 50),\n",
       " ('CC', 48),\n",
       " ('VB', 41),\n",
       " ('TO', 36),\n",
       " ('VBP', 35),\n",
       " ('CD', 30),\n",
       " ('PRP$', 29),\n",
       " ('VBG', 28),\n",
       " ('VBN', 28),\n",
       " ('VBZ', 12),\n",
       " ('RP', 10),\n",
       " ('JJR', 7),\n",
       " ('NNPS', 7),\n",
       " ('MD', 7),\n",
       " ('WP', 6),\n",
       " ('FW', 6),\n",
       " ('WDT', 4),\n",
       " ('RBR', 3),\n",
       " ('WRB', 2),\n",
       " ('JJS', 2),\n",
       " ('EX', 1),\n",
       " ('PDT', 1)]"
      ]
     },
     "execution_count": 91,
     "metadata": {},
     "output_type": "execute_result"
    }
   ],
   "source": [
    "\n",
    "\n",
    "# May also be done this way\n",
    "pos_tag_counts = text.filter(lambda line: len(line) > 0) \\\n",
    "    .filter(lambda line: re.findall('^(?!URL).*', line)) \\\n",
    "    .flatMap(pos_tag_counter) \\\n",
    "    .map(lambda word: (word[1], 1)) \\\n",
    "    .reduceByKey(lambda x, y: x + y) \\\n",
    "    .sortBy(lambda x: x[1], ascending = False)\n",
    "    \n",
    "pos_tag_counts.collect()\n",
    "\n"
   ]
  },
  {
   "cell_type": "markdown",
   "metadata": {},
   "source": [
    "<hr>"
   ]
  },
  {
   "cell_type": "markdown",
   "metadata": {},
   "source": [
    "### Run the next cell before proceeding to Task 2"
   ]
  },
  {
   "cell_type": "code",
   "execution_count": 92,
   "metadata": {},
   "outputs": [],
   "source": [
    "\n",
    "\n",
    "\n",
    "# grammar = r\"\"\"\n",
    "#     NBAR:\n",
    "#         {<NN.*|JJS>*<NN.*>}\n",
    "        \n",
    "#     NP:\n",
    "#         {<NBAR>}\n",
    "#         {<NBAR><IN><NBAR>}\n",
    "# \"\"\"\n",
    "\n",
    "\n",
    "\n",
    "# print(grammar)\n",
    "\n",
    "#     NBAR:\n",
    "#         {<NN.*|JJS>*<NN.*>}\n",
    "        \n",
    "#     NP:\n",
    "#         {<NBAR>}\n",
    "#         {<NBAR><IN><NBAR>}\n",
    "        \n",
    "        "
   ]
  },
  {
   "cell_type": "code",
   "execution_count": 93,
   "metadata": {},
   "outputs": [],
   "source": [
    "\n",
    "# DO NO DELETE THIS CELL #\n",
    "\n",
    "grammar = r\"\"\"\n",
    "    NBAR:\n",
    "        {<NN.*|JJS>*<NN.*>}\n",
    "        \n",
    "    NP:\n",
    "        {<NBAR>}\n",
    "        {<NBAR><IN><NBAR>}\n",
    "\"\"\"\n",
    "\n",
    "  \n",
    "def tokenize_chunk_parse(line): \n",
    "    chunker = nltk.RegexpParser(grammar)  # chunker:  regexpparser(regex matcher def)\n",
    "  \n",
    "    toks = nltk.regexp_tokenize(line, TOKEN_RE)\n",
    "    postoks = nltk.tag.pos_tag(toks)\n",
    "\n",
    "    tree = chunker.parse(postoks)\n",
    "\n",
    "    return [term for term in leaves(tree)] \n",
    "  \n",
    "    \n",
    "def leaves(tree):\n",
    "    for subtree in tree.subtrees(filter = lambda t: t.label()=='NP'):\n",
    "        yield subtree.leaves()\n",
    "        \n",
    "        \n",
    "        "
   ]
  },
  {
   "cell_type": "markdown",
   "metadata": {},
   "source": [
    "<hr>"
   ]
  },
  {
   "cell_type": "markdown",
   "metadata": {},
   "source": [
    "### Task 2:  Create an RDD pipeline to show the distribution of the length of noun phrases\n",
    "You should wind up with an RDD showing the number of each length of noun phrase.  For example, the following output shows there are 6157 noun phrases of\n",
    "length 1, 1833 of length 2, 654 of length 3, and so on:\n",
    "```\n",
    "[(1, 6157),\n",
    " (2, 1833),\n",
    " (3, 654),\n",
    " (4, 204),\n",
    " (5, 65),\n",
    " (6, 16),\n",
    " (8, 6),\n",
    " (7, 4),\n",
    " (9, 3)]\n",
    "```\n",
    "The steps should be:\n",
    "1. Apply (using flatMap) the ```tokenize_chunk_parse``` function to each line in the ```text``` RDD\n",
    "2. Use map to emit the length of each noun phrase\n",
    "3. Use map to convert each resulting line to a pairRDD with words as keys and values of 1\n",
    "4. Reduce the resulting RDD by key, adding up all the 1s (like the lecture and lab examples)\n",
    "5. Sort the resulting list by the counts, in descending order."
   ]
  },
  {
   "cell_type": "code",
   "execution_count": 94,
   "metadata": {},
   "outputs": [
    {
     "data": {
      "text/plain": [
       "[(1, 215), (2, 62), (3, 20), (4, 7), (5, 3), (6, 1)]"
      ]
     },
     "execution_count": 94,
     "metadata": {},
     "output_type": "execute_result"
    }
   ],
   "source": [
    "\n",
    "np_counts = text.filter(lambda line: len(line) > 0) \\\n",
    "    .filter(lambda line: re.findall('^(?!URL).*', line)) \\\n",
    "    .flatMap(tokenize_chunk_parse) \\\n",
    "    .map(lambda phrase: (len(phrase), 1)) \\\n",
    "    .reduceByKey(lambda x, y: x+y) \\\n",
    "    .sortBy(lambda x: x[1], ascending = False)\n",
    "\n",
    "\n",
    "np_counts.collect()\n"
   ]
  },
  {
   "cell_type": "markdown",
   "metadata": {},
   "source": [
    "<hr>\n",
    "<br>\n",
    "<hr>"
   ]
  },
  {
   "cell_type": "markdown",
   "metadata": {},
   "source": [
    "# Appendix - Tom's Notes"
   ]
  },
  {
   "cell_type": "markdown",
   "metadata": {},
   "source": [
    "### The text"
   ]
  },
  {
   "cell_type": "markdown",
   "metadata": {},
   "source": [
    "```\n",
    "URL: http://www.nytimes.com/2016/06/30/sports/baseball/washington-nationals-max-scherzer-baffles-mets-completing-a-sweep.html\n",
    "\n",
    "WASHINGTON — Stellar pitching kept the Mets afloat in the first half of last season despite their offensive woes. But they cannot produce an encore of their pennant-winning season if their lineup keeps floundering while their pitching is nicked, bruised and stretched thin.\n",
    "“We were going to ride our pitching,” Manager Terry Collins said before Wednesday’s game. “But we’re not riding it right now. We’ve got as many problems with our pitching as we do anything.”\n",
    "Wednesday’s 4-2 loss to the Washington Nationals was cruel for the already-limping Mets. Pitching in Steven Matz’s place, the spot starter Logan Verrett allowed two runs over five innings. But even that was too large a deficit for the Mets’ lineup to overcome against Max Scherzer, the Nationals’ starter.\n",
    "“We’re not even giving ourselves chances,” Collins said, adding later, “We just can’t give our pitchers any room to work.”\n",
    "The Mets did not score until the ninth inning, when a last-gasp two-run homer by James Loney off Nationals reliever Shawn Kelley snapped a streak of 23 scoreless innings for the team.\n",
    "The Mets were swept in the three-game series and fell six games behind the Nationals in the National League East. Of late, the Mets have looked worse than their 40-37 record.\n",
    "“I don’t think we’ve played half our games yet this year,” right fielder Curtis Granderson said. “There’s still a lot of things left that can and hopefully will happen.”\n",
    "Scherzer toyed with the Mets, who were initially without Granderson after he was scratched from the lineup with lingering calf tightness. Even though Granderson has been inconsistent this season, he had hit well against Scherzer in the past. Alejandro De Aza, who entered the game with a .165 average, started in right field instead because Collins said the team had few options.\n",
    "After Scherzer gave up a single to Asdrubal Cabrera and walked Loney in the second inning, he retired the next 18 batters, until an eighth-inning single by Brandon Nimmo.\n",
    "The Mets struggled again with runners on base. After Nimmo and the pinch-hitting Granderson singled in the eighth, pinch-hitter Travis d’Arnaud grounded out, and De Aza struck out.\n",
    "“If they keep adding pressure on themselves, they’re going to continue to struggle,” Collins said. “That’s one of the things we try to make sure they have to understand: They have to be themselves.”\n",
    "General Manager Sandy Alderson, Collin```"
   ]
  }
 ],
 "metadata": {
  "kernelspec": {
   "display_name": "Python 3",
   "language": "python",
   "name": "python3"
  },
  "language_info": {
   "codemirror_mode": {
    "name": "ipython",
    "version": 3
   },
   "file_extension": ".py",
   "mimetype": "text/x-python",
   "name": "python",
   "nbconvert_exporter": "python",
   "pygments_lexer": "ipython3",
   "version": "3.7.3"
  },
  "name": "si330wn18hw9",
  "notebookId": 258872427021699
 },
 "nbformat": 4,
 "nbformat_minor": 1
}
