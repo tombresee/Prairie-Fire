{
  "nbformat": 4,
  "nbformat_minor": 0,
  "metadata": {
    "colab": {
      "name": "ApacheSpark_on_Colab_quickandfast",
      "provenance": [],
      "collapsed_sections": [
        "CkwPUohiDScK"
      ],
      "authorship_tag": "ABX9TyMwu6XVF8dwWlxb0DJE3+Mb",
      "include_colab_link": true
    },
    "kernelspec": {
      "name": "python3",
      "display_name": "Python 3"
    }
  },
  "cells": [
    {
      "cell_type": "markdown",
      "metadata": {
        "id": "view-in-github",
        "colab_type": "text"
      },
      "source": [
        "<a href=\"https://colab.research.google.com/github/tombresee/Prairie-Fire/blob/master/ApacheSpark_on_Colab_Joern.ipynb\" target=\"_parent\"><img src=\"https://colab.research.google.com/assets/colab-badge.svg\" alt=\"Open In Colab\"/></a>"
      ]
    },
    {
      "cell_type": "markdown",
      "metadata": {
        "id": "IKKGOp1bPGsP",
        "colab_type": "text"
      },
      "source": [
        "# Spark Environment on Colab:  "
      ]
    },
    {
      "cell_type": "markdown",
      "metadata": {
        "id": "K2WwdHt2_JcJ",
        "colab_type": "text"
      },
      "source": [
        "### Author:  Tom Bresee"
      ]
    },
    {
      "cell_type": "markdown",
      "metadata": {
        "id": "NoxQ_oAh_PFX",
        "colab_type": "text"
      },
      "source": [
        "<br>"
      ]
    },
    {
      "cell_type": "code",
      "metadata": {
        "id": "Y4xmY1KqXy_T",
        "colab_type": "code",
        "colab": {}
      },
      "source": [
        "#  Step 1:           !apt-get install openjdk-8-jdk-headless -qq > /dev/null\n",
        "!apt-get install openjdk-8-jdk-headless -qq > /dev/null"
      ],
      "execution_count": 0,
      "outputs": []
    },
    {
      "cell_type": "code",
      "metadata": {
        "id": "yAjzKylbCDH7",
        "colab_type": "code",
        "outputId": "3a5528e1-fb30-44f2-b2cc-d93814e57f2a",
        "colab": {
          "base_uri": "https://localhost:8080/",
          "height": 50
        }
      },
      "source": [
        "!ls -l\n",
        "# at this point you should only see sample_data main folder..."
      ],
      "execution_count": 2,
      "outputs": [
        {
          "output_type": "stream",
          "text": [
            "total 4\n",
            "drwxr-xr-x 1 root root 4096 May 13 16:29 sample_data\n"
          ],
          "name": "stdout"
        }
      ]
    },
    {
      "cell_type": "code",
      "metadata": {
        "id": "1ShhkRaJCaLQ",
        "colab_type": "code",
        "colab": {}
      },
      "source": [
        "#  !rm spark-2.4.5-bin-hadoop2.7.tgz.1\n",
        "#  IF you need to remove anything, use this level of command..."
      ],
      "execution_count": 0,
      "outputs": []
    },
    {
      "cell_type": "code",
      "metadata": {
        "id": "1boxqiRSYVvZ",
        "colab_type": "code",
        "colab": {}
      },
      "source": [
        "#   Step 2:    !wget -q  https://www-us.apache.org/dist/spark/spark-2.4.5/spark-2.4.5-bin-hadoop2.7.tgz\n",
        "!wget -q  https://www-us.apache.org/dist/spark/spark-2.4.5/spark-2.4.5-bin-hadoop2.7.tgz"
      ],
      "execution_count": 0,
      "outputs": []
    },
    {
      "cell_type": "code",
      "metadata": {
        "colab_type": "code",
        "id": "OouxroUkYnR_",
        "colab": {}
      },
      "source": [
        "#   Step 3:    !tar xf spark-2.4.5-bin-hadoop2.7.tgz\n",
        "!tar xf spark-2.4.5-bin-hadoop2.7.tgz"
      ],
      "execution_count": 0,
      "outputs": []
    },
    {
      "cell_type": "code",
      "metadata": {
        "id": "ZJb9oxvVYnU6",
        "colab_type": "code",
        "colab": {}
      },
      "source": [
        "#   Step 4:    !pip install -q findspark\n",
        "!pip install -q findspark"
      ],
      "execution_count": 0,
      "outputs": []
    },
    {
      "cell_type": "code",
      "metadata": {
        "id": "8d3hITePYsJC",
        "colab_type": "code",
        "outputId": "06248dc3-6b9b-45d9-8186-3310cdfa7340",
        "colab": {
          "base_uri": "https://localhost:8080/",
          "height": 84
        }
      },
      "source": [
        "!ls -l "
      ],
      "execution_count": 7,
      "outputs": [
        {
          "output_type": "stream",
          "text": [
            "total 227092\n",
            "drwxr-xr-x  1 root root      4096 May 13 16:29 sample_data\n",
            "drwxr-xr-x 13 1000 1000      4096 Feb  2 19:47 spark-2.4.5-bin-hadoop2.7\n",
            "-rw-r--r--  1 root root 232530699 Feb  2 20:27 spark-2.4.5-bin-hadoop2.7.tgz\n"
          ],
          "name": "stdout"
        }
      ]
    },
    {
      "cell_type": "code",
      "metadata": {
        "id": "CbntUic-fWsJ",
        "colab_type": "code",
        "outputId": "67dced51-84d3-421a-d396-736cc304df7a",
        "colab": {
          "base_uri": "https://localhost:8080/",
          "height": 254
        }
      },
      "source": [
        "#   Step 5:  !pip install pyspark\n",
        "!pip install pyspark"
      ],
      "execution_count": 8,
      "outputs": [
        {
          "output_type": "stream",
          "text": [
            "Collecting pyspark\n",
            "\u001b[?25l  Downloading https://files.pythonhosted.org/packages/9a/5a/271c416c1c2185b6cb0151b29a91fff6fcaed80173c8584ff6d20e46b465/pyspark-2.4.5.tar.gz (217.8MB)\n",
            "\u001b[K     |████████████████████████████████| 217.8MB 60kB/s \n",
            "\u001b[?25hCollecting py4j==0.10.7\n",
            "\u001b[?25l  Downloading https://files.pythonhosted.org/packages/e3/53/c737818eb9a7dc32a7cd4f1396e787bd94200c3997c72c1dbe028587bd76/py4j-0.10.7-py2.py3-none-any.whl (197kB)\n",
            "\u001b[K     |████████████████████████████████| 204kB 35.0MB/s \n",
            "\u001b[?25hBuilding wheels for collected packages: pyspark\n",
            "  Building wheel for pyspark (setup.py) ... \u001b[?25l\u001b[?25hdone\n",
            "  Created wheel for pyspark: filename=pyspark-2.4.5-py2.py3-none-any.whl size=218257927 sha256=68d65a92663c74c570602f1dccea526129937db3e42374d0f0d4464f74a10e1f\n",
            "  Stored in directory: /root/.cache/pip/wheels/bf/db/04/61d66a5939364e756eb1c1be4ec5bdce6e04047fc7929a3c3c\n",
            "Successfully built pyspark\n",
            "Installing collected packages: py4j, pyspark\n",
            "Successfully installed py4j-0.10.7 pyspark-2.4.5\n"
          ],
          "name": "stdout"
        }
      ]
    },
    {
      "cell_type": "code",
      "metadata": {
        "id": "egtKLwi0C-kO",
        "colab_type": "code",
        "colab": {}
      },
      "source": [
        "#  HERE IS WHAT IT LOOKED LIKE:\n",
        "\n",
        "# Collecting pyspark\n",
        "#   Downloading https://files.pythonhosted.org/packages/87/21/f05c186f4ddb01d15d0ddc36ef4b7e3cedbeb6412274a41f26b55a650ee5/pyspark-2.4.4.tar.gz (215.7MB)\n",
        "#      |████████████████████████████████| 215.7MB 64kB/s \n",
        "# Collecting py4j==0.10.7\n",
        "#   Downloading https://files.pythonhosted.org/packages/e3/53/c737818eb9a7dc32a7cd4f1396e787bd94200c3997c72c1dbe028587bd76/py4j-0.10.7-py2.py3-none-any.whl (197kB)\n",
        "#      |████████████████████████████████| 204kB 57.1MB/s \n",
        "# Building wheels for collected packages: pyspark\n",
        "#   Building wheel for pyspark (setup.py) ... done\n",
        "#   Created wheel for pyspark: filename=pyspark-2.4.4-py2.py3-none-any.whl size=216130387 sha256=cac013fd0c315531dfcfaede5945772591909a51429227903d1b41ff7fd9f600\n",
        "#   Stored in directory: /root/.cache/pip/wheels/ab/09/4d/0d184230058e654eb1b04467dbc1292f00eaa186544604b471\n",
        "# Successfully built pyspark\n",
        "# Installing collected packages: py4j, pyspark\n",
        "# Successfully installed py4j-0.10.7 pyspark-2.4.4\n"
      ],
      "execution_count": 0,
      "outputs": []
    },
    {
      "cell_type": "code",
      "metadata": {
        "id": "qSvfU3bdLw-_",
        "colab_type": "code",
        "colab": {}
      },
      "source": [
        "#   Step 6:   Create the sparkconnection sc: \n",
        "#  you need to import the right libraries first below...     and then do this...  sc = spark.SparkCon"
      ],
      "execution_count": 0,
      "outputs": []
    },
    {
      "cell_type": "markdown",
      "metadata": {
        "id": "In-cepkvjUr4",
        "colab_type": "text"
      },
      "source": [
        "# Colab Specs:  "
      ]
    },
    {
      "cell_type": "code",
      "metadata": {
        "id": "VN9d4-BMPOPt",
        "colab_type": "code",
        "outputId": "d55721f1-43de-4db7-958a-7bd2e3822751",
        "colab": {
          "base_uri": "https://localhost:8080/",
          "height": 184
        }
      },
      "source": [
        "!df -h"
      ],
      "execution_count": 11,
      "outputs": [
        {
          "output_type": "stream",
          "text": [
            "Filesystem      Size  Used Avail Use% Mounted on\n",
            "overlay         108G   33G   70G  32% /\n",
            "tmpfs            64M     0   64M   0% /dev\n",
            "tmpfs           6.4G     0  6.4G   0% /sys/fs/cgroup\n",
            "shm             5.9G     0  5.9G   0% /dev/shm\n",
            "tmpfs           6.4G   12K  6.4G   1% /var/colab\n",
            "/dev/sda1       114G   35G   80G  30% /etc/hosts\n",
            "tmpfs           6.4G     0  6.4G   0% /proc/acpi\n",
            "tmpfs           6.4G     0  6.4G   0% /proc/scsi\n",
            "tmpfs           6.4G     0  6.4G   0% /sys/firmware\n"
          ],
          "name": "stdout"
        }
      ]
    },
    {
      "cell_type": "code",
      "metadata": {
        "id": "NUIfzP26PRAR",
        "colab_type": "code",
        "outputId": "0ca7e2dd-9b0b-4030-ac0b-bd517c0af903",
        "colab": {
          "base_uri": "https://localhost:8080/",
          "height": 940
        }
      },
      "source": [
        "!cat /proc/cpuinfo"
      ],
      "execution_count": 12,
      "outputs": [
        {
          "output_type": "stream",
          "text": [
            "processor\t: 0\n",
            "vendor_id\t: GenuineIntel\n",
            "cpu family\t: 6\n",
            "model\t\t: 63\n",
            "model name\t: Intel(R) Xeon(R) CPU @ 2.30GHz\n",
            "stepping\t: 0\n",
            "microcode\t: 0x1\n",
            "cpu MHz\t\t: 2300.000\n",
            "cache size\t: 46080 KB\n",
            "physical id\t: 0\n",
            "siblings\t: 2\n",
            "core id\t\t: 0\n",
            "cpu cores\t: 1\n",
            "apicid\t\t: 0\n",
            "initial apicid\t: 0\n",
            "fpu\t\t: yes\n",
            "fpu_exception\t: yes\n",
            "cpuid level\t: 13\n",
            "wp\t\t: yes\n",
            "flags\t\t: fpu vme de pse tsc msr pae mce cx8 apic sep mtrr pge mca cmov pat pse36 clflush mmx fxsr sse sse2 ss ht syscall nx pdpe1gb rdtscp lm constant_tsc rep_good nopl xtopology nonstop_tsc cpuid tsc_known_freq pni pclmulqdq ssse3 fma cx16 pcid sse4_1 sse4_2 x2apic movbe popcnt aes xsave avx f16c rdrand hypervisor lahf_lm abm invpcid_single ssbd ibrs ibpb stibp fsgsbase tsc_adjust bmi1 avx2 smep bmi2 erms invpcid xsaveopt arat md_clear arch_capabilities\n",
            "bugs\t\t: cpu_meltdown spectre_v1 spectre_v2 spec_store_bypass l1tf mds swapgs itlb_multihit\n",
            "bogomips\t: 4600.00\n",
            "clflush size\t: 64\n",
            "cache_alignment\t: 64\n",
            "address sizes\t: 46 bits physical, 48 bits virtual\n",
            "power management:\n",
            "\n",
            "processor\t: 1\n",
            "vendor_id\t: GenuineIntel\n",
            "cpu family\t: 6\n",
            "model\t\t: 63\n",
            "model name\t: Intel(R) Xeon(R) CPU @ 2.30GHz\n",
            "stepping\t: 0\n",
            "microcode\t: 0x1\n",
            "cpu MHz\t\t: 2300.000\n",
            "cache size\t: 46080 KB\n",
            "physical id\t: 0\n",
            "siblings\t: 2\n",
            "core id\t\t: 0\n",
            "cpu cores\t: 1\n",
            "apicid\t\t: 1\n",
            "initial apicid\t: 1\n",
            "fpu\t\t: yes\n",
            "fpu_exception\t: yes\n",
            "cpuid level\t: 13\n",
            "wp\t\t: yes\n",
            "flags\t\t: fpu vme de pse tsc msr pae mce cx8 apic sep mtrr pge mca cmov pat pse36 clflush mmx fxsr sse sse2 ss ht syscall nx pdpe1gb rdtscp lm constant_tsc rep_good nopl xtopology nonstop_tsc cpuid tsc_known_freq pni pclmulqdq ssse3 fma cx16 pcid sse4_1 sse4_2 x2apic movbe popcnt aes xsave avx f16c rdrand hypervisor lahf_lm abm invpcid_single ssbd ibrs ibpb stibp fsgsbase tsc_adjust bmi1 avx2 smep bmi2 erms invpcid xsaveopt arat md_clear arch_capabilities\n",
            "bugs\t\t: cpu_meltdown spectre_v1 spectre_v2 spec_store_bypass l1tf mds swapgs itlb_multihit\n",
            "bogomips\t: 4600.00\n",
            "clflush size\t: 64\n",
            "cache_alignment\t: 64\n",
            "address sizes\t: 46 bits physical, 48 bits virtual\n",
            "power management:\n",
            "\n"
          ],
          "name": "stdout"
        }
      ]
    },
    {
      "cell_type": "code",
      "metadata": {
        "id": "Ilg_wDmVPRHS",
        "colab_type": "code",
        "outputId": "c8f9339f-291f-4154-c4bb-ea5d65af9bf8",
        "colab": {
          "base_uri": "https://localhost:8080/",
          "height": 803
        }
      },
      "source": [
        "!cat /proc/meminfo"
      ],
      "execution_count": 13,
      "outputs": [
        {
          "output_type": "stream",
          "text": [
            "MemTotal:       13333540 kB\n",
            "MemFree:         6673192 kB\n",
            "MemAvailable:   12446184 kB\n",
            "Buffers:           80292 kB\n",
            "Cached:          5728364 kB\n",
            "SwapCached:            0 kB\n",
            "Active:           993828 kB\n",
            "Inactive:        5273156 kB\n",
            "Active(anon):     416468 kB\n",
            "Inactive(anon):      308 kB\n",
            "Active(file):     577360 kB\n",
            "Inactive(file):  5272848 kB\n",
            "Unevictable:           0 kB\n",
            "Mlocked:               0 kB\n",
            "SwapTotal:             0 kB\n",
            "SwapFree:              0 kB\n",
            "Dirty:              1432 kB\n",
            "Writeback:             0 kB\n",
            "AnonPages:        458308 kB\n",
            "Mapped:           222640 kB\n",
            "Shmem:               904 kB\n",
            "Slab:             285864 kB\n",
            "SReclaimable:     248024 kB\n",
            "SUnreclaim:        37840 kB\n",
            "KernelStack:        3524 kB\n",
            "PageTables:         5292 kB\n",
            "NFS_Unstable:          0 kB\n",
            "Bounce:                0 kB\n",
            "WritebackTmp:          0 kB\n",
            "CommitLimit:     6666768 kB\n",
            "Committed_AS:    2511652 kB\n",
            "VmallocTotal:   34359738367 kB\n",
            "VmallocUsed:           0 kB\n",
            "VmallocChunk:          0 kB\n",
            "Percpu:              920 kB\n",
            "AnonHugePages:         0 kB\n",
            "ShmemHugePages:        0 kB\n",
            "ShmemPmdMapped:        0 kB\n",
            "HugePages_Total:       0\n",
            "HugePages_Free:        0\n",
            "HugePages_Rsvd:        0\n",
            "HugePages_Surp:        0\n",
            "Hugepagesize:       2048 kB\n",
            "Hugetlb:               0 kB\n",
            "DirectMap4k:       74940 kB\n",
            "DirectMap2M:     6215680 kB\n",
            "DirectMap1G:     9437184 kB\n"
          ],
          "name": "stdout"
        }
      ]
    },
    {
      "cell_type": "code",
      "metadata": {
        "id": "LkP05IwSPRVS",
        "colab_type": "code",
        "colab": {}
      },
      "source": [
        "from psutil import *"
      ],
      "execution_count": 0,
      "outputs": []
    },
    {
      "cell_type": "code",
      "metadata": {
        "id": "2AveFdB3PRTC",
        "colab_type": "code",
        "outputId": "c5c0f1e5-7394-4818-8fe6-f787f123c4fa",
        "colab": {
          "base_uri": "https://localhost:8080/",
          "height": 33
        }
      },
      "source": [
        "cpu_count()"
      ],
      "execution_count": 15,
      "outputs": [
        {
          "output_type": "execute_result",
          "data": {
            "text/plain": [
              "2"
            ]
          },
          "metadata": {
            "tags": []
          },
          "execution_count": 15
        }
      ]
    },
    {
      "cell_type": "code",
      "metadata": {
        "id": "teaZmS_mPRPu",
        "colab_type": "code",
        "outputId": "316410dd-39c1-41e5-91b7-c616f348624a",
        "colab": {
          "base_uri": "https://localhost:8080/",
          "height": 33
        }
      },
      "source": [
        "cpu_stats()"
      ],
      "execution_count": 16,
      "outputs": [
        {
          "output_type": "execute_result",
          "data": {
            "text/plain": [
              "scpustats(ctx_switches=618372, interrupts=443068, soft_interrupts=338087, syscalls=0)"
            ]
          },
          "metadata": {
            "tags": []
          },
          "execution_count": 16
        }
      ]
    },
    {
      "cell_type": "code",
      "metadata": {
        "id": "k3Zq7g56PRNW",
        "colab_type": "code",
        "outputId": "dfdae9eb-70eb-46c1-8a39-d910a3c57532",
        "colab": {
          "base_uri": "https://localhost:8080/",
          "height": 33
        }
      },
      "source": [
        "cpu_count()"
      ],
      "execution_count": 17,
      "outputs": [
        {
          "output_type": "execute_result",
          "data": {
            "text/plain": [
              "2"
            ]
          },
          "metadata": {
            "tags": []
          },
          "execution_count": 17
        }
      ]
    },
    {
      "cell_type": "code",
      "metadata": {
        "id": "rfmaIcGcPqhq",
        "colab_type": "code",
        "outputId": "5c792edb-5ee1-4ccd-c277-26ced3f390b4",
        "colab": {
          "base_uri": "https://localhost:8080/",
          "height": 940
        }
      },
      "source": [
        "!cat /proc/cpuinfo"
      ],
      "execution_count": 18,
      "outputs": [
        {
          "output_type": "stream",
          "text": [
            "processor\t: 0\n",
            "vendor_id\t: GenuineIntel\n",
            "cpu family\t: 6\n",
            "model\t\t: 63\n",
            "model name\t: Intel(R) Xeon(R) CPU @ 2.30GHz\n",
            "stepping\t: 0\n",
            "microcode\t: 0x1\n",
            "cpu MHz\t\t: 2300.000\n",
            "cache size\t: 46080 KB\n",
            "physical id\t: 0\n",
            "siblings\t: 2\n",
            "core id\t\t: 0\n",
            "cpu cores\t: 1\n",
            "apicid\t\t: 0\n",
            "initial apicid\t: 0\n",
            "fpu\t\t: yes\n",
            "fpu_exception\t: yes\n",
            "cpuid level\t: 13\n",
            "wp\t\t: yes\n",
            "flags\t\t: fpu vme de pse tsc msr pae mce cx8 apic sep mtrr pge mca cmov pat pse36 clflush mmx fxsr sse sse2 ss ht syscall nx pdpe1gb rdtscp lm constant_tsc rep_good nopl xtopology nonstop_tsc cpuid tsc_known_freq pni pclmulqdq ssse3 fma cx16 pcid sse4_1 sse4_2 x2apic movbe popcnt aes xsave avx f16c rdrand hypervisor lahf_lm abm invpcid_single ssbd ibrs ibpb stibp fsgsbase tsc_adjust bmi1 avx2 smep bmi2 erms invpcid xsaveopt arat md_clear arch_capabilities\n",
            "bugs\t\t: cpu_meltdown spectre_v1 spectre_v2 spec_store_bypass l1tf mds swapgs itlb_multihit\n",
            "bogomips\t: 4600.00\n",
            "clflush size\t: 64\n",
            "cache_alignment\t: 64\n",
            "address sizes\t: 46 bits physical, 48 bits virtual\n",
            "power management:\n",
            "\n",
            "processor\t: 1\n",
            "vendor_id\t: GenuineIntel\n",
            "cpu family\t: 6\n",
            "model\t\t: 63\n",
            "model name\t: Intel(R) Xeon(R) CPU @ 2.30GHz\n",
            "stepping\t: 0\n",
            "microcode\t: 0x1\n",
            "cpu MHz\t\t: 2300.000\n",
            "cache size\t: 46080 KB\n",
            "physical id\t: 0\n",
            "siblings\t: 2\n",
            "core id\t\t: 0\n",
            "cpu cores\t: 1\n",
            "apicid\t\t: 1\n",
            "initial apicid\t: 1\n",
            "fpu\t\t: yes\n",
            "fpu_exception\t: yes\n",
            "cpuid level\t: 13\n",
            "wp\t\t: yes\n",
            "flags\t\t: fpu vme de pse tsc msr pae mce cx8 apic sep mtrr pge mca cmov pat pse36 clflush mmx fxsr sse sse2 ss ht syscall nx pdpe1gb rdtscp lm constant_tsc rep_good nopl xtopology nonstop_tsc cpuid tsc_known_freq pni pclmulqdq ssse3 fma cx16 pcid sse4_1 sse4_2 x2apic movbe popcnt aes xsave avx f16c rdrand hypervisor lahf_lm abm invpcid_single ssbd ibrs ibpb stibp fsgsbase tsc_adjust bmi1 avx2 smep bmi2 erms invpcid xsaveopt arat md_clear arch_capabilities\n",
            "bugs\t\t: cpu_meltdown spectre_v1 spectre_v2 spec_store_bypass l1tf mds swapgs itlb_multihit\n",
            "bogomips\t: 4600.00\n",
            "clflush size\t: 64\n",
            "cache_alignment\t: 64\n",
            "address sizes\t: 46 bits physical, 48 bits virtual\n",
            "power management:\n",
            "\n"
          ],
          "name": "stdout"
        }
      ]
    },
    {
      "cell_type": "code",
      "metadata": {
        "id": "0lhIIj6EPqep",
        "colab_type": "code",
        "outputId": "8419a6fe-34aa-48f5-e69a-1a7364a4eb02",
        "colab": {
          "base_uri": "https://localhost:8080/",
          "height": 53
        }
      },
      "source": [
        "virtual_memory()"
      ],
      "execution_count": 19,
      "outputs": [
        {
          "output_type": "execute_result",
          "data": {
            "text/plain": [
              "svmem(total=13653544960, available=12744785920, percent=6.7, used=618561536, free=6832943104, active=1019621376, inactive=5399891968, buffers=82219008, cached=6119821312, shared=925696, slab=292368384)"
            ]
          },
          "metadata": {
            "tags": []
          },
          "execution_count": 19
        }
      ]
    },
    {
      "cell_type": "code",
      "metadata": {
        "id": "v4b1v7i2P8rV",
        "colab_type": "code",
        "outputId": "e69e1dc5-2347-430a-9918-5398954598bd",
        "colab": {
          "base_uri": "https://localhost:8080/",
          "height": 70
        }
      },
      "source": [
        "#GPU count and name\n",
        "!nvidia-smi -L"
      ],
      "execution_count": 20,
      "outputs": [
        {
          "output_type": "stream",
          "text": [
            "NVIDIA-SMI has failed because it couldn't communicate with the NVIDIA driver. Make sure that the latest NVIDIA driver is installed and running.\n",
            "\n"
          ],
          "name": "stdout"
        }
      ]
    },
    {
      "cell_type": "code",
      "metadata": {
        "id": "CPi0eUXjP8pF",
        "colab_type": "code",
        "outputId": "c4462e4a-aa8c-4065-dc6c-88acb5421d10",
        "colab": {
          "base_uri": "https://localhost:8080/",
          "height": 33
        }
      },
      "source": [
        "!lscpu |grep 'Model name'"
      ],
      "execution_count": 21,
      "outputs": [
        {
          "output_type": "stream",
          "text": [
            "Model name:          Intel(R) Xeon(R) CPU @ 2.30GHz\n"
          ],
          "name": "stdout"
        }
      ]
    },
    {
      "cell_type": "code",
      "metadata": {
        "id": "8Gkkx76BP8mL",
        "colab_type": "code",
        "outputId": "8a05b68f-aa28-484a-ff39-a5dd3dcd4c39",
        "colab": {
          "base_uri": "https://localhost:8080/",
          "height": 33
        }
      },
      "source": [
        "#no.of sockets i.e available slots for physical processors\n",
        "!lscpu | grep 'Socket(s):'"
      ],
      "execution_count": 22,
      "outputs": [
        {
          "output_type": "stream",
          "text": [
            "Socket(s):           1\n"
          ],
          "name": "stdout"
        }
      ]
    },
    {
      "cell_type": "code",
      "metadata": {
        "id": "Ekv-CmLHP8jL",
        "colab_type": "code",
        "outputId": "37fc7171-2af8-476a-84f3-e44b2a78093d",
        "colab": {
          "base_uri": "https://localhost:8080/",
          "height": 33
        }
      },
      "source": [
        "#no.of cores each processor is having \n",
        "!lscpu | grep 'Core(s) per socket:'"
      ],
      "execution_count": 23,
      "outputs": [
        {
          "output_type": "stream",
          "text": [
            "Core(s) per socket:  1\n"
          ],
          "name": "stdout"
        }
      ]
    },
    {
      "cell_type": "code",
      "metadata": {
        "id": "6TOqTJDdP8gN",
        "colab_type": "code",
        "outputId": "dafb022a-4492-4524-fbd1-e3b86ec0c3a3",
        "colab": {
          "base_uri": "https://localhost:8080/",
          "height": 33
        }
      },
      "source": [
        "#no.of threads each core is having\n",
        "!lscpu | grep 'Thread(s) per core'"
      ],
      "execution_count": 24,
      "outputs": [
        {
          "output_type": "stream",
          "text": [
            "Thread(s) per core:  2\n"
          ],
          "name": "stdout"
        }
      ]
    },
    {
      "cell_type": "code",
      "metadata": {
        "id": "6AQ36AwVQIQT",
        "colab_type": "code",
        "outputId": "c0fa90cb-c0ed-4f36-953c-441481e8cc94",
        "colab": {
          "base_uri": "https://localhost:8080/",
          "height": 33
        }
      },
      "source": [
        "#memory that we can use\n",
        "!cat /proc/meminfo | grep 'MemAvailable'"
      ],
      "execution_count": 25,
      "outputs": [
        {
          "output_type": "stream",
          "text": [
            "MemAvailable:   12448784 kB\n"
          ],
          "name": "stdout"
        }
      ]
    },
    {
      "cell_type": "code",
      "metadata": {
        "id": "fnQuh1vEQINm",
        "colab_type": "code",
        "outputId": "9c4ec220-bb12-4f19-ddf5-1f3cd5962466",
        "colab": {
          "base_uri": "https://localhost:8080/",
          "height": 50
        }
      },
      "source": [
        "#hard disk that we can use\n",
        "!df -h / | awk '{print $4}'"
      ],
      "execution_count": 26,
      "outputs": [
        {
          "output_type": "stream",
          "text": [
            "Avail\n",
            "70G\n"
          ],
          "name": "stdout"
        }
      ]
    },
    {
      "cell_type": "markdown",
      "metadata": {
        "id": "1TWBIElMBW6O",
        "colab_type": "text"
      },
      "source": [
        "# Start Here - Creating Session  (including the steps A - E for initialization): "
      ]
    },
    {
      "cell_type": "code",
      "metadata": {
        "id": "qq_tfkGcfYvR",
        "colab_type": "code",
        "colab": {}
      },
      "source": [
        "#  Step A: \n",
        "\n",
        "import os\n",
        "os.environ[\"JAVA_HOME\"] = \"/usr/lib/jvm/java-8-openjdk-amd64\"\n",
        "os.environ[\"SPARK_HOME\"] = \"/content/spark-2.4.5-bin-hadoop2.7\"\n"
      ],
      "execution_count": 0,
      "outputs": []
    },
    {
      "cell_type": "code",
      "metadata": {
        "id": "K24_4pHyfkTQ",
        "colab_type": "code",
        "outputId": "4da6e308-1db9-422a-80a1-4a8781b965a8",
        "colab": {
          "base_uri": "https://localhost:8080/",
          "height": 53
        }
      },
      "source": [
        "#  Step B: \n",
        "\n",
        "# Point Colaboratory to your Google Drive  (maybe not need?)\n",
        "\n",
        "from google.colab import drive\n",
        "drive.mount('/content/gdrive')\n"
      ],
      "execution_count": 130,
      "outputs": [
        {
          "output_type": "stream",
          "text": [
            "Drive already mounted at /content/gdrive; to attempt to forcibly remount, call drive.mount(\"/content/gdrive\", force_remount=True).\n"
          ],
          "name": "stdout"
        }
      ]
    },
    {
      "cell_type": "markdown",
      "metadata": {
        "id": "tP_s0YGv_9wR",
        "colab_type": "text"
      },
      "source": [
        "# STOP AND READ:  YOU WILL NEED TO ENTER YOUR KEY ABOVE.  THEN YOU WILL NEED TO GO UP TO THE TOP TAB, CLICK 'RUNTIME', AND THEN CLICK 'Run After' BECAUSE THE CODE KEPT TRYING TO EXECUTE, but since your key wasn't entered at that point, the below cells will exhibit issues.  Its expected.  \n",
        "\n",
        "\n",
        "Second way:  or you can enter your key, make sure it works, and **then** go to the top and click 'Runtime' and then 'Run All', and it should all work.  I like the second way, its easier... "
      ]
    },
    {
      "cell_type": "code",
      "metadata": {
        "id": "yITDDk_qfqRg",
        "colab_type": "code",
        "colab": {}
      },
      "source": [
        "# Download datasets directly to your Google Drive \"Colab Datasets\" folder\n",
        "\n",
        "# import requests\n",
        "\n",
        "# # 2007 data\n",
        "\n",
        "# file_url = \"http://stat-computing.org/dataexpo/2009/2007.csv.bz2\"\n",
        "\n",
        "# r = requests.get(file_url, stream = True) \n",
        "\n",
        "# with open(\"/content/gdrive/My Drive/Colab Datasets/2007.csv.bz2\", \"wb\") as file: \n",
        "# \tfor block in r.iter_content(chunk_size = 1024): \n",
        "# \t\tif block: \n",
        "# \t\t\tfile.write(block)\n",
        "\n",
        "# # 2008 data\n",
        "\n",
        "# file_url = \"http://stat-computing.org/dataexpo/2009/2008.csv.bz2\"\n",
        "\n",
        "# r = requests.get(file_url, stream = True) \n",
        "\n",
        "# with open(\"/content/gdrive/My Drive/Colab Datasets/2008.csv.bz2\", \"wb\") as file: \n",
        "# \tfor block in r.iter_content(chunk_size = 1024): \n",
        "# \t\tif block: \n",
        "# \t\t\tfile.write(block)"
      ],
      "execution_count": 0,
      "outputs": []
    },
    {
      "cell_type": "code",
      "metadata": {
        "id": "jJXijD48fzxx",
        "colab_type": "code",
        "colab": {}
      },
      "source": [
        "#  Step C: \n",
        "\n",
        "# YOUR CORE LIBRARIES ! ! ! ! ! ! \n",
        "\n",
        "# Tools we need to connect to the Spark server, load our data,\n",
        "# clean it and prepare it\n",
        "# start here: \n",
        "\n",
        "# big boys: \n",
        "\n",
        "from pyspark import SparkContext         # this is sc  \n",
        "\n",
        "from pyspark.sql import SparkSession     # this is 'spark' entity \n",
        "\n",
        "from pyspark.sql.functions import *      # need this ? \n",
        "\n",
        "# boys: \n",
        "from pyspark.ml import Pipeline\n",
        "from pyspark.ml.classification import RandomForestClassifier\n",
        "from pyspark.ml.feature import IndexToString, StringIndexer, VectorIndexer, VectorAssembler\n",
        "from pyspark.ml.evaluation import MulticlassClassificationEvaluator\n",
        "# funcs: \n",
        "from pyspark.sql.functions import isnan, when, count, col\n",
        "\n",
        "\n"
      ],
      "execution_count": 0,
      "outputs": []
    },
    {
      "cell_type": "code",
      "metadata": {
        "id": "9fZMicoY7HN1",
        "colab_type": "code",
        "colab": {}
      },
      "source": [
        "# Step D:  Breathe "
      ],
      "execution_count": 0,
      "outputs": []
    },
    {
      "cell_type": "code",
      "metadata": {
        "id": "3P9tOsuZgKag",
        "colab_type": "code",
        "colab": {}
      },
      "source": [
        "\n",
        "#  Step E:\n",
        "\n",
        "# initiating spark on colab...\n",
        "\n",
        "# although if you had clusters you could create it in another manner...\n",
        "SPARK_URL = \"local[*]\"\n",
        "APP_NAME = 'Spark_App_Oscar_Mike'\n",
        "\n",
        "\n",
        "spark = SparkSession.builder.appName(APP_NAME).master(SPARK_URL).getOrCreate()\n",
        "\n",
        "# could have added:     .config(\"spark.some.config.option\", \"some-value\")\n",
        "\n",
        "\n",
        "# review:  \n",
        "#   - \n",
        "#  normally you create according to apache spark examples github home like this: \n",
        "#\n",
        "#   spark = SparkSession\\\n",
        "#          .builder\\\n",
        "#          .appName(\"PythonPi\")\\\n",
        "#          .getOrCreate()\n",
        "#\n",
        "#\n"
      ],
      "execution_count": 0,
      "outputs": []
    },
    {
      "cell_type": "code",
      "metadata": {
        "id": "YR-h4uyggYQg",
        "colab_type": "code",
        "colab": {}
      },
      "source": [
        "# holder:  spark = SparkSession.builder.appName(APP_NAME).master(SPARK_URL).getOrCreate()"
      ],
      "execution_count": 0,
      "outputs": []
    },
    {
      "cell_type": "code",
      "metadata": {
        "id": "h5jzMzjGgkVo",
        "colab_type": "code",
        "outputId": "63181d3f-2327-4d35-c287-caa72907607c",
        "colab": {
          "base_uri": "https://localhost:8080/",
          "height": 214
        }
      },
      "source": [
        "#  Step F:  Confirming SparkSession (spark) is physically up...\n",
        "\n",
        "spark"
      ],
      "execution_count": 136,
      "outputs": [
        {
          "output_type": "execute_result",
          "data": {
            "text/html": [
              "\n",
              "            <div>\n",
              "                <p><b>SparkSession - in-memory</b></p>\n",
              "                \n",
              "        <div>\n",
              "            <p><b>SparkContext</b></p>\n",
              "\n",
              "            <p><a href=\"http://886d19d85e52:4040\">Spark UI</a></p>\n",
              "\n",
              "            <dl>\n",
              "              <dt>Version</dt>\n",
              "                <dd><code>v2.4.5</code></dd>\n",
              "              <dt>Master</dt>\n",
              "                <dd><code>local[*]</code></dd>\n",
              "              <dt>AppName</dt>\n",
              "                <dd><code>Spark_App_Oscar_Mike</code></dd>\n",
              "            </dl>\n",
              "        </div>\n",
              "        \n",
              "            </div>\n",
              "        "
            ],
            "text/plain": [
              "<pyspark.sql.session.SparkSession at 0x7f5bba1fbcc0>"
            ]
          },
          "metadata": {
            "tags": []
          },
          "execution_count": 136
        }
      ]
    },
    {
      "cell_type": "code",
      "metadata": {
        "id": "LPAk5DXQKlT_",
        "colab_type": "code",
        "outputId": "f5138c1a-acad-46a5-d778-5078b7bae494",
        "colab": {
          "base_uri": "https://localhost:8080/",
          "height": 190
        }
      },
      "source": [
        "\n",
        "#  Step G:   Creating the sc session...\n",
        "\n",
        "sc = spark.sparkContext\n",
        "\n",
        "#  Confirming SparkContext sc: \n",
        "sc\n"
      ],
      "execution_count": 137,
      "outputs": [
        {
          "output_type": "execute_result",
          "data": {
            "text/html": [
              "\n",
              "        <div>\n",
              "            <p><b>SparkContext</b></p>\n",
              "\n",
              "            <p><a href=\"http://886d19d85e52:4040\">Spark UI</a></p>\n",
              "\n",
              "            <dl>\n",
              "              <dt>Version</dt>\n",
              "                <dd><code>v2.4.5</code></dd>\n",
              "              <dt>Master</dt>\n",
              "                <dd><code>local[*]</code></dd>\n",
              "              <dt>AppName</dt>\n",
              "                <dd><code>Spark_App_Oscar_Mike</code></dd>\n",
              "            </dl>\n",
              "        </div>\n",
              "        "
            ],
            "text/plain": [
              "<SparkContext master=local[*] appName=Spark_App_Oscar_Mike>"
            ]
          },
          "metadata": {
            "tags": []
          },
          "execution_count": 137
        }
      ]
    },
    {
      "cell_type": "code",
      "metadata": {
        "id": "IBZFBD7Wg7Fo",
        "colab_type": "code",
        "outputId": "bbd0a2d4-89f5-46c0-f900-c5664930465a",
        "colab": {
          "base_uri": "https://localhost:8080/",
          "height": 53
        }
      },
      "source": [
        "print(os.environ)"
      ],
      "execution_count": 138,
      "outputs": [
        {
          "output_type": "stream",
          "text": [
            "environ({'ENV': '/root/.bashrc', 'GCS_READ_CACHE_BLOCK_SIZE_MB': '16', 'CLOUDSDK_CONFIG': '/content/.config', 'CUDA_VERSION': '10.1.243', 'PATH': '/usr/local/nvidia/bin:/usr/local/cuda/bin:/usr/local/sbin:/usr/local/bin:/usr/sbin:/usr/bin:/sbin:/bin:/tools/node/bin:/tools/google-cloud-sdk/bin:/opt/bin', 'HOME': '/root', 'LD_LIBRARY_PATH': '/usr/local/nvidia/lib:/usr/local/nvidia/lib64', 'LANG': 'en_US.UTF-8', 'SHELL': '/bin/bash', 'LIBRARY_PATH': '/usr/local/cuda/lib64/stubs', 'CUDA_PKG_VERSION': '10-1=10.1.243-1', 'SHLVL': '1', 'GCE_METADATA_TIMEOUT': '0', 'NCCL_VERSION': '2.4.8', 'NVIDIA_VISIBLE_DEVICES': 'all', 'TF_FORCE_GPU_ALLOW_GROWTH': 'true', 'DEBIAN_FRONTEND': 'noninteractive', 'CUDNN_VERSION': '7.6.5.32', 'LAST_FORCED_REBUILD': '20200512', 'JPY_PARENT_PID': '18', 'PYTHONPATH': '/env/python', 'DATALAB_SETTINGS_OVERRIDES': '{\"kernelManagerProxyPort\":6000,\"kernelManagerProxyHost\":\"172.28.0.3\",\"jupyterArgs\":[\"--ip=\\\\\"172.28.0.2\\\\\"\"]}', 'NO_GCE_CHECK': 'True', 'GLIBCXX_FORCE_NEW': '1', 'NVIDIA_DRIVER_CAPABILITIES': 'compute,utility', '_': '/tools/node/bin/node', 'LD_PRELOAD': '/usr/lib/x86_64-linux-gnu/libtcmalloc.so.4', 'NVIDIA_REQUIRE_CUDA': 'cuda>=10.1 brand=tesla,driver>=384,driver<385 brand=tesla,driver>=396,driver<397 brand=tesla,driver>=410,driver<411', 'OLDPWD': '/', 'HOSTNAME': '886d19d85e52', 'COLAB_GPU': '0', 'PWD': '/', 'GLIBCPP_FORCE_NEW': '1', 'PYTHONWARNINGS': 'ignore:::pip._internal.cli.base_command', 'TBE_CREDS_ADDR': '172.28.0.1:8008', 'TERM': 'xterm-color', 'CLICOLOR': '1', 'PAGER': 'cat', 'GIT_PAGER': 'cat', 'MPLBACKEND': 'module://ipykernel.pylab.backend_inline', 'JAVA_HOME': '/usr/lib/jvm/java-8-openjdk-amd64', 'SPARK_HOME': '/content/spark-2.4.5-bin-hadoop2.7'})\n"
          ],
          "name": "stdout"
        }
      ]
    },
    {
      "cell_type": "code",
      "metadata": {
        "id": "LOUMT_rjhHHQ",
        "colab_type": "code",
        "outputId": "43c5de92-c6b3-45b4-c5e6-6d94bf2f93c2",
        "colab": {
          "base_uri": "https://localhost:8080/",
          "height": 150
        }
      },
      "source": [
        "!ls -l"
      ],
      "execution_count": 139,
      "outputs": [
        {
          "output_type": "stream",
          "text": [
            "total 229812\n",
            "-rw-r--r--  1 root root   2772143 May 20 14:58 diamonds.csv\n",
            "drwx------  4 root root      4096 May 20 14:57 gdrive\n",
            "-rw-r--r--  1 root root        73 May 20 14:58 people.json\n",
            "drwxr-xr-x  1 root root      4096 May 13 16:29 sample_data\n",
            "drwxr-xr-x 13 1000 1000      4096 Feb  2 19:47 spark-2.4.5-bin-hadoop2.7\n",
            "-rw-r--r--  1 root root 232530699 Feb  2 20:27 spark-2.4.5-bin-hadoop2.7.tgz\n",
            "drwxr-xr-x  2 root root      4096 May 20 14:58 spark-warehouse\n"
          ],
          "name": "stdout"
        }
      ]
    },
    {
      "cell_type": "code",
      "metadata": {
        "id": "934RYrpXhzzN",
        "colab_type": "code",
        "outputId": "00d51452-b299-4d50-c599-bfc45978244c",
        "colab": {
          "base_uri": "https://localhost:8080/",
          "height": 33
        }
      },
      "source": [
        "!pwd"
      ],
      "execution_count": 140,
      "outputs": [
        {
          "output_type": "stream",
          "text": [
            "/content\n"
          ],
          "name": "stdout"
        }
      ]
    },
    {
      "cell_type": "code",
      "metadata": {
        "id": "qjNrdQ2Bh1s-",
        "colab_type": "code",
        "outputId": "3b41201b-b712-4820-b531-84654c67863e",
        "colab": {
          "base_uri": "https://localhost:8080/",
          "height": 304
        }
      },
      "source": [
        "#  Step F:  How to download dataset data onto your drive/console\n",
        "\n",
        "!wget https://github.com/tidyverse/ggplot2/raw/master/data-raw/diamonds.csv"
      ],
      "execution_count": 141,
      "outputs": [
        {
          "output_type": "stream",
          "text": [
            "--2020-05-20 14:58:54--  https://github.com/tidyverse/ggplot2/raw/master/data-raw/diamonds.csv\n",
            "Resolving github.com (github.com)... 140.82.113.4\n",
            "Connecting to github.com (github.com)|140.82.113.4|:443... connected.\n",
            "HTTP request sent, awaiting response... 302 Found\n",
            "Location: https://raw.githubusercontent.com/tidyverse/ggplot2/master/data-raw/diamonds.csv [following]\n",
            "--2020-05-20 14:58:54--  https://raw.githubusercontent.com/tidyverse/ggplot2/master/data-raw/diamonds.csv\n",
            "Resolving raw.githubusercontent.com (raw.githubusercontent.com)... 151.101.0.133, 151.101.64.133, 151.101.128.133, ...\n",
            "Connecting to raw.githubusercontent.com (raw.githubusercontent.com)|151.101.0.133|:443... connected.\n",
            "HTTP request sent, awaiting response... 200 OK\n",
            "Length: 2772143 (2.6M) [text/plain]\n",
            "Saving to: ‘diamonds.csv.1’\n",
            "\n",
            "\rdiamonds.csv.1        0%[                    ]       0  --.-KB/s               \rdiamonds.csv.1      100%[===================>]   2.64M  --.-KB/s    in 0.09s   \n",
            "\n",
            "2020-05-20 14:58:55 (29.1 MB/s) - ‘diamonds.csv.1’ saved [2772143/2772143]\n",
            "\n"
          ],
          "name": "stdout"
        }
      ]
    },
    {
      "cell_type": "code",
      "metadata": {
        "id": "quB61GKbiHGl",
        "colab_type": "code",
        "outputId": "c5f6fa02-6e59-48b4-f8c6-bff699a6d8b1",
        "colab": {
          "base_uri": "https://localhost:8080/",
          "height": 167
        }
      },
      "source": [
        "!ls -l\n",
        "\n",
        "# do you see diamonds ?  :) "
      ],
      "execution_count": 142,
      "outputs": [
        {
          "output_type": "stream",
          "text": [
            "total 232520\n",
            "-rw-r--r--  1 root root   2772143 May 20 14:58 diamonds.csv\n",
            "-rw-r--r--  1 root root   2772143 May 20 14:58 diamonds.csv.1\n",
            "drwx------  4 root root      4096 May 20 14:57 gdrive\n",
            "-rw-r--r--  1 root root        73 May 20 14:58 people.json\n",
            "drwxr-xr-x  1 root root      4096 May 13 16:29 sample_data\n",
            "drwxr-xr-x 13 1000 1000      4096 Feb  2 19:47 spark-2.4.5-bin-hadoop2.7\n",
            "-rw-r--r--  1 root root 232530699 Feb  2 20:27 spark-2.4.5-bin-hadoop2.7.tgz\n",
            "drwxr-xr-x  2 root root      4096 May 20 14:58 spark-warehouse\n"
          ],
          "name": "stdout"
        }
      ]
    },
    {
      "cell_type": "code",
      "metadata": {
        "id": "_Wb7Uqv6iIZk",
        "colab_type": "code",
        "colab": {}
      },
      "source": [
        "import requests"
      ],
      "execution_count": 0,
      "outputs": []
    },
    {
      "cell_type": "code",
      "metadata": {
        "id": "0p-bSNeBiM9c",
        "colab_type": "code",
        "colab": {}
      },
      "source": [
        "#  you can also do it like this as well for file download:\n",
        "\n",
        "#    file_url = \"https://github.com/tidyverse/ggplot2/raw/master/data-raw/diamonds.csv\" \n",
        "\n",
        "#    r = requests.get(file_url, stream = True) "
      ],
      "execution_count": 0,
      "outputs": []
    },
    {
      "cell_type": "code",
      "metadata": {
        "id": "hdKLgO6riVTM",
        "colab_type": "code",
        "outputId": "c48bddba-e34c-4be5-a250-cbb07d5efd4e",
        "colab": {
          "base_uri": "https://localhost:8080/",
          "height": 167
        }
      },
      "source": [
        "!ls -l"
      ],
      "execution_count": 145,
      "outputs": [
        {
          "output_type": "stream",
          "text": [
            "total 232520\n",
            "-rw-r--r--  1 root root   2772143 May 20 14:58 diamonds.csv\n",
            "-rw-r--r--  1 root root   2772143 May 20 14:58 diamonds.csv.1\n",
            "drwx------  4 root root      4096 May 20 14:57 gdrive\n",
            "-rw-r--r--  1 root root        73 May 20 14:58 people.json\n",
            "drwxr-xr-x  1 root root      4096 May 13 16:29 sample_data\n",
            "drwxr-xr-x 13 1000 1000      4096 Feb  2 19:47 spark-2.4.5-bin-hadoop2.7\n",
            "-rw-r--r--  1 root root 232530699 Feb  2 20:27 spark-2.4.5-bin-hadoop2.7.tgz\n",
            "drwxr-xr-x  2 root root      4096 May 20 14:58 spark-warehouse\n"
          ],
          "name": "stdout"
        }
      ]
    },
    {
      "cell_type": "code",
      "metadata": {
        "id": "3pcl-JXHEABw",
        "colab_type": "code",
        "outputId": "a655f4a9-ce3a-4dc4-9e82-511c2953975e",
        "colab": {
          "base_uri": "https://localhost:8080/",
          "height": 33
        }
      },
      "source": [
        "!ls -l diamonds.csv"
      ],
      "execution_count": 146,
      "outputs": [
        {
          "output_type": "stream",
          "text": [
            "-rw-r--r-- 1 root root 2772143 May 20 14:58 diamonds.csv\n"
          ],
          "name": "stdout"
        }
      ]
    },
    {
      "cell_type": "markdown",
      "metadata": {
        "id": "Rpq5xx4TCjWO",
        "colab_type": "text"
      },
      "source": [
        "Creating a true spark dataframe"
      ]
    },
    {
      "cell_type": "code",
      "metadata": {
        "id": "RU__aCmKiWqM",
        "colab_type": "code",
        "colab": {}
      },
      "source": [
        "CSV_FILE = \"/content/diamonds.csv\"\n",
        "\n",
        "df_pri = spark.read.options(header=\"true\", inferschema = \"true\").csv(CSV_FILE)\n",
        "\n",
        "\n",
        "# IF YOU HAD RAW DATA YOU WANT TO INPUT:\n",
        "# df = spark.createDataFrame(data = [('Bob', 5.62,'juice'),  ('Sue',0.85,'milk')], \n",
        "#                            schema = [\"Name\", \"Amount\",\"Item\"])\n",
        "\n"
      ],
      "execution_count": 0,
      "outputs": []
    },
    {
      "cell_type": "code",
      "metadata": {
        "id": "ghGV-yDKEWiD",
        "colab_type": "code",
        "colab": {}
      },
      "source": [
        "# data = sqlContext.createDataFrame([(\"Alberto\", 2), (\"Dakota\", 2)], \n",
        "#                                   [\"Name\", \"askdaosdka\"])\n",
        "# data.show()\n",
        "# data.printSchema()\n",
        "\n",
        "# # Output\n",
        "# #+-------+----------+\n",
        "# #|   Name|askdaosdka|\n",
        "# #+-------+----------+\n",
        "# #|Alberto|         2|\n",
        "# #| Dakota|         2|\n",
        "# #+-------+----------+\n",
        "\n",
        "# #root\n",
        "# # |-- Name: string (nullable = true)\n",
        "# # |-- askdaosdka: long (nullable = true)\n",
        "\n",
        "# df = data.selectExpr(\"Name as name\", \"askdaosdka as age\")\n",
        "# df.show()\n",
        "# df.printSchema()\n",
        "\n",
        "# # Output\n",
        "# #+-------+---+\n",
        "# #|   name|age|\n",
        "# #+-------+---+\n",
        "# #|Alberto|  2|\n",
        "# #| Dakota|  2|\n",
        "# #+-------+---+\n",
        "\n",
        "# #root\n",
        "# # |-- name: string (nullable = true)\n",
        "# # |-- age: long (nullable = true)"
      ],
      "execution_count": 0,
      "outputs": []
    },
    {
      "cell_type": "code",
      "metadata": {
        "id": "Hl-1htsyiqzr",
        "colab_type": "code",
        "outputId": "f7520e87-a577-4504-c3e9-26616ebf18d2",
        "colab": {
          "base_uri": "https://localhost:8080/",
          "height": 53
        }
      },
      "source": [
        "df_pri"
      ],
      "execution_count": 149,
      "outputs": [
        {
          "output_type": "execute_result",
          "data": {
            "text/plain": [
              "DataFrame[carat: double, cut: string, color: string, clarity: string, depth: double, table: double, price: int, x: double, y: double, z: double]"
            ]
          },
          "metadata": {
            "tags": []
          },
          "execution_count": 149
        }
      ]
    },
    {
      "cell_type": "code",
      "metadata": {
        "id": "cvn2SceTisns",
        "colab_type": "code",
        "outputId": "4727e67b-8301-4451-e028-0507017f8fb7",
        "colab": {
          "base_uri": "https://localhost:8080/",
          "height": 53
        }
      },
      "source": [
        "display(df_pri)"
      ],
      "execution_count": 150,
      "outputs": [
        {
          "output_type": "display_data",
          "data": {
            "text/plain": [
              "DataFrame[carat: double, cut: string, color: string, clarity: string, depth: double, table: double, price: int, x: double, y: double, z: double]"
            ]
          },
          "metadata": {
            "tags": []
          }
        }
      ]
    },
    {
      "cell_type": "code",
      "metadata": {
        "id": "f8T8MBHXi1k7",
        "colab_type": "code",
        "outputId": "fa98210e-8b87-45a5-dbd2-50fbd9fd3257",
        "colab": {
          "base_uri": "https://localhost:8080/",
          "height": 452
        }
      },
      "source": [
        "df_pri.show()"
      ],
      "execution_count": 151,
      "outputs": [
        {
          "output_type": "stream",
          "text": [
            "+-----+---------+-----+-------+-----+-----+-----+----+----+----+\n",
            "|carat|      cut|color|clarity|depth|table|price|   x|   y|   z|\n",
            "+-----+---------+-----+-------+-----+-----+-----+----+----+----+\n",
            "| 0.23|    Ideal|    E|    SI2| 61.5| 55.0|  326|3.95|3.98|2.43|\n",
            "| 0.21|  Premium|    E|    SI1| 59.8| 61.0|  326|3.89|3.84|2.31|\n",
            "| 0.23|     Good|    E|    VS1| 56.9| 65.0|  327|4.05|4.07|2.31|\n",
            "| 0.29|  Premium|    I|    VS2| 62.4| 58.0|  334| 4.2|4.23|2.63|\n",
            "| 0.31|     Good|    J|    SI2| 63.3| 58.0|  335|4.34|4.35|2.75|\n",
            "| 0.24|Very Good|    J|   VVS2| 62.8| 57.0|  336|3.94|3.96|2.48|\n",
            "| 0.24|Very Good|    I|   VVS1| 62.3| 57.0|  336|3.95|3.98|2.47|\n",
            "| 0.26|Very Good|    H|    SI1| 61.9| 55.0|  337|4.07|4.11|2.53|\n",
            "| 0.22|     Fair|    E|    VS2| 65.1| 61.0|  337|3.87|3.78|2.49|\n",
            "| 0.23|Very Good|    H|    VS1| 59.4| 61.0|  338| 4.0|4.05|2.39|\n",
            "|  0.3|     Good|    J|    SI1| 64.0| 55.0|  339|4.25|4.28|2.73|\n",
            "| 0.23|    Ideal|    J|    VS1| 62.8| 56.0|  340|3.93| 3.9|2.46|\n",
            "| 0.22|  Premium|    F|    SI1| 60.4| 61.0|  342|3.88|3.84|2.33|\n",
            "| 0.31|    Ideal|    J|    SI2| 62.2| 54.0|  344|4.35|4.37|2.71|\n",
            "|  0.2|  Premium|    E|    SI2| 60.2| 62.0|  345|3.79|3.75|2.27|\n",
            "| 0.32|  Premium|    E|     I1| 60.9| 58.0|  345|4.38|4.42|2.68|\n",
            "|  0.3|    Ideal|    I|    SI2| 62.0| 54.0|  348|4.31|4.34|2.68|\n",
            "|  0.3|     Good|    J|    SI1| 63.4| 54.0|  351|4.23|4.29| 2.7|\n",
            "|  0.3|     Good|    J|    SI1| 63.8| 56.0|  351|4.23|4.26|2.71|\n",
            "|  0.3|Very Good|    J|    SI1| 62.7| 59.0|  351|4.21|4.27|2.66|\n",
            "+-----+---------+-----+-------+-----+-----+-----+----+----+----+\n",
            "only showing top 20 rows\n",
            "\n"
          ],
          "name": "stdout"
        }
      ]
    },
    {
      "cell_type": "code",
      "metadata": {
        "id": "gINuuXgcEPXJ",
        "colab_type": "code",
        "outputId": "cb7b7788-58f3-4508-8d5f-f9e4e5b5436d",
        "colab": {
          "base_uri": "https://localhost:8080/",
          "height": 33
        }
      },
      "source": [
        "df_pri.count()"
      ],
      "execution_count": 152,
      "outputs": [
        {
          "output_type": "execute_result",
          "data": {
            "text/plain": [
              "53940"
            ]
          },
          "metadata": {
            "tags": []
          },
          "execution_count": 152
        }
      ]
    },
    {
      "cell_type": "code",
      "metadata": {
        "id": "VaaHNKH2EYPd",
        "colab_type": "code",
        "outputId": "fb2ab096-dc5d-4675-b93e-65b2f466b2fd",
        "colab": {
          "base_uri": "https://localhost:8080/",
          "height": 184
        }
      },
      "source": [
        "df_pri.dtypes"
      ],
      "execution_count": 153,
      "outputs": [
        {
          "output_type": "execute_result",
          "data": {
            "text/plain": [
              "[('carat', 'double'),\n",
              " ('cut', 'string'),\n",
              " ('color', 'string'),\n",
              " ('clarity', 'string'),\n",
              " ('depth', 'double'),\n",
              " ('table', 'double'),\n",
              " ('price', 'int'),\n",
              " ('x', 'double'),\n",
              " ('y', 'double'),\n",
              " ('z', 'double')]"
            ]
          },
          "metadata": {
            "tags": []
          },
          "execution_count": 153
        }
      ]
    },
    {
      "cell_type": "code",
      "metadata": {
        "id": "0TesQnycC0Nw",
        "colab_type": "code",
        "outputId": "ee4ac437-39e9-4f90-837b-8713a129f557",
        "colab": {
          "base_uri": "https://localhost:8080/",
          "height": 1000
        }
      },
      "source": [
        "for method in list(dir(df_pri)): print(method)"
      ],
      "execution_count": 154,
      "outputs": [
        {
          "output_type": "stream",
          "text": [
            "__class__\n",
            "__delattr__\n",
            "__dict__\n",
            "__dir__\n",
            "__doc__\n",
            "__eq__\n",
            "__format__\n",
            "__ge__\n",
            "__getattr__\n",
            "__getattribute__\n",
            "__getitem__\n",
            "__gt__\n",
            "__hash__\n",
            "__init__\n",
            "__init_subclass__\n",
            "__le__\n",
            "__lt__\n",
            "__module__\n",
            "__ne__\n",
            "__new__\n",
            "__reduce__\n",
            "__reduce_ex__\n",
            "__repr__\n",
            "__setattr__\n",
            "__sizeof__\n",
            "__str__\n",
            "__subclasshook__\n",
            "__weakref__\n",
            "_collectAsArrow\n",
            "_jcols\n",
            "_jdf\n",
            "_jmap\n",
            "_jseq\n",
            "_lazy_rdd\n",
            "_repr_html_\n",
            "_sc\n",
            "_schema\n",
            "_sort_cols\n",
            "_support_repr_html\n",
            "agg\n",
            "alias\n",
            "approxQuantile\n",
            "cache\n",
            "checkpoint\n",
            "coalesce\n",
            "colRegex\n",
            "collect\n",
            "columns\n",
            "corr\n",
            "count\n",
            "cov\n",
            "createGlobalTempView\n",
            "createOrReplaceGlobalTempView\n",
            "createOrReplaceTempView\n",
            "createTempView\n",
            "crossJoin\n",
            "crosstab\n",
            "cube\n",
            "describe\n",
            "distinct\n",
            "drop\n",
            "dropDuplicates\n",
            "drop_duplicates\n",
            "dropna\n",
            "dtypes\n",
            "exceptAll\n",
            "explain\n",
            "fillna\n",
            "filter\n",
            "first\n",
            "foreach\n",
            "foreachPartition\n",
            "freqItems\n",
            "groupBy\n",
            "groupby\n",
            "head\n",
            "hint\n",
            "intersect\n",
            "intersectAll\n",
            "isLocal\n",
            "isStreaming\n",
            "is_cached\n",
            "join\n",
            "limit\n",
            "localCheckpoint\n",
            "na\n",
            "orderBy\n",
            "persist\n",
            "printSchema\n",
            "randomSplit\n",
            "rdd\n",
            "registerTempTable\n",
            "repartition\n",
            "repartitionByRange\n",
            "replace\n",
            "rollup\n",
            "sample\n",
            "sampleBy\n",
            "schema\n",
            "select\n",
            "selectExpr\n",
            "show\n",
            "sort\n",
            "sortWithinPartitions\n",
            "sql_ctx\n",
            "stat\n",
            "storageLevel\n",
            "subtract\n",
            "summary\n",
            "take\n",
            "toDF\n",
            "toJSON\n",
            "toLocalIterator\n",
            "toPandas\n",
            "union\n",
            "unionAll\n",
            "unionByName\n",
            "unpersist\n",
            "where\n",
            "withColumn\n",
            "withColumnRenamed\n",
            "withWatermark\n",
            "write\n",
            "writeStream\n"
          ],
          "name": "stdout"
        }
      ]
    },
    {
      "cell_type": "code",
      "metadata": {
        "id": "UTNzCV_1DJ53",
        "colab_type": "code",
        "outputId": "1b68cc2c-8379-476a-be62-0ef200d4ba7b",
        "colab": {
          "base_uri": "https://localhost:8080/",
          "height": 53
        }
      },
      "source": [
        "\"\"\"\n",
        "agg\n",
        "alias\n",
        "approxQuantile\n",
        "cache\n",
        "checkpoint\n",
        "coalesce\n",
        "colRegex\n",
        "collect\n",
        "columns\n",
        "corr\n",
        "count\n",
        "cov\n",
        "createGlobalTempView\n",
        "createOrReplaceGlobalTempView\n",
        "createOrReplaceTempView\n",
        "createTempView\n",
        "crossJoin\n",
        "crosstab\n",
        "cube\n",
        "describe\n",
        "distinct\n",
        "drop\n",
        "dropDuplicates\n",
        "drop_duplicates\n",
        "dropna\n",
        "dtypes\n",
        "exceptAll\n",
        "explain\n",
        "fillna\n",
        "filter\n",
        "first\n",
        "foreach\n",
        "foreachPartition\n",
        "freqItems\n",
        "groupBy\n",
        "groupby\n",
        "head\n",
        "hint\n",
        "intersect\n",
        "intersectAll\n",
        "isLocal\n",
        "isStreaming\n",
        "is_cached\n",
        "join\n",
        "limit\n",
        "localCheckpoint\n",
        "na\n",
        "orderBy\n",
        "persist\n",
        "printSchema\n",
        "randomSplit\n",
        "rdd\n",
        "registerTempTable\n",
        "repartition\n",
        "repartitionByRange\n",
        "replace\n",
        "rollup\n",
        "sample\n",
        "sampleBy\n",
        "schema\n",
        "select\n",
        "selectExpr\n",
        "show\n",
        "sort\n",
        "sortWithinPartitions\n",
        "sql_ctx\n",
        "stat\n",
        "storageLevel\n",
        "subtract\n",
        "summary\n",
        "take\n",
        "toDF\n",
        "toJSON\n",
        "toLocalIterator\n",
        "toPandas\n",
        "union\n",
        "unionAll\n",
        "unionByName\n",
        "unpersist\n",
        "where\n",
        "withColumn\n",
        "withColumnRenamed\n",
        "withWatermark\n",
        "write\n",
        "writeStream\n",
        "\"\"\""
      ],
      "execution_count": 155,
      "outputs": [
        {
          "output_type": "execute_result",
          "data": {
            "text/plain": [
              "'\\nagg\\nalias\\napproxQuantile\\ncache\\ncheckpoint\\ncoalesce\\ncolRegex\\ncollect\\ncolumns\\ncorr\\ncount\\ncov\\ncreateGlobalTempView\\ncreateOrReplaceGlobalTempView\\ncreateOrReplaceTempView\\ncreateTempView\\ncrossJoin\\ncrosstab\\ncube\\ndescribe\\ndistinct\\ndrop\\ndropDuplicates\\ndrop_duplicates\\ndropna\\ndtypes\\nexceptAll\\nexplain\\nfillna\\nfilter\\nfirst\\nforeach\\nforeachPartition\\nfreqItems\\ngroupBy\\ngroupby\\nhead\\nhint\\nintersect\\nintersectAll\\nisLocal\\nisStreaming\\nis_cached\\njoin\\nlimit\\nlocalCheckpoint\\nna\\norderBy\\npersist\\nprintSchema\\nrandomSplit\\nrdd\\nregisterTempTable\\nrepartition\\nrepartitionByRange\\nreplace\\nrollup\\nsample\\nsampleBy\\nschema\\nselect\\nselectExpr\\nshow\\nsort\\nsortWithinPartitions\\nsql_ctx\\nstat\\nstorageLevel\\nsubtract\\nsummary\\ntake\\ntoDF\\ntoJSON\\ntoLocalIterator\\ntoPandas\\nunion\\nunionAll\\nunionByName\\nunpersist\\nwhere\\nwithColumn\\nwithColumnRenamed\\nwithWatermark\\nwrite\\nwriteStream\\n'"
            ]
          },
          "metadata": {
            "tags": []
          },
          "execution_count": 155
        }
      ]
    },
    {
      "cell_type": "markdown",
      "metadata": {
        "id": "CkwPUohiDScK",
        "colab_type": "text"
      },
      "source": [
        "# Examining Diamonds DataFrame: "
      ]
    },
    {
      "cell_type": "code",
      "metadata": {
        "id": "LTyPxsHMDUxd",
        "colab_type": "code",
        "colab": {}
      },
      "source": [
        "df = df_pri"
      ],
      "execution_count": 0,
      "outputs": []
    },
    {
      "cell_type": "code",
      "metadata": {
        "id": "_P4uVvT_DU0P",
        "colab_type": "code",
        "outputId": "19436557-420f-4075-8825-9a23268aa3aa",
        "colab": {
          "base_uri": "https://localhost:8080/",
          "height": 0
        }
      },
      "source": [
        "help(df.alias)"
      ],
      "execution_count": 157,
      "outputs": [
        {
          "output_type": "stream",
          "text": [
            "Help on method alias in module pyspark.sql.dataframe:\n",
            "\n",
            "alias(alias) method of pyspark.sql.dataframe.DataFrame instance\n",
            "    Returns a new :class:`DataFrame` with an alias set.\n",
            "    \n",
            "    :param alias: string, an alias name to be set for the :class:`DataFrame`.\n",
            "    \n",
            "    >>> from pyspark.sql.functions import *\n",
            "    >>> df_as1 = df.alias(\"df_as1\")\n",
            "    >>> df_as2 = df.alias(\"df_as2\")\n",
            "    >>> joined_df = df_as1.join(df_as2, col(\"df_as1.name\") == col(\"df_as2.name\"), 'inner')\n",
            "    >>> joined_df.select(\"df_as1.name\", \"df_as2.name\", \"df_as2.age\").collect()\n",
            "    [Row(name='Bob', name='Bob', age=5), Row(name='Alice', name='Alice', age=2)]\n",
            "    \n",
            "    .. versionadded:: 1.3\n",
            "\n"
          ],
          "name": "stdout"
        }
      ]
    },
    {
      "cell_type": "code",
      "metadata": {
        "id": "qD86ekMJDU3L",
        "colab_type": "code",
        "outputId": "c8777f57-94b2-451a-ba61-aee1996c5105",
        "colab": {
          "base_uri": "https://localhost:8080/",
          "height": 0
        }
      },
      "source": [
        "df.printSchema()"
      ],
      "execution_count": 158,
      "outputs": [
        {
          "output_type": "stream",
          "text": [
            "root\n",
            " |-- carat: double (nullable = true)\n",
            " |-- cut: string (nullable = true)\n",
            " |-- color: string (nullable = true)\n",
            " |-- clarity: string (nullable = true)\n",
            " |-- depth: double (nullable = true)\n",
            " |-- table: double (nullable = true)\n",
            " |-- price: integer (nullable = true)\n",
            " |-- x: double (nullable = true)\n",
            " |-- y: double (nullable = true)\n",
            " |-- z: double (nullable = true)\n",
            "\n"
          ],
          "name": "stdout"
        }
      ]
    },
    {
      "cell_type": "code",
      "metadata": {
        "id": "OxlXijgCDU5b",
        "colab_type": "code",
        "outputId": "5ebe2d36-2ee1-4cdc-89fa-5e1b4489c0f4",
        "colab": {
          "base_uri": "https://localhost:8080/",
          "height": 0
        }
      },
      "source": [
        "df.schema.names"
      ],
      "execution_count": 159,
      "outputs": [
        {
          "output_type": "execute_result",
          "data": {
            "text/plain": [
              "['carat', 'cut', 'color', 'clarity', 'depth', 'table', 'price', 'x', 'y', 'z']"
            ]
          },
          "metadata": {
            "tags": []
          },
          "execution_count": 159
        }
      ]
    },
    {
      "cell_type": "code",
      "metadata": {
        "id": "zMRL9KxzDU7-",
        "colab_type": "code",
        "outputId": "2518c000-177c-4c4f-8b68-265acf75a974",
        "colab": {
          "base_uri": "https://localhost:8080/",
          "height": 0
        }
      },
      "source": [
        "df.columns"
      ],
      "execution_count": 160,
      "outputs": [
        {
          "output_type": "execute_result",
          "data": {
            "text/plain": [
              "['carat', 'cut', 'color', 'clarity', 'depth', 'table', 'price', 'x', 'y', 'z']"
            ]
          },
          "metadata": {
            "tags": []
          },
          "execution_count": 160
        }
      ]
    },
    {
      "cell_type": "code",
      "metadata": {
        "id": "B5RPE7ASDVDa",
        "colab_type": "code",
        "outputId": "f69088e3-29ed-4385-e737-040a5612e746",
        "colab": {
          "base_uri": "https://localhost:8080/",
          "height": 0
        }
      },
      "source": [
        "df.cache()\n",
        "\n",
        "# Spark SQL can cache tables using an in-memory columnar format by calling spark.catalog.cacheTable(\"tableName\") \n",
        "# or dataFrame.cache(). Then Spark SQL will scan only required columns and will automatically tune compression \n",
        "# to minimize memory usage and GC pressure.\n"
      ],
      "execution_count": 161,
      "outputs": [
        {
          "output_type": "execute_result",
          "data": {
            "text/plain": [
              "DataFrame[carat: double, cut: string, color: string, clarity: string, depth: double, table: double, price: int, x: double, y: double, z: double]"
            ]
          },
          "metadata": {
            "tags": []
          },
          "execution_count": 161
        }
      ]
    },
    {
      "cell_type": "code",
      "metadata": {
        "id": "rqTMKTpYDVGY",
        "colab_type": "code",
        "outputId": "754da1b6-d87e-4e59-cc41-760d4613fafb",
        "colab": {
          "base_uri": "https://localhost:8080/",
          "height": 0
        }
      },
      "source": [
        "!ls -l"
      ],
      "execution_count": 162,
      "outputs": [
        {
          "output_type": "stream",
          "text": [
            "total 232520\n",
            "-rw-r--r--  1 root root   2772143 May 20 14:58 diamonds.csv\n",
            "-rw-r--r--  1 root root   2772143 May 20 14:58 diamonds.csv.1\n",
            "drwx------  4 root root      4096 May 20 14:57 gdrive\n",
            "-rw-r--r--  1 root root        73 May 20 14:58 people.json\n",
            "drwxr-xr-x  1 root root      4096 May 13 16:29 sample_data\n",
            "drwxr-xr-x 13 1000 1000      4096 Feb  2 19:47 spark-2.4.5-bin-hadoop2.7\n",
            "-rw-r--r--  1 root root 232530699 Feb  2 20:27 spark-2.4.5-bin-hadoop2.7.tgz\n",
            "drwxr-xr-x  2 root root      4096 May 20 14:58 spark-warehouse\n"
          ],
          "name": "stdout"
        }
      ]
    },
    {
      "cell_type": "code",
      "metadata": {
        "id": "2pg4ujQbDVJa",
        "colab_type": "code",
        "colab": {}
      },
      "source": [
        ""
      ],
      "execution_count": 0,
      "outputs": []
    },
    {
      "cell_type": "code",
      "metadata": {
        "id": "u1_jGTouDVOj",
        "colab_type": "code",
        "outputId": "39009ff8-a2ed-41da-9405-2f4b4905aa7f",
        "colab": {
          "base_uri": "https://localhost:8080/",
          "height": 0
        }
      },
      "source": [
        "!wget https://github.com/apache/spark/raw/master/examples/src/main/resources/people.json\n",
        "#!wget https://github.com/tidyverse/ggplot2/raw/master/data-raw/diamonds.csv"
      ],
      "execution_count": 163,
      "outputs": [
        {
          "output_type": "stream",
          "text": [
            "--2020-05-20 14:59:01--  https://github.com/apache/spark/raw/master/examples/src/main/resources/people.json\n",
            "Resolving github.com (github.com)... 140.82.113.4\n",
            "Connecting to github.com (github.com)|140.82.113.4|:443... connected.\n",
            "HTTP request sent, awaiting response... 302 Found\n",
            "Location: https://raw.githubusercontent.com/apache/spark/master/examples/src/main/resources/people.json [following]\n",
            "--2020-05-20 14:59:01--  https://raw.githubusercontent.com/apache/spark/master/examples/src/main/resources/people.json\n",
            "Resolving raw.githubusercontent.com (raw.githubusercontent.com)... 151.101.0.133, 151.101.64.133, 151.101.128.133, ...\n",
            "Connecting to raw.githubusercontent.com (raw.githubusercontent.com)|151.101.0.133|:443... connected.\n",
            "HTTP request sent, awaiting response... 200 OK\n",
            "Length: 73 [text/plain]\n",
            "Saving to: ‘people.json.1’\n",
            "\n",
            "\rpeople.json.1         0%[                    ]       0  --.-KB/s               \rpeople.json.1       100%[===================>]      73  --.-KB/s    in 0s      \n",
            "\n",
            "2020-05-20 14:59:01 (9.76 MB/s) - ‘people.json.1’ saved [73/73]\n",
            "\n"
          ],
          "name": "stdout"
        }
      ]
    },
    {
      "cell_type": "code",
      "metadata": {
        "id": "nn8kF0UvDVMx",
        "colab_type": "code",
        "outputId": "7c6af491-1640-4e7c-92b8-a3d829281b8f",
        "colab": {
          "base_uri": "https://localhost:8080/",
          "height": 0
        }
      },
      "source": [
        "!ls -l"
      ],
      "execution_count": 164,
      "outputs": [
        {
          "output_type": "stream",
          "text": [
            "total 232524\n",
            "-rw-r--r--  1 root root   2772143 May 20 14:58 diamonds.csv\n",
            "-rw-r--r--  1 root root   2772143 May 20 14:58 diamonds.csv.1\n",
            "drwx------  4 root root      4096 May 20 14:57 gdrive\n",
            "-rw-r--r--  1 root root        73 May 20 14:58 people.json\n",
            "-rw-r--r--  1 root root        73 May 20 14:59 people.json.1\n",
            "drwxr-xr-x  1 root root      4096 May 13 16:29 sample_data\n",
            "drwxr-xr-x 13 1000 1000      4096 Feb  2 19:47 spark-2.4.5-bin-hadoop2.7\n",
            "-rw-r--r--  1 root root 232530699 Feb  2 20:27 spark-2.4.5-bin-hadoop2.7.tgz\n",
            "drwxr-xr-x  2 root root      4096 May 20 14:58 spark-warehouse\n"
          ],
          "name": "stdout"
        }
      ]
    },
    {
      "cell_type": "code",
      "metadata": {
        "id": "CkgjGi7TDVBW",
        "colab_type": "code",
        "colab": {}
      },
      "source": [
        "# creating df from json file...\n",
        "peopleDF = spark.read.json('people.json')"
      ],
      "execution_count": 0,
      "outputs": []
    },
    {
      "cell_type": "code",
      "metadata": {
        "id": "RVIUBeMHDU_R",
        "colab_type": "code",
        "outputId": "ec721b47-7ab2-4d15-9ceb-f152f4335e73",
        "colab": {
          "base_uri": "https://localhost:8080/",
          "height": 0
        }
      },
      "source": [
        "peopleDF.show()\n",
        "\n",
        "# The inferred schema can be visualized using the printSchema() method\n",
        "peopleDF.printSchema()\n",
        "# root\n",
        "#  |-- age: long (nullable = true)\n",
        "#  |-- name: string (nullable = true)\n",
        "\n",
        "# Creates a temporary view using the DataFrame\n",
        "peopleDF.createOrReplaceTempView(\"people\")\n",
        "\n",
        "# SQL statements can be run by using the sql methods provided by spark\n",
        "teenagerNamesDF = spark.sql(\"SELECT name FROM people WHERE age BETWEEN 13 AND 19\")\n",
        "teenagerNamesDF.show()\n",
        "# +------+\n",
        "# |  name|\n",
        "# +------+\n",
        "# |Justin|\n",
        "# +------+\n",
        "\n",
        "# Alternatively, a DataFrame can be created for a JSON dataset represented by\n",
        "# an RDD[String] storing one JSON object per string\n",
        "jsonStrings = ['{\"name\":\"Yin\",\"address\":{\"city\":\"Columbus\",\"state\":\"Ohio\"}}']\n",
        "otherPeopleRDD = sc.parallelize(jsonStrings)\n",
        "otherPeople = spark.read.json(otherPeopleRDD)\n",
        "otherPeople.show()\n",
        "# +---------------+----+\n",
        "# |        address|name|\n",
        "# +---------------+----+\n",
        "# |[Columbus,Ohio]| Yin|\n",
        "# +---------------+----+\n",
        "\n"
      ],
      "execution_count": 166,
      "outputs": [
        {
          "output_type": "stream",
          "text": [
            "+----+-------+\n",
            "| age|   name|\n",
            "+----+-------+\n",
            "|null|Michael|\n",
            "|  30|   Andy|\n",
            "|  19| Justin|\n",
            "+----+-------+\n",
            "\n",
            "root\n",
            " |-- age: long (nullable = true)\n",
            " |-- name: string (nullable = true)\n",
            "\n",
            "+------+\n",
            "|  name|\n",
            "+------+\n",
            "|Justin|\n",
            "+------+\n",
            "\n",
            "+----------------+----+\n",
            "|         address|name|\n",
            "+----------------+----+\n",
            "|[Columbus, Ohio]| Yin|\n",
            "+----------------+----+\n",
            "\n"
          ],
          "name": "stdout"
        }
      ]
    },
    {
      "cell_type": "markdown",
      "metadata": {
        "id": "pxfqjMORMsvB",
        "colab_type": "text"
      },
      "source": [
        "# Diamonds Exclusively Examining:"
      ]
    },
    {
      "cell_type": "code",
      "metadata": {
        "id": "goidhwHUMvqT",
        "colab_type": "code",
        "colab": {}
      },
      "source": [
        "df2 = df_pri"
      ],
      "execution_count": 0,
      "outputs": []
    },
    {
      "cell_type": "code",
      "metadata": {
        "id": "LZc3SFeVMy1M",
        "colab_type": "code",
        "outputId": "e19d5bde-8d95-4b63-a1bf-14bdb6d4ef62",
        "colab": {
          "base_uri": "https://localhost:8080/",
          "height": 53
        }
      },
      "source": [
        "df2"
      ],
      "execution_count": 168,
      "outputs": [
        {
          "output_type": "execute_result",
          "data": {
            "text/plain": [
              "DataFrame[carat: double, cut: string, color: string, clarity: string, depth: double, table: double, price: int, x: double, y: double, z: double]"
            ]
          },
          "metadata": {
            "tags": []
          },
          "execution_count": 168
        }
      ]
    },
    {
      "cell_type": "code",
      "metadata": {
        "id": "EDOFzfRyMy31",
        "colab_type": "code",
        "colab": {}
      },
      "source": [
        "df2.createOrReplaceTempView(\"diamonds_table\")\n"
      ],
      "execution_count": 0,
      "outputs": []
    },
    {
      "cell_type": "code",
      "metadata": {
        "id": "ztlzJDZBM1VA",
        "colab_type": "code",
        "colab": {}
      },
      "source": [
        "sqlDF = spark.sql(\"SELECT * FROM diamonds_table\")\n"
      ],
      "execution_count": 0,
      "outputs": []
    },
    {
      "cell_type": "code",
      "metadata": {
        "id": "3Z1MMFhOM1Xp",
        "colab_type": "code",
        "outputId": "54974578-d25a-4517-d44f-fe207b3df75a",
        "colab": {
          "base_uri": "https://localhost:8080/",
          "height": 452
        }
      },
      "source": [
        "sqlDF.show()"
      ],
      "execution_count": 171,
      "outputs": [
        {
          "output_type": "stream",
          "text": [
            "+-----+---------+-----+-------+-----+-----+-----+----+----+----+\n",
            "|carat|      cut|color|clarity|depth|table|price|   x|   y|   z|\n",
            "+-----+---------+-----+-------+-----+-----+-----+----+----+----+\n",
            "| 0.23|    Ideal|    E|    SI2| 61.5| 55.0|  326|3.95|3.98|2.43|\n",
            "| 0.21|  Premium|    E|    SI1| 59.8| 61.0|  326|3.89|3.84|2.31|\n",
            "| 0.23|     Good|    E|    VS1| 56.9| 65.0|  327|4.05|4.07|2.31|\n",
            "| 0.29|  Premium|    I|    VS2| 62.4| 58.0|  334| 4.2|4.23|2.63|\n",
            "| 0.31|     Good|    J|    SI2| 63.3| 58.0|  335|4.34|4.35|2.75|\n",
            "| 0.24|Very Good|    J|   VVS2| 62.8| 57.0|  336|3.94|3.96|2.48|\n",
            "| 0.24|Very Good|    I|   VVS1| 62.3| 57.0|  336|3.95|3.98|2.47|\n",
            "| 0.26|Very Good|    H|    SI1| 61.9| 55.0|  337|4.07|4.11|2.53|\n",
            "| 0.22|     Fair|    E|    VS2| 65.1| 61.0|  337|3.87|3.78|2.49|\n",
            "| 0.23|Very Good|    H|    VS1| 59.4| 61.0|  338| 4.0|4.05|2.39|\n",
            "|  0.3|     Good|    J|    SI1| 64.0| 55.0|  339|4.25|4.28|2.73|\n",
            "| 0.23|    Ideal|    J|    VS1| 62.8| 56.0|  340|3.93| 3.9|2.46|\n",
            "| 0.22|  Premium|    F|    SI1| 60.4| 61.0|  342|3.88|3.84|2.33|\n",
            "| 0.31|    Ideal|    J|    SI2| 62.2| 54.0|  344|4.35|4.37|2.71|\n",
            "|  0.2|  Premium|    E|    SI2| 60.2| 62.0|  345|3.79|3.75|2.27|\n",
            "| 0.32|  Premium|    E|     I1| 60.9| 58.0|  345|4.38|4.42|2.68|\n",
            "|  0.3|    Ideal|    I|    SI2| 62.0| 54.0|  348|4.31|4.34|2.68|\n",
            "|  0.3|     Good|    J|    SI1| 63.4| 54.0|  351|4.23|4.29| 2.7|\n",
            "|  0.3|     Good|    J|    SI1| 63.8| 56.0|  351|4.23|4.26|2.71|\n",
            "|  0.3|Very Good|    J|    SI1| 62.7| 59.0|  351|4.21|4.27|2.66|\n",
            "+-----+---------+-----+-------+-----+-----+-----+----+----+----+\n",
            "only showing top 20 rows\n",
            "\n"
          ],
          "name": "stdout"
        }
      ]
    },
    {
      "cell_type": "code",
      "metadata": {
        "id": "v-AXuwpnMy9E",
        "colab_type": "code",
        "outputId": "c9b834ec-6abd-40c6-d42d-55b96253b2a5",
        "colab": {
          "base_uri": "https://localhost:8080/",
          "height": 184
        }
      },
      "source": [
        "df.dtypes"
      ],
      "execution_count": 172,
      "outputs": [
        {
          "output_type": "execute_result",
          "data": {
            "text/plain": [
              "[('carat', 'double'),\n",
              " ('cut', 'string'),\n",
              " ('color', 'string'),\n",
              " ('clarity', 'string'),\n",
              " ('depth', 'double'),\n",
              " ('table', 'double'),\n",
              " ('price', 'int'),\n",
              " ('x', 'double'),\n",
              " ('y', 'double'),\n",
              " ('z', 'double')]"
            ]
          },
          "metadata": {
            "tags": []
          },
          "execution_count": 172
        }
      ]
    },
    {
      "cell_type": "code",
      "metadata": {
        "id": "RV4lYRGUMy6w",
        "colab_type": "code",
        "outputId": "97549105-face-4249-d6b7-7efaf0911637",
        "colab": {
          "base_uri": "https://localhost:8080/",
          "height": 184
        }
      },
      "source": [
        "df.schema.fields"
      ],
      "execution_count": 173,
      "outputs": [
        {
          "output_type": "execute_result",
          "data": {
            "text/plain": [
              "[StructField(carat,DoubleType,true),\n",
              " StructField(cut,StringType,true),\n",
              " StructField(color,StringType,true),\n",
              " StructField(clarity,StringType,true),\n",
              " StructField(depth,DoubleType,true),\n",
              " StructField(table,DoubleType,true),\n",
              " StructField(price,IntegerType,true),\n",
              " StructField(x,DoubleType,true),\n",
              " StructField(y,DoubleType,true),\n",
              " StructField(z,DoubleType,true)]"
            ]
          },
          "metadata": {
            "tags": []
          },
          "execution_count": 173
        }
      ]
    },
    {
      "cell_type": "code",
      "metadata": {
        "id": "ZqBOqyOURC05",
        "colab_type": "code",
        "outputId": "ae0976c3-2e20-4d87-d37b-9bfd1de358c7",
        "colab": {
          "base_uri": "https://localhost:8080/",
          "height": 204
        }
      },
      "source": [
        "df2.describe().show()"
      ],
      "execution_count": 174,
      "outputs": [
        {
          "output_type": "stream",
          "text": [
            "+-------+------------------+---------+-----+-------+------------------+------------------+-----------------+------------------+------------------+------------------+\n",
            "|summary|             carat|      cut|color|clarity|             depth|             table|            price|                 x|                 y|                 z|\n",
            "+-------+------------------+---------+-----+-------+------------------+------------------+-----------------+------------------+------------------+------------------+\n",
            "|  count|             53940|    53940|53940|  53940|             53940|             53940|            53940|             53940|             53940|             53940|\n",
            "|   mean|0.7979397478679852|     null| null|   null| 61.74940489432624| 57.45718390804603|3932.799721913237| 5.731157211716609| 5.734525954764462|3.5387337782723316|\n",
            "| stddev|0.4740112444054196|     null| null|   null|1.4326213188336525|2.2344905628213247|3989.439738146397|1.1217607467924915|1.1421346741235616|0.7056988469499883|\n",
            "|    min|               0.2|     Fair|    D|     I1|              43.0|              43.0|              326|               0.0|               0.0|               0.0|\n",
            "|    max|              5.01|Very Good|    J|   VVS2|              79.0|              95.0|            18823|             10.74|              58.9|              31.8|\n",
            "+-------+------------------+---------+-----+-------+------------------+------------------+-----------------+------------------+------------------+------------------+\n",
            "\n"
          ],
          "name": "stdout"
        }
      ]
    },
    {
      "cell_type": "code",
      "metadata": {
        "id": "RA2BQ4naRC33",
        "colab_type": "code",
        "outputId": "07bba3b2-de72-4f44-fc04-c3a8fa023f1c",
        "colab": {
          "base_uri": "https://localhost:8080/",
          "height": 33
        }
      },
      "source": [
        "df2.columns"
      ],
      "execution_count": 175,
      "outputs": [
        {
          "output_type": "execute_result",
          "data": {
            "text/plain": [
              "['carat', 'cut', 'color', 'clarity', 'depth', 'table', 'price', 'x', 'y', 'z']"
            ]
          },
          "metadata": {
            "tags": []
          },
          "execution_count": 175
        }
      ]
    },
    {
      "cell_type": "code",
      "metadata": {
        "id": "tjvw3MgcRC69",
        "colab_type": "code",
        "outputId": "1c9a37cb-2aa7-41ea-dbd2-027dde815caa",
        "colab": {
          "base_uri": "https://localhost:8080/",
          "height": 33
        }
      },
      "source": [
        "df2.count()"
      ],
      "execution_count": 176,
      "outputs": [
        {
          "output_type": "execute_result",
          "data": {
            "text/plain": [
              "53940"
            ]
          },
          "metadata": {
            "tags": []
          },
          "execution_count": 176
        }
      ]
    },
    {
      "cell_type": "code",
      "metadata": {
        "id": "tpyMKcViRKPS",
        "colab_type": "code",
        "outputId": "6d012e31-bb12-4764-da1b-7b1b79bd7ffd",
        "colab": {
          "base_uri": "https://localhost:8080/",
          "height": 104
        }
      },
      "source": [
        "df2.explain()"
      ],
      "execution_count": 177,
      "outputs": [
        {
          "output_type": "stream",
          "text": [
            "== Physical Plan ==\n",
            "InMemoryTableScan [carat#2015, cut#2016, color#2017, clarity#2018, depth#2019, table#2020, price#2021, x#2022, y#2023, z#2024]\n",
            "   +- InMemoryRelation [carat#2015, cut#2016, color#2017, clarity#2018, depth#2019, table#2020, price#2021, x#2022, y#2023, z#2024], StorageLevel(disk, memory, deserialized, 1 replicas)\n",
            "         +- *(1) FileScan csv [carat#10,cut#11,color#12,clarity#13,depth#14,table#15,price#16,x#17,y#18,z#19] Batched: false, Format: CSV, Location: InMemoryFileIndex[file:/content/diamonds.csv], PartitionFilters: [], PushedFilters: [], ReadSchema: struct<carat:double,cut:string,color:string,clarity:string,depth:double,table:double,price:int,x:...\n"
          ],
          "name": "stdout"
        }
      ]
    },
    {
      "cell_type": "code",
      "metadata": {
        "id": "J5nD4G6bRKSX",
        "colab_type": "code",
        "outputId": "9a6500f1-3e27-4809-a4f1-1550acb114dc",
        "colab": {
          "base_uri": "https://localhost:8080/",
          "height": 217
        }
      },
      "source": [
        "df2.printSchema()"
      ],
      "execution_count": 178,
      "outputs": [
        {
          "output_type": "stream",
          "text": [
            "root\n",
            " |-- carat: double (nullable = true)\n",
            " |-- cut: string (nullable = true)\n",
            " |-- color: string (nullable = true)\n",
            " |-- clarity: string (nullable = true)\n",
            " |-- depth: double (nullable = true)\n",
            " |-- table: double (nullable = true)\n",
            " |-- price: integer (nullable = true)\n",
            " |-- x: double (nullable = true)\n",
            " |-- y: double (nullable = true)\n",
            " |-- z: double (nullable = true)\n",
            "\n"
          ],
          "name": "stdout"
        }
      ]
    },
    {
      "cell_type": "code",
      "metadata": {
        "id": "Eh1796aDROYl",
        "colab_type": "code",
        "colab": {}
      },
      "source": [
        "# convert the df to a RDD ! \n",
        "\n",
        "rdd = df2.rdd"
      ],
      "execution_count": 0,
      "outputs": []
    },
    {
      "cell_type": "code",
      "metadata": {
        "id": "AdDibJXeRObS",
        "colab_type": "code",
        "outputId": "6de795d9-c206-4cce-b8b8-ea9a007327b3",
        "colab": {
          "base_uri": "https://localhost:8080/",
          "height": 33
        }
      },
      "source": [
        "rdd"
      ],
      "execution_count": 180,
      "outputs": [
        {
          "output_type": "execute_result",
          "data": {
            "text/plain": [
              "MapPartitionsRDD[343] at javaToPython at NativeMethodAccessorImpl.java:0"
            ]
          },
          "metadata": {
            "tags": []
          },
          "execution_count": 180
        }
      ]
    },
    {
      "cell_type": "code",
      "metadata": {
        "id": "exYf5S1LROeI",
        "colab_type": "code",
        "outputId": "05c2eb91-2f66-4c08-a3f4-b3362db16770",
        "colab": {
          "base_uri": "https://localhost:8080/",
          "height": 33
        }
      },
      "source": [
        "# convert the spark dataframe to a pandas dataframe:\n",
        "\n",
        "pandas_df = df2.toPandas()\n",
        "\n",
        "print(type(pandas_df))"
      ],
      "execution_count": 181,
      "outputs": [
        {
          "output_type": "stream",
          "text": [
            "<class 'pandas.core.frame.DataFrame'>\n"
          ],
          "name": "stdout"
        }
      ]
    },
    {
      "cell_type": "code",
      "metadata": {
        "id": "46DvEKTjRyTs",
        "colab_type": "code",
        "outputId": "93d27a72-9f3d-4af5-f511-92b15c1a7bd2",
        "colab": {
          "base_uri": "https://localhost:8080/",
          "height": 33
        }
      },
      "source": [
        "type(df2)"
      ],
      "execution_count": 182,
      "outputs": [
        {
          "output_type": "execute_result",
          "data": {
            "text/plain": [
              "pyspark.sql.dataframe.DataFrame"
            ]
          },
          "metadata": {
            "tags": []
          },
          "execution_count": 182
        }
      ]
    },
    {
      "cell_type": "code",
      "metadata": {
        "id": "JAuGpYaAR9b6",
        "colab_type": "code",
        "colab": {}
      },
      "source": [
        "# update col:  >>> df = df.withColumnRenamed('telePhoneNumber', 'phoneNumber')"
      ],
      "execution_count": 0,
      "outputs": []
    },
    {
      "cell_type": "code",
      "metadata": {
        "id": "PHzU3HEtR9gg",
        "colab_type": "code",
        "outputId": "f447efcf-6e21-43e5-fe11-9295cae4a6cf",
        "colab": {
          "base_uri": "https://localhost:8080/",
          "height": 234
        }
      },
      "source": [
        "# df2.columns\n",
        "\n",
        "df2.select('cut').show(7)"
      ],
      "execution_count": 184,
      "outputs": [
        {
          "output_type": "stream",
          "text": [
            "+---------+\n",
            "|      cut|\n",
            "+---------+\n",
            "|    Ideal|\n",
            "|  Premium|\n",
            "|     Good|\n",
            "|  Premium|\n",
            "|     Good|\n",
            "|Very Good|\n",
            "|Very Good|\n",
            "+---------+\n",
            "only showing top 7 rows\n",
            "\n"
          ],
          "name": "stdout"
        }
      ]
    },
    {
      "cell_type": "code",
      "metadata": {
        "id": "Sg-Ptn6_Sqon",
        "colab_type": "code",
        "outputId": "9d78a737-ce7f-490b-c5f7-85479948b808",
        "colab": {
          "base_uri": "https://localhost:8080/",
          "height": 452
        }
      },
      "source": [
        "df2.show()\n"
      ],
      "execution_count": 185,
      "outputs": [
        {
          "output_type": "stream",
          "text": [
            "+-----+---------+-----+-------+-----+-----+-----+----+----+----+\n",
            "|carat|      cut|color|clarity|depth|table|price|   x|   y|   z|\n",
            "+-----+---------+-----+-------+-----+-----+-----+----+----+----+\n",
            "| 0.23|    Ideal|    E|    SI2| 61.5| 55.0|  326|3.95|3.98|2.43|\n",
            "| 0.21|  Premium|    E|    SI1| 59.8| 61.0|  326|3.89|3.84|2.31|\n",
            "| 0.23|     Good|    E|    VS1| 56.9| 65.0|  327|4.05|4.07|2.31|\n",
            "| 0.29|  Premium|    I|    VS2| 62.4| 58.0|  334| 4.2|4.23|2.63|\n",
            "| 0.31|     Good|    J|    SI2| 63.3| 58.0|  335|4.34|4.35|2.75|\n",
            "| 0.24|Very Good|    J|   VVS2| 62.8| 57.0|  336|3.94|3.96|2.48|\n",
            "| 0.24|Very Good|    I|   VVS1| 62.3| 57.0|  336|3.95|3.98|2.47|\n",
            "| 0.26|Very Good|    H|    SI1| 61.9| 55.0|  337|4.07|4.11|2.53|\n",
            "| 0.22|     Fair|    E|    VS2| 65.1| 61.0|  337|3.87|3.78|2.49|\n",
            "| 0.23|Very Good|    H|    VS1| 59.4| 61.0|  338| 4.0|4.05|2.39|\n",
            "|  0.3|     Good|    J|    SI1| 64.0| 55.0|  339|4.25|4.28|2.73|\n",
            "| 0.23|    Ideal|    J|    VS1| 62.8| 56.0|  340|3.93| 3.9|2.46|\n",
            "| 0.22|  Premium|    F|    SI1| 60.4| 61.0|  342|3.88|3.84|2.33|\n",
            "| 0.31|    Ideal|    J|    SI2| 62.2| 54.0|  344|4.35|4.37|2.71|\n",
            "|  0.2|  Premium|    E|    SI2| 60.2| 62.0|  345|3.79|3.75|2.27|\n",
            "| 0.32|  Premium|    E|     I1| 60.9| 58.0|  345|4.38|4.42|2.68|\n",
            "|  0.3|    Ideal|    I|    SI2| 62.0| 54.0|  348|4.31|4.34|2.68|\n",
            "|  0.3|     Good|    J|    SI1| 63.4| 54.0|  351|4.23|4.29| 2.7|\n",
            "|  0.3|     Good|    J|    SI1| 63.8| 56.0|  351|4.23|4.26|2.71|\n",
            "|  0.3|Very Good|    J|    SI1| 62.7| 59.0|  351|4.21|4.27|2.66|\n",
            "+-----+---------+-----+-------+-----+-----+-----+----+----+----+\n",
            "only showing top 20 rows\n",
            "\n"
          ],
          "name": "stdout"
        }
      ]
    },
    {
      "cell_type": "code",
      "metadata": {
        "id": "WQMR93KKSqrh",
        "colab_type": "code",
        "outputId": "a38c86e7-6317-4a79-df91-69e51cf595e3",
        "colab": {
          "base_uri": "https://localhost:8080/",
          "height": 150
        }
      },
      "source": [
        "df2.filter(df2.depth < 50).show()"
      ],
      "execution_count": 186,
      "outputs": [
        {
          "output_type": "stream",
          "text": [
            "+-----+-----+-----+-------+-----+-----+-----+----+----+----+\n",
            "|carat|  cut|color|clarity|depth|table|price|   x|   y|   z|\n",
            "+-----+-----+-----+-------+-----+-----+-----+----+----+----+\n",
            "|  1.0| Fair|    G|    SI1| 43.0| 59.0| 3634|6.32|6.27|3.97|\n",
            "|  1.0| Fair|    G|    VS2| 44.0| 53.0| 4032|6.31|6.24|4.12|\n",
            "| 1.09|Ideal|    J|    VS2| 43.0| 54.0| 4778|6.53|6.55|4.12|\n",
            "+-----+-----+-----+-------+-----+-----+-----+----+----+----+\n",
            "\n"
          ],
          "name": "stdout"
        }
      ]
    },
    {
      "cell_type": "code",
      "metadata": {
        "id": "Ddr-Qo0CSxZZ",
        "colab_type": "code",
        "outputId": "80baa3ab-90b4-4614-a3f5-a3842462c053",
        "colab": {
          "base_uri": "https://localhost:8080/",
          "height": 184
        }
      },
      "source": [
        "# group by cut and tell me how many diamonds there are by cut....\n",
        "\n",
        "df2.groupBy('cut').count().show()"
      ],
      "execution_count": 187,
      "outputs": [
        {
          "output_type": "stream",
          "text": [
            "+---------+-----+\n",
            "|      cut|count|\n",
            "+---------+-----+\n",
            "|  Premium|13791|\n",
            "|    Ideal|21551|\n",
            "|     Good| 4906|\n",
            "|     Fair| 1610|\n",
            "|Very Good|12082|\n",
            "+---------+-----+\n",
            "\n"
          ],
          "name": "stdout"
        }
      ]
    },
    {
      "cell_type": "code",
      "metadata": {
        "id": "ZEUIjfVySxcR",
        "colab_type": "code",
        "outputId": "ef93e08b-0adc-4387-df1f-434df0344a4f",
        "colab": {
          "base_uri": "https://localhost:8080/",
          "height": 184
        }
      },
      "source": [
        "df2.groupBy('cut').count().orderBy('cut').show()"
      ],
      "execution_count": 188,
      "outputs": [
        {
          "output_type": "stream",
          "text": [
            "+---------+-----+\n",
            "|      cut|count|\n",
            "+---------+-----+\n",
            "|     Fair| 1610|\n",
            "|     Good| 4906|\n",
            "|    Ideal|21551|\n",
            "|  Premium|13791|\n",
            "|Very Good|12082|\n",
            "+---------+-----+\n",
            "\n"
          ],
          "name": "stdout"
        }
      ]
    },
    {
      "cell_type": "code",
      "metadata": {
        "id": "-T0uGnOpUA--",
        "colab_type": "code",
        "outputId": "c616dbad-1996-4ea7-fdcd-8c14c589767f",
        "colab": {
          "base_uri": "https://localhost:8080/",
          "height": 184
        }
      },
      "source": [
        "df2.groupBy('cut').count().orderBy(df2.cut.desc()).show()  # descending..."
      ],
      "execution_count": 189,
      "outputs": [
        {
          "output_type": "stream",
          "text": [
            "+---------+-----+\n",
            "|      cut|count|\n",
            "+---------+-----+\n",
            "|Very Good|12082|\n",
            "|  Premium|13791|\n",
            "|    Ideal|21551|\n",
            "|     Good| 4906|\n",
            "|     Fair| 1610|\n",
            "+---------+-----+\n",
            "\n"
          ],
          "name": "stdout"
        }
      ]
    },
    {
      "cell_type": "code",
      "metadata": {
        "id": "JfsbOLOHSxfP",
        "colab_type": "code",
        "outputId": "d5321653-d534-487c-eee9-6aa2cf7dfa30",
        "colab": {
          "base_uri": "https://localhost:8080/",
          "height": 452
        }
      },
      "source": [
        "help(df2.orderBy)   # you dont need the () method portion..."
      ],
      "execution_count": 190,
      "outputs": [
        {
          "output_type": "stream",
          "text": [
            "Help on method sort in module pyspark.sql.dataframe:\n",
            "\n",
            "sort(*cols, **kwargs) method of pyspark.sql.dataframe.DataFrame instance\n",
            "    Returns a new :class:`DataFrame` sorted by the specified column(s).\n",
            "    \n",
            "    :param cols: list of :class:`Column` or column names to sort by.\n",
            "    :param ascending: boolean or list of boolean (default ``True``).\n",
            "        Sort ascending vs. descending. Specify list for multiple sort orders.\n",
            "        If a list is specified, length of the list must equal length of the `cols`.\n",
            "    \n",
            "    >>> df.sort(df.age.desc()).collect()\n",
            "    [Row(age=5, name='Bob'), Row(age=2, name='Alice')]\n",
            "    >>> df.sort(\"age\", ascending=False).collect()\n",
            "    [Row(age=5, name='Bob'), Row(age=2, name='Alice')]\n",
            "    >>> df.orderBy(df.age.desc()).collect()\n",
            "    [Row(age=5, name='Bob'), Row(age=2, name='Alice')]\n",
            "    >>> from pyspark.sql.functions import *\n",
            "    >>> df.sort(asc(\"age\")).collect()\n",
            "    [Row(age=2, name='Alice'), Row(age=5, name='Bob')]\n",
            "    >>> df.orderBy(desc(\"age\"), \"name\").collect()\n",
            "    [Row(age=5, name='Bob'), Row(age=2, name='Alice')]\n",
            "    >>> df.orderBy([\"age\", \"name\"], ascending=[0, 1]).collect()\n",
            "    [Row(age=5, name='Bob'), Row(age=2, name='Alice')]\n",
            "    \n",
            "    .. versionadded:: 1.3\n",
            "\n"
          ],
          "name": "stdout"
        }
      ]
    },
    {
      "cell_type": "code",
      "metadata": {
        "id": "PWXIdp9wSxj0",
        "colab_type": "code",
        "outputId": "24003351-1c95-44e0-945c-6a3835e8eb38",
        "colab": {
          "base_uri": "https://localhost:8080/",
          "height": 769
        }
      },
      "source": [
        "df2.select('cut', 'clarity').dropDuplicates().show(100)   # all the combinations..."
      ],
      "execution_count": 191,
      "outputs": [
        {
          "output_type": "stream",
          "text": [
            "+---------+-------+\n",
            "|      cut|clarity|\n",
            "+---------+-------+\n",
            "|  Premium|    VS2|\n",
            "|  Premium|     I1|\n",
            "|Very Good|   VVS2|\n",
            "|    Ideal|    VS1|\n",
            "|Very Good|    VS2|\n",
            "|    Ideal|     I1|\n",
            "|    Ideal|   VVS2|\n",
            "|     Good|    VS1|\n",
            "|Very Good|     I1|\n",
            "|  Premium|    SI1|\n",
            "|     Fair|     IF|\n",
            "|  Premium|    VS1|\n",
            "|     Fair|    VS1|\n",
            "|Very Good|    SI1|\n",
            "|     Good|   VVS2|\n",
            "|     Good|    VS2|\n",
            "|     Fair|    VS2|\n",
            "|  Premium|   VVS2|\n",
            "|     Fair|     I1|\n",
            "|     Fair|    SI1|\n",
            "|Very Good|    VS1|\n",
            "|  Premium|     IF|\n",
            "|     Fair|    SI2|\n",
            "|    Ideal|    SI2|\n",
            "|Very Good|   VVS1|\n",
            "|    Ideal|     IF|\n",
            "|     Good|     IF|\n",
            "|     Good|    SI2|\n",
            "|     Fair|   VVS2|\n",
            "|     Good|     I1|\n",
            "|     Good|   VVS1|\n",
            "|    Ideal|    VS2|\n",
            "|  Premium|    SI2|\n",
            "|     Fair|   VVS1|\n",
            "|     Good|    SI1|\n",
            "|  Premium|   VVS1|\n",
            "|    Ideal|   VVS1|\n",
            "|Very Good|    SI2|\n",
            "|    Ideal|    SI1|\n",
            "|Very Good|     IF|\n",
            "+---------+-------+\n",
            "\n"
          ],
          "name": "stdout"
        }
      ]
    },
    {
      "cell_type": "code",
      "metadata": {
        "id": "4_fvKMFDUYAG",
        "colab_type": "code",
        "colab": {}
      },
      "source": [
        "#test_df_sex = test_df.withColumnRenamed('Gender', 'Sex')"
      ],
      "execution_count": 0,
      "outputs": []
    },
    {
      "cell_type": "markdown",
      "metadata": {
        "id": "iLr5gx7tMPYM",
        "colab_type": "text"
      },
      "source": [
        ""
      ]
    },
    {
      "cell_type": "markdown",
      "metadata": {
        "id": "1JIzmMZily4Y",
        "colab_type": "text"
      },
      "source": [
        "# Background"
      ]
    },
    {
      "cell_type": "code",
      "metadata": {
        "id": "dyo5PNf8l0DX",
        "colab_type": "code",
        "colab": {}
      },
      "source": [
        "# # Download datasets directly to your Google Drive \"Colab Datasets\" folder\n",
        "\n",
        "# import requests\n",
        "\n",
        "# # 2007 data\n",
        "\n",
        "# file_url = \"http://stat-computing.org/dataexpo/2009/2007.csv.bz2\"\n",
        "\n",
        "# r = requests.get(file_url, stream = True) \n",
        "\n",
        "# with open(\"/content/gdrive/My Drive/Colab Datasets/2007.csv.bz2\", \"wb\") as file: \n",
        "# \tfor block in r.iter_content(chunk_size = 1024): \n",
        "# \t\tif block: \n",
        "# \t\t\tfile.write(block)\n",
        "\n",
        "# # 2008 data\n",
        "\n",
        "# file_url = \"http://stat-computing.org/dataexpo/2009/2008.csv.bz2\"\n",
        "\n",
        "# r = requests.get(file_url, stream = True) \n",
        "\n",
        "# with open(\"/content/gdrive/My Drive/Colab Datasets/2008.csv.bz2\", \"wb\") as file: \n",
        "# \tfor block in r.iter_content(chunk_size = 1024): \n",
        "# \t\tif block: \n",
        "# \t\t\tfile.write(block)"
      ],
      "execution_count": 0,
      "outputs": []
    },
    {
      "cell_type": "code",
      "metadata": {
        "id": "xlzao-wdl7H4",
        "colab_type": "code",
        "colab": {}
      },
      "source": [
        "# from pyspark import SparkContext\n",
        "# from pyspark.sql import SparkSession\n",
        "# from pyspark.ml import Pipeline\n",
        "# from pyspark.ml.classification import RandomForestClassifier\n",
        "# from pyspark.ml.feature import IndexToString, StringIndexer, VectorIndexer, VectorAssembler\n",
        "# from pyspark.ml.evaluation import MulticlassClassificationEvaluator\n",
        "\n",
        "# from pyspark.sql.functions import isnan, when, count, col"
      ],
      "execution_count": 0,
      "outputs": []
    },
    {
      "cell_type": "code",
      "metadata": {
        "id": "WHhRg0b9mA8o",
        "colab_type": "code",
        "outputId": "876670c9-9f09-479e-ad04-307bf64930bb",
        "colab": {
          "base_uri": "https://localhost:8080/",
          "height": 33
        }
      },
      "source": [
        "print(type(df_pri))"
      ],
      "execution_count": 195,
      "outputs": [
        {
          "output_type": "stream",
          "text": [
            "<class 'pyspark.sql.dataframe.DataFrame'>\n"
          ],
          "name": "stdout"
        }
      ]
    },
    {
      "cell_type": "code",
      "metadata": {
        "id": "raK-4mmumGVn",
        "colab_type": "code",
        "colab": {}
      },
      "source": [
        "#  see, this is not a pandas df, it is a SPARK df..."
      ],
      "execution_count": 0,
      "outputs": []
    },
    {
      "cell_type": "code",
      "metadata": {
        "id": "p96P3x5JmKho",
        "colab_type": "code",
        "colab": {}
      },
      "source": [
        "df = df_pri"
      ],
      "execution_count": 0,
      "outputs": []
    },
    {
      "cell_type": "code",
      "metadata": {
        "id": "uVKNEVROmR9w",
        "colab_type": "code",
        "outputId": "9ab8e8c9-b8c8-4d23-b3ad-a100087c9014",
        "colab": {
          "base_uri": "https://localhost:8080/",
          "height": 53
        }
      },
      "source": [
        "df"
      ],
      "execution_count": 198,
      "outputs": [
        {
          "output_type": "execute_result",
          "data": {
            "text/plain": [
              "DataFrame[carat: double, cut: string, color: string, clarity: string, depth: double, table: double, price: int, x: double, y: double, z: double]"
            ]
          },
          "metadata": {
            "tags": []
          },
          "execution_count": 198
        }
      ]
    },
    {
      "cell_type": "code",
      "metadata": {
        "id": "8nV_E_EamT5H",
        "colab_type": "code",
        "outputId": "9bea2ef1-8bcd-4c05-80d4-d0ad601d6c33",
        "colab": {
          "base_uri": "https://localhost:8080/",
          "height": 452
        }
      },
      "source": [
        "df.show()"
      ],
      "execution_count": 199,
      "outputs": [
        {
          "output_type": "stream",
          "text": [
            "+-----+---------+-----+-------+-----+-----+-----+----+----+----+\n",
            "|carat|      cut|color|clarity|depth|table|price|   x|   y|   z|\n",
            "+-----+---------+-----+-------+-----+-----+-----+----+----+----+\n",
            "| 0.23|    Ideal|    E|    SI2| 61.5| 55.0|  326|3.95|3.98|2.43|\n",
            "| 0.21|  Premium|    E|    SI1| 59.8| 61.0|  326|3.89|3.84|2.31|\n",
            "| 0.23|     Good|    E|    VS1| 56.9| 65.0|  327|4.05|4.07|2.31|\n",
            "| 0.29|  Premium|    I|    VS2| 62.4| 58.0|  334| 4.2|4.23|2.63|\n",
            "| 0.31|     Good|    J|    SI2| 63.3| 58.0|  335|4.34|4.35|2.75|\n",
            "| 0.24|Very Good|    J|   VVS2| 62.8| 57.0|  336|3.94|3.96|2.48|\n",
            "| 0.24|Very Good|    I|   VVS1| 62.3| 57.0|  336|3.95|3.98|2.47|\n",
            "| 0.26|Very Good|    H|    SI1| 61.9| 55.0|  337|4.07|4.11|2.53|\n",
            "| 0.22|     Fair|    E|    VS2| 65.1| 61.0|  337|3.87|3.78|2.49|\n",
            "| 0.23|Very Good|    H|    VS1| 59.4| 61.0|  338| 4.0|4.05|2.39|\n",
            "|  0.3|     Good|    J|    SI1| 64.0| 55.0|  339|4.25|4.28|2.73|\n",
            "| 0.23|    Ideal|    J|    VS1| 62.8| 56.0|  340|3.93| 3.9|2.46|\n",
            "| 0.22|  Premium|    F|    SI1| 60.4| 61.0|  342|3.88|3.84|2.33|\n",
            "| 0.31|    Ideal|    J|    SI2| 62.2| 54.0|  344|4.35|4.37|2.71|\n",
            "|  0.2|  Premium|    E|    SI2| 60.2| 62.0|  345|3.79|3.75|2.27|\n",
            "| 0.32|  Premium|    E|     I1| 60.9| 58.0|  345|4.38|4.42|2.68|\n",
            "|  0.3|    Ideal|    I|    SI2| 62.0| 54.0|  348|4.31|4.34|2.68|\n",
            "|  0.3|     Good|    J|    SI1| 63.4| 54.0|  351|4.23|4.29| 2.7|\n",
            "|  0.3|     Good|    J|    SI1| 63.8| 56.0|  351|4.23|4.26|2.71|\n",
            "|  0.3|Very Good|    J|    SI1| 62.7| 59.0|  351|4.21|4.27|2.66|\n",
            "+-----+---------+-----+-------+-----+-----+-----+----+----+----+\n",
            "only showing top 20 rows\n",
            "\n"
          ],
          "name": "stdout"
        }
      ]
    },
    {
      "cell_type": "code",
      "metadata": {
        "id": "jUY1OvXymVDI",
        "colab_type": "code",
        "outputId": "fec44ee7-2c95-4423-a48d-9c8235020fac",
        "colab": {
          "base_uri": "https://localhost:8080/",
          "height": 33
        }
      },
      "source": [
        "print(f\"The shape is {df.count():d} rows by {len(df.columns):d} columns.\")"
      ],
      "execution_count": 200,
      "outputs": [
        {
          "output_type": "stream",
          "text": [
            "The shape is 53940 rows by 10 columns.\n"
          ],
          "name": "stdout"
        }
      ]
    },
    {
      "cell_type": "code",
      "metadata": {
        "id": "WKdLZHT9mWvn",
        "colab_type": "code",
        "outputId": "ba1e10db-9c19-4675-9994-96de0848b81d",
        "colab": {
          "base_uri": "https://localhost:8080/",
          "height": 33
        }
      },
      "source": [
        "df.columns"
      ],
      "execution_count": 201,
      "outputs": [
        {
          "output_type": "execute_result",
          "data": {
            "text/plain": [
              "['carat', 'cut', 'color', 'clarity', 'depth', 'table', 'price', 'x', 'y', 'z']"
            ]
          },
          "metadata": {
            "tags": []
          },
          "execution_count": 201
        }
      ]
    },
    {
      "cell_type": "code",
      "metadata": {
        "id": "laooSvtzmYeg",
        "colab_type": "code",
        "colab": {}
      },
      "source": [
        "# null_counts = df.select([count(when(isnan(c) | col(c).isNull(), c)).alias(c)for c in df.columns]).toPandas().to_dict(orient='records')\n",
        "# print(f\"We have {sum(null_counts[0].values()):d} null values in this dataset.\")"
      ],
      "execution_count": 0,
      "outputs": []
    },
    {
      "cell_type": "code",
      "metadata": {
        "id": "kFJRyhX5mpa-",
        "colab_type": "code",
        "outputId": "6853836d-d47c-4868-cc09-1749e3241049",
        "colab": {
          "base_uri": "https://localhost:8080/",
          "height": 33
        }
      },
      "source": [
        "df.select('cut').distinct().rdd.map(lambda r: r[0]).collect()"
      ],
      "execution_count": 203,
      "outputs": [
        {
          "output_type": "execute_result",
          "data": {
            "text/plain": [
              "['Premium', 'Ideal', 'Good', 'Fair', 'Very Good']"
            ]
          },
          "metadata": {
            "tags": []
          },
          "execution_count": 203
        }
      ]
    },
    {
      "cell_type": "code",
      "metadata": {
        "id": "tPmSXwzDmykg",
        "colab_type": "code",
        "outputId": "d8a9c426-9363-4502-a9c9-943d650ace16",
        "colab": {
          "base_uri": "https://localhost:8080/",
          "height": 100
        }
      },
      "source": [
        "df.select('cut').distinct().rdd.collect()"
      ],
      "execution_count": 204,
      "outputs": [
        {
          "output_type": "execute_result",
          "data": {
            "text/plain": [
              "[Row(cut='Premium'),\n",
              " Row(cut='Ideal'),\n",
              " Row(cut='Good'),\n",
              " Row(cut='Fair'),\n",
              " Row(cut='Very Good')]"
            ]
          },
          "metadata": {
            "tags": []
          },
          "execution_count": 204
        }
      ]
    },
    {
      "cell_type": "code",
      "metadata": {
        "id": "T7T5Up2lm81O",
        "colab_type": "code",
        "outputId": "ec2a8baf-6f34-4bdc-cf43-16f63535c80b",
        "colab": {
          "base_uri": "https://localhost:8080/",
          "height": 452
        }
      },
      "source": [
        "df.select('carat').show()"
      ],
      "execution_count": 205,
      "outputs": [
        {
          "output_type": "stream",
          "text": [
            "+-----+\n",
            "|carat|\n",
            "+-----+\n",
            "| 0.23|\n",
            "| 0.21|\n",
            "| 0.23|\n",
            "| 0.29|\n",
            "| 0.31|\n",
            "| 0.24|\n",
            "| 0.24|\n",
            "| 0.26|\n",
            "| 0.22|\n",
            "| 0.23|\n",
            "|  0.3|\n",
            "| 0.23|\n",
            "| 0.22|\n",
            "| 0.31|\n",
            "|  0.2|\n",
            "| 0.32|\n",
            "|  0.3|\n",
            "|  0.3|\n",
            "|  0.3|\n",
            "|  0.3|\n",
            "+-----+\n",
            "only showing top 20 rows\n",
            "\n"
          ],
          "name": "stdout"
        }
      ]
    },
    {
      "cell_type": "markdown",
      "metadata": {
        "id": "7I0GT7cB0n5S",
        "colab_type": "text"
      },
      "source": [
        "# Now we can officially get started with running examples etc "
      ]
    },
    {
      "cell_type": "code",
      "metadata": {
        "id": "rCuNudtf0qRH",
        "colab_type": "code",
        "colab": {}
      },
      "source": [
        "textFile = spark.read.text(\"/content/spark-2.4.5-bin-hadoop2.7/README.md\")"
      ],
      "execution_count": 0,
      "outputs": []
    },
    {
      "cell_type": "code",
      "metadata": {
        "id": "qrtL5gdiW576",
        "colab_type": "code",
        "outputId": "eb630644-4463-4855-eda3-b1afd8815022",
        "colab": {
          "base_uri": "https://localhost:8080/",
          "height": 201
        }
      },
      "source": [
        "!ls -l /content/spark-2.4.5-bin-hadoop2.7/examples/src/main/resources\n",
        "\n",
        "\n",
        "\n",
        "\n",
        "\n",
        "\n",
        "#  G  O  L  D  \n",
        "\n",
        "\n",
        "\n",
        "\n"
      ],
      "execution_count": 207,
      "outputs": [
        {
          "output_type": "stream",
          "text": [
            "total 44\n",
            "-rw-r--r-- 1 1000 1000  130 Feb  2 19:47 employees.json\n",
            "-rw-r--r-- 1 1000 1000  240 Feb  2 19:47 full_user.avsc\n",
            "-rw-r--r-- 1 1000 1000 5812 Feb  2 19:47 kv1.txt\n",
            "-rw-r--r-- 1 1000 1000   49 Feb  2 19:47 people.csv\n",
            "-rw-r--r-- 1 1000 1000   73 Feb  2 19:47 people.json\n",
            "-rw-r--r-- 1 1000 1000   32 Feb  2 19:47 people.txt\n",
            "-rw-r--r-- 1 1000 1000  185 Feb  2 19:47 user.avsc\n",
            "-rw-r--r-- 1 1000 1000  334 Feb  2 19:47 users.avro\n",
            "-rw-r--r-- 1 1000 1000  547 Feb  2 19:47 users.orc\n",
            "-rw-r--r-- 1 1000 1000  615 Feb  2 19:47 users.parquet\n"
          ],
          "name": "stdout"
        }
      ]
    },
    {
      "cell_type": "code",
      "metadata": {
        "id": "EQDbgYmB1Gw_",
        "colab_type": "code",
        "outputId": "4eedeffa-9ad4-424e-d24d-1b64312c9aa2",
        "colab": {
          "base_uri": "https://localhost:8080/",
          "height": 33
        }
      },
      "source": [
        "textFile"
      ],
      "execution_count": 208,
      "outputs": [
        {
          "output_type": "execute_result",
          "data": {
            "text/plain": [
              "DataFrame[value: string]"
            ]
          },
          "metadata": {
            "tags": []
          },
          "execution_count": 208
        }
      ]
    },
    {
      "cell_type": "code",
      "metadata": {
        "id": "Al3MTPxs1Ht2",
        "colab_type": "code",
        "outputId": "7852da79-79d8-48fe-9aa1-d8b1654a6895",
        "colab": {
          "base_uri": "https://localhost:8080/",
          "height": 33
        }
      },
      "source": [
        "textFile.count()"
      ],
      "execution_count": 209,
      "outputs": [
        {
          "output_type": "execute_result",
          "data": {
            "text/plain": [
              "104"
            ]
          },
          "metadata": {
            "tags": []
          },
          "execution_count": 209
        }
      ]
    },
    {
      "cell_type": "code",
      "metadata": {
        "id": "AEq_BHwy1UJ2",
        "colab_type": "code",
        "outputId": "cdf113ac-f1f4-49b9-8f76-b20df7c15993",
        "colab": {
          "base_uri": "https://localhost:8080/",
          "height": 33
        }
      },
      "source": [
        "textFile.first()"
      ],
      "execution_count": 210,
      "outputs": [
        {
          "output_type": "execute_result",
          "data": {
            "text/plain": [
              "Row(value='# Apache Spark')"
            ]
          },
          "metadata": {
            "tags": []
          },
          "execution_count": 210
        }
      ]
    },
    {
      "cell_type": "code",
      "metadata": {
        "id": "bLmngyCg1fqe",
        "colab_type": "code",
        "outputId": "d718f487-d50d-445e-e476-4cbf09aa593d",
        "colab": {
          "base_uri": "https://localhost:8080/",
          "height": 33
        }
      },
      "source": [
        "textFile.value"
      ],
      "execution_count": 211,
      "outputs": [
        {
          "output_type": "execute_result",
          "data": {
            "text/plain": [
              "Column<b'value'>"
            ]
          },
          "metadata": {
            "tags": []
          },
          "execution_count": 211
        }
      ]
    },
    {
      "cell_type": "code",
      "metadata": {
        "id": "Y4XMKApd1jqu",
        "colab_type": "code",
        "outputId": "6485fdd0-ed58-4498-a732-4d39e243e1f6",
        "colab": {
          "base_uri": "https://localhost:8080/",
          "height": 33
        }
      },
      "source": [
        "textFile.filter(textFile.value.contains(\"Spark\")).count()  # How many lines contain \"Spark\"?"
      ],
      "execution_count": 212,
      "outputs": [
        {
          "output_type": "execute_result",
          "data": {
            "text/plain": [
              "19"
            ]
          },
          "metadata": {
            "tags": []
          },
          "execution_count": 212
        }
      ]
    },
    {
      "cell_type": "code",
      "metadata": {
        "id": "dbbtbCaw1pyO",
        "colab_type": "code",
        "outputId": "cb1d7bc4-0c6a-43f2-e45e-c0fcc32228d9",
        "colab": {
          "base_uri": "https://localhost:8080/",
          "height": 33
        }
      },
      "source": [
        "from pyspark.sql.functions import *\n",
        "textFile.select(size(split(textFile.value, \"\\s+\")).name(\"numWords\")).agg(max(col(\"numWords\"))).collect()"
      ],
      "execution_count": 213,
      "outputs": [
        {
          "output_type": "execute_result",
          "data": {
            "text/plain": [
              "[Row(max(numWords)=16)]"
            ]
          },
          "metadata": {
            "tags": []
          },
          "execution_count": 213
        }
      ]
    },
    {
      "cell_type": "code",
      "metadata": {
        "id": "m6ddT3CP1tsX",
        "colab_type": "code",
        "colab": {}
      },
      "source": [
        "wordCounts = textFile.select(explode(split(textFile.value, \"\\s+\")).alias(\"word\")).groupBy(\"word\").count()"
      ],
      "execution_count": 0,
      "outputs": []
    },
    {
      "cell_type": "code",
      "metadata": {
        "id": "cHsRiKqj10mu",
        "colab_type": "code",
        "outputId": "4d9a52b2-9859-4e54-f952-b9117b94fb55",
        "colab": {
          "base_uri": "https://localhost:8080/",
          "height": 1000
        }
      },
      "source": [
        "wordCounts.collect()"
      ],
      "execution_count": 215,
      "outputs": [
        {
          "output_type": "execute_result",
          "data": {
            "text/plain": [
              "[Row(word='online', count=1),\n",
              " Row(word='graphs', count=1),\n",
              " Row(word='[\"Building', count=1),\n",
              " Row(word='documentation', count=3),\n",
              " Row(word='command,', count=2),\n",
              " Row(word='abbreviated', count=1),\n",
              " Row(word='overview', count=1),\n",
              " Row(word='rich', count=1),\n",
              " Row(word='set', count=2),\n",
              " Row(word='-DskipTests', count=1),\n",
              " Row(word='name', count=1),\n",
              " Row(word='page](http://spark.apache.org/documentation.html).', count=1),\n",
              " Row(word='[\"Specifying', count=1),\n",
              " Row(word='stream', count=1),\n",
              " Row(word='run:', count=1),\n",
              " Row(word='not', count=1),\n",
              " Row(word='programs', count=2),\n",
              " Row(word='tests', count=2),\n",
              " Row(word='./dev/run-tests', count=1),\n",
              " Row(word='will', count=1),\n",
              " Row(word='[run', count=1),\n",
              " Row(word='particular', count=2),\n",
              " Row(word='Alternatively,', count=1),\n",
              " Row(word='must', count=1),\n",
              " Row(word='using', count=3),\n",
              " Row(word='you', count=4),\n",
              " Row(word='MLlib', count=1),\n",
              " Row(word='DataFrames,', count=1),\n",
              " Row(word='variable', count=1),\n",
              " Row(word='Note', count=1),\n",
              " Row(word='core', count=1),\n",
              " Row(word='protocols', count=1),\n",
              " Row(word='guidance', count=2),\n",
              " Row(word='shell:', count=2),\n",
              " Row(word='can', count=6),\n",
              " Row(word='site,', count=1),\n",
              " Row(word='systems.', count=1),\n",
              " Row(word='[building', count=1),\n",
              " Row(word='configure', count=1),\n",
              " Row(word='for', count=12),\n",
              " Row(word='README', count=1),\n",
              " Row(word='Interactive', count=2),\n",
              " Row(word='how', count=3),\n",
              " Row(word='[Configuration', count=1),\n",
              " Row(word='Hive', count=2),\n",
              " Row(word='system', count=1),\n",
              " Row(word='provides', count=1),\n",
              " Row(word='Hadoop-supported', count=1),\n",
              " Row(word='pre-built', count=1),\n",
              " Row(word='[\"Useful', count=1),\n",
              " Row(word='directory.', count=1),\n",
              " Row(word='Example', count=1),\n",
              " Row(word='example', count=3),\n",
              " Row(word='Kubernetes', count=1),\n",
              " Row(word='one', count=2),\n",
              " Row(word='MASTER', count=1),\n",
              " Row(word='in', count=5),\n",
              " Row(word='library', count=1),\n",
              " Row(word='Spark.', count=1),\n",
              " Row(word='contains', count=1),\n",
              " Row(word='Configuration', count=1),\n",
              " Row(word='programming', count=1),\n",
              " Row(word='with', count=3),\n",
              " Row(word='contributing', count=1),\n",
              " Row(word='downloaded', count=1),\n",
              " Row(word='1000).count()', count=1),\n",
              " Row(word='comes', count=1),\n",
              " Row(word='machine', count=1),\n",
              " Row(word='Tools\"](http://spark.apache.org/developer-tools.html).', count=1),\n",
              " Row(word='building', count=2),\n",
              " Row(word='params', count=1),\n",
              " Row(word='Guide](http://spark.apache.org/docs/latest/configuration.html)', count=1),\n",
              " Row(word='given.', count=1),\n",
              " Row(word='be', count=2),\n",
              " Row(word='same', count=1),\n",
              " Row(word='integration', count=1),\n",
              " Row(word='Programs', count=1),\n",
              " Row(word='locally', count=2),\n",
              " Row(word='using:', count=1),\n",
              " Row(word='fast', count=1),\n",
              " Row(word='[Apache', count=1),\n",
              " Row(word='your', count=1),\n",
              " Row(word='optimized', count=1),\n",
              " Row(word='Developer', count=1),\n",
              " Row(word='R,', count=1),\n",
              " Row(word='should', count=2),\n",
              " Row(word='graph', count=1),\n",
              " Row(word='package', count=1),\n",
              " Row(word='[project', count=1),\n",
              " Row(word='project', count=1),\n",
              " Row(word='`examples`', count=2),\n",
              " Row(word='resource-managers/kubernetes/integration-tests/README.md', count=1),\n",
              " Row(word='versions', count=1),\n",
              " Row(word='Spark](#building-spark).', count=1),\n",
              " Row(word='general', count=3),\n",
              " Row(word='other', count=1),\n",
              " Row(word='learning,', count=1),\n",
              " Row(word='when', count=1),\n",
              " Row(word='submit', count=1),\n",
              " Row(word='Apache', count=1),\n",
              " Row(word='1000:', count=2),\n",
              " Row(word='detailed', count=2),\n",
              " Row(word='About', count=1),\n",
              " Row(word='is', count=7),\n",
              " Row(word='on', count=7),\n",
              " Row(word='scala>', count=1),\n",
              " Row(word='print', count=1),\n",
              " Row(word='use', count=3),\n",
              " Row(word='different', count=1),\n",
              " Row(word='following', count=2),\n",
              " Row(word='SparkPi', count=2),\n",
              " Row(word='refer', count=2),\n",
              " Row(word='./bin/run-example', count=2),\n",
              " Row(word='data', count=1),\n",
              " Row(word='Tests', count=1),\n",
              " Row(word='Versions', count=1),\n",
              " Row(word='Data.', count=1),\n",
              " Row(word='processing.', count=1),\n",
              " Row(word='its', count=1),\n",
              " Row(word='basic', count=1),\n",
              " Row(word='latest', count=1),\n",
              " Row(word='only', count=1),\n",
              " Row(word='<class>', count=1),\n",
              " Row(word='have', count=1),\n",
              " Row(word='runs.', count=1),\n",
              " Row(word='You', count=3),\n",
              " Row(word='tips,', count=1),\n",
              " Row(word='project.', count=1),\n",
              " Row(word='developing', count=1),\n",
              " Row(word='YARN,', count=1),\n",
              " Row(word='It', count=2),\n",
              " Row(word='\"local\"', count=1),\n",
              " Row(word='processing,', count=1),\n",
              " Row(word='built', count=1),\n",
              " Row(word='Pi', count=1),\n",
              " Row(word='thread,', count=1),\n",
              " Row(word='A', count=1),\n",
              " Row(word='APIs', count=1),\n",
              " Row(word='Scala,', count=1),\n",
              " Row(word='file', count=1),\n",
              " Row(word='computation', count=1),\n",
              " Row(word='Once', count=1),\n",
              " Row(word='find', count=1),\n",
              " Row(word='the', count=23),\n",
              " Row(word='To', count=2),\n",
              " Row(word='sc.parallelize(1', count=1),\n",
              " Row(word='uses', count=1),\n",
              " Row(word='Version', count=1),\n",
              " Row(word='N', count=1),\n",
              " Row(word='programs,', count=1),\n",
              " Row(word='\"yarn\"', count=1),\n",
              " Row(word='see', count=3),\n",
              " Row(word='./bin/pyspark', count=1),\n",
              " Row(word='return', count=2),\n",
              " Row(word='computing', count=1),\n",
              " Row(word='Java,', count=1),\n",
              " Row(word='from', count=1),\n",
              " Row(word='Because', count=1),\n",
              " Row(word='cluster', count=2),\n",
              " Row(word='Streaming', count=1),\n",
              " Row(word='More', count=1),\n",
              " Row(word='analysis.', count=1),\n",
              " Row(word='Maven](http://maven.apache.org/).', count=1),\n",
              " Row(word='cluster.', count=1),\n",
              " Row(word='Running', count=1),\n",
              " Row(word='Please', count=4),\n",
              " Row(word='talk', count=1),\n",
              " Row(word='distributions.', count=1),\n",
              " Row(word='guide,', count=1),\n",
              " Row(word='tests](http://spark.apache.org/developer-tools.html#individual-tests).', count=1),\n",
              " Row(word='There', count=1),\n",
              " Row(word='\"local[N]\"', count=1),\n",
              " Row(word='Try', count=1),\n",
              " Row(word='and', count=10),\n",
              " Row(word='do', count=2),\n",
              " Row(word='Scala', count=2),\n",
              " Row(word='class', count=2),\n",
              " Row(word='build', count=3),\n",
              " Row(word='setup', count=1),\n",
              " Row(word='need', count=1),\n",
              " Row(word='spark://', count=1),\n",
              " Row(word='Hadoop,', count=2),\n",
              " Row(word='Thriftserver', count=1),\n",
              " Row(word='are', count=1),\n",
              " Row(word='requires', count=1),\n",
              " Row(word='package.', count=1),\n",
              " Row(word='Enabling', count=1),\n",
              " Row(word='clean', count=1),\n",
              " Row(word='sc.parallelize(range(1000)).count()', count=1),\n",
              " Row(word='high-level', count=1),\n",
              " Row(word='SQL', count=2),\n",
              " Row(word='against', count=1),\n",
              " Row(word='of', count=5),\n",
              " Row(word='through', count=1),\n",
              " Row(word='review', count=1),\n",
              " Row(word='package.)', count=1),\n",
              " Row(word='Python,', count=2),\n",
              " Row(word='easiest', count=1),\n",
              " Row(word='no', count=1),\n",
              " Row(word='Testing', count=1),\n",
              " Row(word='several', count=1),\n",
              " Row(word='help', count=1),\n",
              " Row(word='The', count=1),\n",
              " Row(word='sample', count=1),\n",
              " Row(word='MASTER=spark://host:7077', count=1),\n",
              " Row(word='Big', count=1),\n",
              " Row(word='examples', count=2),\n",
              " Row(word='an', count=4),\n",
              " Row(word='#', count=1),\n",
              " Row(word='Online', count=1),\n",
              " Row(word='test,', count=1),\n",
              " Row(word='including', count=4),\n",
              " Row(word='usage', count=1),\n",
              " Row(word='Python', count=2),\n",
              " Row(word='at', count=2),\n",
              " Row(word='development', count=1),\n",
              " Row(word='Spark\"](http://spark.apache.org/docs/latest/building-spark.html).', count=1),\n",
              " Row(word='IDE,', count=1),\n",
              " Row(word='way', count=1),\n",
              " Row(word='Contributing', count=1),\n",
              " Row(word='get', count=1),\n",
              " Row(word='that', count=2),\n",
              " Row(word='##', count=9),\n",
              " Row(word='For', count=3),\n",
              " Row(word='prefer', count=1),\n",
              " Row(word='This', count=2),\n",
              " Row(word='build/mvn', count=1),\n",
              " Row(word='running', count=1),\n",
              " Row(word='web', count=1),\n",
              " Row(word='run', count=7),\n",
              " Row(word='locally.', count=1),\n",
              " Row(word='Spark', count=15),\n",
              " Row(word='URL,', count=1),\n",
              " Row(word='a', count=9),\n",
              " Row(word='higher-level', count=1),\n",
              " Row(word='tools', count=1),\n",
              " Row(word='if', count=4),\n",
              " Row(word='available', count=1),\n",
              " Row(word='', count=48),\n",
              " Row(word='Documentation', count=1),\n",
              " Row(word='this', count=1),\n",
              " Row(word='(You', count=1),\n",
              " Row(word='>>>', count=1),\n",
              " Row(word='information', count=1),\n",
              " Row(word='info', count=1),\n",
              " Row(word='<http://spark.apache.org/>', count=1),\n",
              " Row(word='Shell', count=2),\n",
              " Row(word='environment', count=1),\n",
              " Row(word='built,', count=1),\n",
              " Row(word='module,', count=1),\n",
              " Row(word='them,', count=1),\n",
              " Row(word='`./bin/run-example', count=1),\n",
              " Row(word='instance:', count=1),\n",
              " Row(word='first', count=1),\n",
              " Row(word='[Contribution', count=1),\n",
              " Row(word='guide](http://spark.apache.org/contributing.html)', count=1),\n",
              " Row(word='documentation,', count=1),\n",
              " Row(word='[params]`.', count=1),\n",
              " Row(word='mesos://', count=1),\n",
              " Row(word='engine', count=1),\n",
              " Row(word='GraphX', count=1),\n",
              " Row(word='example:', count=1),\n",
              " Row(word='HDFS', count=1),\n",
              " Row(word='YARN\"](http://spark.apache.org/docs/latest/building-spark.html#specifying-the-hadoop-version-and-enabling-yarn)', count=1),\n",
              " Row(word='or', count=3),\n",
              " Row(word='to', count=17),\n",
              " Row(word='Hadoop', count=3),\n",
              " Row(word='individual', count=1),\n",
              " Row(word='also', count=5),\n",
              " Row(word='changed', count=1),\n",
              " Row(word='started', count=1),\n",
              " Row(word='./bin/spark-shell', count=1),\n",
              " Row(word='threads.', count=1),\n",
              " Row(word='supports', count=2),\n",
              " Row(word='storage', count=1),\n",
              " Row(word='version', count=1),\n",
              " Row(word='instructions.', count=1),\n",
              " Row(word='Building', count=1),\n",
              " Row(word='start', count=1),\n",
              " Row(word='Many', count=1),\n",
              " Row(word='which', count=2),\n",
              " Row(word='And', count=1),\n",
              " Row(word='distribution', count=1)]"
            ]
          },
          "metadata": {
            "tags": []
          },
          "execution_count": 215
        }
      ]
    },
    {
      "cell_type": "code",
      "metadata": {
        "id": "YTD0JVoe2Amm",
        "colab_type": "code",
        "colab": {}
      },
      "source": [
        "linesWithSpark = textFile.filter(textFile.value.contains(\"Spark\"))"
      ],
      "execution_count": 0,
      "outputs": []
    },
    {
      "cell_type": "code",
      "metadata": {
        "id": "AL3jrdoq2IBO",
        "colab_type": "code",
        "outputId": "57308053-30bb-42e4-bee9-bbee572a846d",
        "colab": {
          "base_uri": "https://localhost:8080/",
          "height": 33
        }
      },
      "source": [
        "textFile.filter(textFile.value.contains(\"Spark\")).count()  # How many lines contain \"Spark\"?"
      ],
      "execution_count": 217,
      "outputs": [
        {
          "output_type": "execute_result",
          "data": {
            "text/plain": [
              "19"
            ]
          },
          "metadata": {
            "tags": []
          },
          "execution_count": 217
        }
      ]
    },
    {
      "cell_type": "code",
      "metadata": {
        "id": "RVJx4TSq2KOd",
        "colab_type": "code",
        "outputId": "13c9c8f7-1466-4913-c180-f3fb1e19e8f3",
        "colab": {
          "base_uri": "https://localhost:8080/",
          "height": 33
        }
      },
      "source": [
        "from pyspark.sql.functions import *\n",
        "textFile.select(size(split(textFile.value, \"\\s+\")).name(\"numWords\")).agg(max(col(\"numWords\"))).collect()"
      ],
      "execution_count": 218,
      "outputs": [
        {
          "output_type": "execute_result",
          "data": {
            "text/plain": [
              "[Row(max(numWords)=16)]"
            ]
          },
          "metadata": {
            "tags": []
          },
          "execution_count": 218
        }
      ]
    },
    {
      "cell_type": "code",
      "metadata": {
        "id": "P8t1tWm92NBe",
        "colab_type": "code",
        "colab": {}
      },
      "source": [
        "wordCounts = textFile.select(explode(split(textFile.value, \"\\s+\")).alias(\"word\")).groupBy(\"word\").count()"
      ],
      "execution_count": 0,
      "outputs": []
    },
    {
      "cell_type": "code",
      "metadata": {
        "id": "aHTn7ECR2Q49",
        "colab_type": "code",
        "outputId": "60781669-1db8-4846-916b-5dd36724cfa8",
        "colab": {
          "base_uri": "https://localhost:8080/",
          "height": 1000
        }
      },
      "source": [
        "wordCounts.collect()"
      ],
      "execution_count": 220,
      "outputs": [
        {
          "output_type": "execute_result",
          "data": {
            "text/plain": [
              "[Row(word='online', count=1),\n",
              " Row(word='graphs', count=1),\n",
              " Row(word='[\"Building', count=1),\n",
              " Row(word='documentation', count=3),\n",
              " Row(word='command,', count=2),\n",
              " Row(word='abbreviated', count=1),\n",
              " Row(word='overview', count=1),\n",
              " Row(word='rich', count=1),\n",
              " Row(word='set', count=2),\n",
              " Row(word='-DskipTests', count=1),\n",
              " Row(word='name', count=1),\n",
              " Row(word='page](http://spark.apache.org/documentation.html).', count=1),\n",
              " Row(word='[\"Specifying', count=1),\n",
              " Row(word='stream', count=1),\n",
              " Row(word='run:', count=1),\n",
              " Row(word='not', count=1),\n",
              " Row(word='programs', count=2),\n",
              " Row(word='tests', count=2),\n",
              " Row(word='./dev/run-tests', count=1),\n",
              " Row(word='will', count=1),\n",
              " Row(word='[run', count=1),\n",
              " Row(word='particular', count=2),\n",
              " Row(word='Alternatively,', count=1),\n",
              " Row(word='must', count=1),\n",
              " Row(word='using', count=3),\n",
              " Row(word='you', count=4),\n",
              " Row(word='MLlib', count=1),\n",
              " Row(word='DataFrames,', count=1),\n",
              " Row(word='variable', count=1),\n",
              " Row(word='Note', count=1),\n",
              " Row(word='core', count=1),\n",
              " Row(word='protocols', count=1),\n",
              " Row(word='guidance', count=2),\n",
              " Row(word='shell:', count=2),\n",
              " Row(word='can', count=6),\n",
              " Row(word='site,', count=1),\n",
              " Row(word='systems.', count=1),\n",
              " Row(word='[building', count=1),\n",
              " Row(word='configure', count=1),\n",
              " Row(word='for', count=12),\n",
              " Row(word='README', count=1),\n",
              " Row(word='Interactive', count=2),\n",
              " Row(word='how', count=3),\n",
              " Row(word='[Configuration', count=1),\n",
              " Row(word='Hive', count=2),\n",
              " Row(word='system', count=1),\n",
              " Row(word='provides', count=1),\n",
              " Row(word='Hadoop-supported', count=1),\n",
              " Row(word='pre-built', count=1),\n",
              " Row(word='[\"Useful', count=1),\n",
              " Row(word='directory.', count=1),\n",
              " Row(word='Example', count=1),\n",
              " Row(word='example', count=3),\n",
              " Row(word='Kubernetes', count=1),\n",
              " Row(word='one', count=2),\n",
              " Row(word='MASTER', count=1),\n",
              " Row(word='in', count=5),\n",
              " Row(word='library', count=1),\n",
              " Row(word='Spark.', count=1),\n",
              " Row(word='contains', count=1),\n",
              " Row(word='Configuration', count=1),\n",
              " Row(word='programming', count=1),\n",
              " Row(word='with', count=3),\n",
              " Row(word='contributing', count=1),\n",
              " Row(word='downloaded', count=1),\n",
              " Row(word='1000).count()', count=1),\n",
              " Row(word='comes', count=1),\n",
              " Row(word='machine', count=1),\n",
              " Row(word='Tools\"](http://spark.apache.org/developer-tools.html).', count=1),\n",
              " Row(word='building', count=2),\n",
              " Row(word='params', count=1),\n",
              " Row(word='Guide](http://spark.apache.org/docs/latest/configuration.html)', count=1),\n",
              " Row(word='given.', count=1),\n",
              " Row(word='be', count=2),\n",
              " Row(word='same', count=1),\n",
              " Row(word='integration', count=1),\n",
              " Row(word='Programs', count=1),\n",
              " Row(word='locally', count=2),\n",
              " Row(word='using:', count=1),\n",
              " Row(word='fast', count=1),\n",
              " Row(word='[Apache', count=1),\n",
              " Row(word='your', count=1),\n",
              " Row(word='optimized', count=1),\n",
              " Row(word='Developer', count=1),\n",
              " Row(word='R,', count=1),\n",
              " Row(word='should', count=2),\n",
              " Row(word='graph', count=1),\n",
              " Row(word='package', count=1),\n",
              " Row(word='[project', count=1),\n",
              " Row(word='project', count=1),\n",
              " Row(word='`examples`', count=2),\n",
              " Row(word='resource-managers/kubernetes/integration-tests/README.md', count=1),\n",
              " Row(word='versions', count=1),\n",
              " Row(word='Spark](#building-spark).', count=1),\n",
              " Row(word='general', count=3),\n",
              " Row(word='other', count=1),\n",
              " Row(word='learning,', count=1),\n",
              " Row(word='when', count=1),\n",
              " Row(word='submit', count=1),\n",
              " Row(word='Apache', count=1),\n",
              " Row(word='1000:', count=2),\n",
              " Row(word='detailed', count=2),\n",
              " Row(word='About', count=1),\n",
              " Row(word='is', count=7),\n",
              " Row(word='on', count=7),\n",
              " Row(word='scala>', count=1),\n",
              " Row(word='print', count=1),\n",
              " Row(word='use', count=3),\n",
              " Row(word='different', count=1),\n",
              " Row(word='following', count=2),\n",
              " Row(word='SparkPi', count=2),\n",
              " Row(word='refer', count=2),\n",
              " Row(word='./bin/run-example', count=2),\n",
              " Row(word='data', count=1),\n",
              " Row(word='Tests', count=1),\n",
              " Row(word='Versions', count=1),\n",
              " Row(word='Data.', count=1),\n",
              " Row(word='processing.', count=1),\n",
              " Row(word='its', count=1),\n",
              " Row(word='basic', count=1),\n",
              " Row(word='latest', count=1),\n",
              " Row(word='only', count=1),\n",
              " Row(word='<class>', count=1),\n",
              " Row(word='have', count=1),\n",
              " Row(word='runs.', count=1),\n",
              " Row(word='You', count=3),\n",
              " Row(word='tips,', count=1),\n",
              " Row(word='project.', count=1),\n",
              " Row(word='developing', count=1),\n",
              " Row(word='YARN,', count=1),\n",
              " Row(word='It', count=2),\n",
              " Row(word='\"local\"', count=1),\n",
              " Row(word='processing,', count=1),\n",
              " Row(word='built', count=1),\n",
              " Row(word='Pi', count=1),\n",
              " Row(word='thread,', count=1),\n",
              " Row(word='A', count=1),\n",
              " Row(word='APIs', count=1),\n",
              " Row(word='Scala,', count=1),\n",
              " Row(word='file', count=1),\n",
              " Row(word='computation', count=1),\n",
              " Row(word='Once', count=1),\n",
              " Row(word='find', count=1),\n",
              " Row(word='the', count=23),\n",
              " Row(word='To', count=2),\n",
              " Row(word='sc.parallelize(1', count=1),\n",
              " Row(word='uses', count=1),\n",
              " Row(word='Version', count=1),\n",
              " Row(word='N', count=1),\n",
              " Row(word='programs,', count=1),\n",
              " Row(word='\"yarn\"', count=1),\n",
              " Row(word='see', count=3),\n",
              " Row(word='./bin/pyspark', count=1),\n",
              " Row(word='return', count=2),\n",
              " Row(word='computing', count=1),\n",
              " Row(word='Java,', count=1),\n",
              " Row(word='from', count=1),\n",
              " Row(word='Because', count=1),\n",
              " Row(word='cluster', count=2),\n",
              " Row(word='Streaming', count=1),\n",
              " Row(word='More', count=1),\n",
              " Row(word='analysis.', count=1),\n",
              " Row(word='Maven](http://maven.apache.org/).', count=1),\n",
              " Row(word='cluster.', count=1),\n",
              " Row(word='Running', count=1),\n",
              " Row(word='Please', count=4),\n",
              " Row(word='talk', count=1),\n",
              " Row(word='distributions.', count=1),\n",
              " Row(word='guide,', count=1),\n",
              " Row(word='tests](http://spark.apache.org/developer-tools.html#individual-tests).', count=1),\n",
              " Row(word='There', count=1),\n",
              " Row(word='\"local[N]\"', count=1),\n",
              " Row(word='Try', count=1),\n",
              " Row(word='and', count=10),\n",
              " Row(word='do', count=2),\n",
              " Row(word='Scala', count=2),\n",
              " Row(word='class', count=2),\n",
              " Row(word='build', count=3),\n",
              " Row(word='setup', count=1),\n",
              " Row(word='need', count=1),\n",
              " Row(word='spark://', count=1),\n",
              " Row(word='Hadoop,', count=2),\n",
              " Row(word='Thriftserver', count=1),\n",
              " Row(word='are', count=1),\n",
              " Row(word='requires', count=1),\n",
              " Row(word='package.', count=1),\n",
              " Row(word='Enabling', count=1),\n",
              " Row(word='clean', count=1),\n",
              " Row(word='sc.parallelize(range(1000)).count()', count=1),\n",
              " Row(word='high-level', count=1),\n",
              " Row(word='SQL', count=2),\n",
              " Row(word='against', count=1),\n",
              " Row(word='of', count=5),\n",
              " Row(word='through', count=1),\n",
              " Row(word='review', count=1),\n",
              " Row(word='package.)', count=1),\n",
              " Row(word='Python,', count=2),\n",
              " Row(word='easiest', count=1),\n",
              " Row(word='no', count=1),\n",
              " Row(word='Testing', count=1),\n",
              " Row(word='several', count=1),\n",
              " Row(word='help', count=1),\n",
              " Row(word='The', count=1),\n",
              " Row(word='sample', count=1),\n",
              " Row(word='MASTER=spark://host:7077', count=1),\n",
              " Row(word='Big', count=1),\n",
              " Row(word='examples', count=2),\n",
              " Row(word='an', count=4),\n",
              " Row(word='#', count=1),\n",
              " Row(word='Online', count=1),\n",
              " Row(word='test,', count=1),\n",
              " Row(word='including', count=4),\n",
              " Row(word='usage', count=1),\n",
              " Row(word='Python', count=2),\n",
              " Row(word='at', count=2),\n",
              " Row(word='development', count=1),\n",
              " Row(word='Spark\"](http://spark.apache.org/docs/latest/building-spark.html).', count=1),\n",
              " Row(word='IDE,', count=1),\n",
              " Row(word='way', count=1),\n",
              " Row(word='Contributing', count=1),\n",
              " Row(word='get', count=1),\n",
              " Row(word='that', count=2),\n",
              " Row(word='##', count=9),\n",
              " Row(word='For', count=3),\n",
              " Row(word='prefer', count=1),\n",
              " Row(word='This', count=2),\n",
              " Row(word='build/mvn', count=1),\n",
              " Row(word='running', count=1),\n",
              " Row(word='web', count=1),\n",
              " Row(word='run', count=7),\n",
              " Row(word='locally.', count=1),\n",
              " Row(word='Spark', count=15),\n",
              " Row(word='URL,', count=1),\n",
              " Row(word='a', count=9),\n",
              " Row(word='higher-level', count=1),\n",
              " Row(word='tools', count=1),\n",
              " Row(word='if', count=4),\n",
              " Row(word='available', count=1),\n",
              " Row(word='', count=48),\n",
              " Row(word='Documentation', count=1),\n",
              " Row(word='this', count=1),\n",
              " Row(word='(You', count=1),\n",
              " Row(word='>>>', count=1),\n",
              " Row(word='information', count=1),\n",
              " Row(word='info', count=1),\n",
              " Row(word='<http://spark.apache.org/>', count=1),\n",
              " Row(word='Shell', count=2),\n",
              " Row(word='environment', count=1),\n",
              " Row(word='built,', count=1),\n",
              " Row(word='module,', count=1),\n",
              " Row(word='them,', count=1),\n",
              " Row(word='`./bin/run-example', count=1),\n",
              " Row(word='instance:', count=1),\n",
              " Row(word='first', count=1),\n",
              " Row(word='[Contribution', count=1),\n",
              " Row(word='guide](http://spark.apache.org/contributing.html)', count=1),\n",
              " Row(word='documentation,', count=1),\n",
              " Row(word='[params]`.', count=1),\n",
              " Row(word='mesos://', count=1),\n",
              " Row(word='engine', count=1),\n",
              " Row(word='GraphX', count=1),\n",
              " Row(word='example:', count=1),\n",
              " Row(word='HDFS', count=1),\n",
              " Row(word='YARN\"](http://spark.apache.org/docs/latest/building-spark.html#specifying-the-hadoop-version-and-enabling-yarn)', count=1),\n",
              " Row(word='or', count=3),\n",
              " Row(word='to', count=17),\n",
              " Row(word='Hadoop', count=3),\n",
              " Row(word='individual', count=1),\n",
              " Row(word='also', count=5),\n",
              " Row(word='changed', count=1),\n",
              " Row(word='started', count=1),\n",
              " Row(word='./bin/spark-shell', count=1),\n",
              " Row(word='threads.', count=1),\n",
              " Row(word='supports', count=2),\n",
              " Row(word='storage', count=1),\n",
              " Row(word='version', count=1),\n",
              " Row(word='instructions.', count=1),\n",
              " Row(word='Building', count=1),\n",
              " Row(word='start', count=1),\n",
              " Row(word='Many', count=1),\n",
              " Row(word='which', count=2),\n",
              " Row(word='And', count=1),\n",
              " Row(word='distribution', count=1)]"
            ]
          },
          "metadata": {
            "tags": []
          },
          "execution_count": 220
        }
      ]
    },
    {
      "cell_type": "code",
      "metadata": {
        "id": "DxyXKtqd2SoV",
        "colab_type": "code",
        "outputId": "a44681ea-40f6-4927-e989-c7d9d87cc08d",
        "colab": {
          "base_uri": "https://localhost:8080/",
          "height": 33
        }
      },
      "source": [
        "linesWithSpark.cache()"
      ],
      "execution_count": 221,
      "outputs": [
        {
          "output_type": "execute_result",
          "data": {
            "text/plain": [
              "DataFrame[value: string]"
            ]
          },
          "metadata": {
            "tags": []
          },
          "execution_count": 221
        }
      ]
    },
    {
      "cell_type": "code",
      "metadata": {
        "id": "PGc-Ffxy2Ut9",
        "colab_type": "code",
        "outputId": "2d17d876-e7ca-492c-cc63-57166753738a",
        "colab": {
          "base_uri": "https://localhost:8080/",
          "height": 33
        }
      },
      "source": [
        "linesWithSpark.count()"
      ],
      "execution_count": 222,
      "outputs": [
        {
          "output_type": "execute_result",
          "data": {
            "text/plain": [
              "19"
            ]
          },
          "metadata": {
            "tags": []
          },
          "execution_count": 222
        }
      ]
    },
    {
      "cell_type": "markdown",
      "metadata": {
        "id": "XvPG2gymGQrU",
        "colab_type": "text"
      },
      "source": [
        "# Example-X"
      ]
    },
    {
      "cell_type": "code",
      "metadata": {
        "id": "gJXXVLJT_QHj",
        "colab_type": "code",
        "colab": {}
      },
      "source": [
        "df = spark.read.json(\"/content/spark-2.4.5-bin-hadoop2.7/examples/src/main/resources/people.json\")"
      ],
      "execution_count": 0,
      "outputs": []
    },
    {
      "cell_type": "code",
      "metadata": {
        "id": "vq5TSwgIGNM7",
        "colab_type": "code",
        "outputId": "e9b456b8-fcb0-40ba-afbf-2659b7bfb8d7",
        "colab": {
          "base_uri": "https://localhost:8080/",
          "height": 33
        }
      },
      "source": [
        "df"
      ],
      "execution_count": 224,
      "outputs": [
        {
          "output_type": "execute_result",
          "data": {
            "text/plain": [
              "DataFrame[age: bigint, name: string]"
            ]
          },
          "metadata": {
            "tags": []
          },
          "execution_count": 224
        }
      ]
    },
    {
      "cell_type": "code",
      "metadata": {
        "id": "2Zo_g4ayGNyU",
        "colab_type": "code",
        "outputId": "83cf1478-e505-45a5-cf0b-cdb4affc0c20",
        "colab": {
          "base_uri": "https://localhost:8080/",
          "height": 150
        }
      },
      "source": [
        "df.show()"
      ],
      "execution_count": 225,
      "outputs": [
        {
          "output_type": "stream",
          "text": [
            "+----+-------+\n",
            "| age|   name|\n",
            "+----+-------+\n",
            "|null|Michael|\n",
            "|  30|   Andy|\n",
            "|  19| Justin|\n",
            "+----+-------+\n",
            "\n"
          ],
          "name": "stdout"
        }
      ]
    },
    {
      "cell_type": "code",
      "metadata": {
        "id": "c71Y_bwPGPE8",
        "colab_type": "code",
        "outputId": "5a16abcc-169a-4c12-ae95-05d6f82c8863",
        "colab": {
          "base_uri": "https://localhost:8080/",
          "height": 84
        }
      },
      "source": [
        "df.printSchema()"
      ],
      "execution_count": 226,
      "outputs": [
        {
          "output_type": "stream",
          "text": [
            "root\n",
            " |-- age: long (nullable = true)\n",
            " |-- name: string (nullable = true)\n",
            "\n"
          ],
          "name": "stdout"
        }
      ]
    },
    {
      "cell_type": "code",
      "metadata": {
        "id": "nQUqu6NpGWzU",
        "colab_type": "code",
        "outputId": "d2f6c146-5da6-4521-b5dd-43531defaaaa",
        "colab": {
          "base_uri": "https://localhost:8080/",
          "height": 150
        }
      },
      "source": [
        "df.select(\"name\").show()"
      ],
      "execution_count": 227,
      "outputs": [
        {
          "output_type": "stream",
          "text": [
            "+-------+\n",
            "|   name|\n",
            "+-------+\n",
            "|Michael|\n",
            "|   Andy|\n",
            "| Justin|\n",
            "+-------+\n",
            "\n"
          ],
          "name": "stdout"
        }
      ]
    },
    {
      "cell_type": "code",
      "metadata": {
        "id": "4fbTmED4GZG9",
        "colab_type": "code",
        "outputId": "0831748b-ad81-483a-b9bf-3e767b2454f2",
        "colab": {
          "base_uri": "https://localhost:8080/",
          "height": 150
        }
      },
      "source": [
        "# Select everybody, but increment the age by 1\n",
        "df.select(df['name'], df['age'] + 1).show()"
      ],
      "execution_count": 228,
      "outputs": [
        {
          "output_type": "stream",
          "text": [
            "+-------+---------+\n",
            "|   name|(age + 1)|\n",
            "+-------+---------+\n",
            "|Michael|     null|\n",
            "|   Andy|       31|\n",
            "| Justin|       20|\n",
            "+-------+---------+\n",
            "\n"
          ],
          "name": "stdout"
        }
      ]
    },
    {
      "cell_type": "code",
      "metadata": {
        "id": "ZwUkGjjNGbE8",
        "colab_type": "code",
        "outputId": "bbc77661-50e0-4ed7-8c1f-510c543b5a49",
        "colab": {
          "base_uri": "https://localhost:8080/",
          "height": 117
        }
      },
      "source": [
        "# Select people older than 21\n",
        "df.filter(df['age'] > 21).show()"
      ],
      "execution_count": 229,
      "outputs": [
        {
          "output_type": "stream",
          "text": [
            "+---+----+\n",
            "|age|name|\n",
            "+---+----+\n",
            "| 30|Andy|\n",
            "+---+----+\n",
            "\n"
          ],
          "name": "stdout"
        }
      ]
    },
    {
      "cell_type": "code",
      "metadata": {
        "id": "_mS7LudxGdZ0",
        "colab_type": "code",
        "outputId": "a83234bb-1c03-4c42-beaf-f809db9d3f04",
        "colab": {
          "base_uri": "https://localhost:8080/",
          "height": 150
        }
      },
      "source": [
        "# Count people by age\n",
        "df.groupBy(\"age\").count().show()"
      ],
      "execution_count": 230,
      "outputs": [
        {
          "output_type": "stream",
          "text": [
            "+----+-----+\n",
            "| age|count|\n",
            "+----+-----+\n",
            "|  19|    1|\n",
            "|null|    1|\n",
            "|  30|    1|\n",
            "+----+-----+\n",
            "\n"
          ],
          "name": "stdout"
        }
      ]
    },
    {
      "cell_type": "code",
      "metadata": {
        "id": "bk3jijJQGfN0",
        "colab_type": "code",
        "outputId": "80d039aa-d624-409e-fe93-ffea01f1dd50",
        "colab": {
          "base_uri": "https://localhost:8080/",
          "height": 150
        }
      },
      "source": [
        "# Register the DataFrame as a SQL temporary view\n",
        "df.createOrReplaceTempView(\"people\")\n",
        "\n",
        "sqlDF = spark.sql(\"SELECT * FROM people\")\n",
        "sqlDF.show()\n"
      ],
      "execution_count": 232,
      "outputs": [
        {
          "output_type": "stream",
          "text": [
            "+----+-------+\n",
            "| age|   name|\n",
            "+----+-------+\n",
            "|null|Michael|\n",
            "|  30|   Andy|\n",
            "|  19| Justin|\n",
            "+----+-------+\n",
            "\n"
          ],
          "name": "stdout"
        }
      ]
    },
    {
      "cell_type": "code",
      "metadata": {
        "id": "GN721pArmh7_",
        "colab_type": "code",
        "colab": {}
      },
      "source": [
        ""
      ],
      "execution_count": 0,
      "outputs": []
    }
  ]
}